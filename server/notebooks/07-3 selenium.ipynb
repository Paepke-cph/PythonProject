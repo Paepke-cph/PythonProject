{
 "cells": [
  {
   "cell_type": "markdown",
   "metadata": {
    "slideshow": {
     "slide_type": "slide"
    }
   },
   "source": [
    "# Selenium\n",
    "\n",
    "\n",
    "Where did the names and addresses in the previous exercise come from?\n",
    "\n",
    "**They are scraped from the web via a small Selenium script**\n",
    "\n",
    "A similar program, that would allow us to receive all URLs from www.kulturnaut.dk by clicking on the *\"Next page...\"* links, is here: [selenium_clicker.py](modules/selenium_clicker.py). \n"
   ]
  },
  {
   "cell_type": "markdown",
   "metadata": {
    "slideshow": {
     "slide_type": "slide"
    }
   },
   "source": [
    "## What is Selenium?\n",
    "\n",
    "> Selenium automates browsers. That's it! What you do with that power is entirely up to you. Primarily, it is for automating web applications for testing purposes, but is certainly not limited to just that. Boring web-based administration tasks can (and should!) also be automated as well.\n",
    "http://docs.seleniumhq.org\n",
    "\n"
   ]
  },
  {
   "cell_type": "markdown",
   "metadata": {
    "slideshow": {
     "slide_type": "slide"
    }
   },
   "source": [
    "## Automatically Finding Names, addresses and numbers\n",
    "\n",
    "If you run the [selenium_krak.py](modules/selenium_krak.py) script from the command line, you will observe, that it opens a Firefox window, enters a search string (*\"Møller\"*), clicks the links *\"Personer\"* to search for persons only, and finally it prints the HTML sources of the page.\n"
   ]
  },
  {
   "cell_type": "code",
   "execution_count": 5,
   "metadata": {},
   "outputs": [
    {
     "name": "stdout",
     "output_type": "stream",
     "text": [
      "Cookie Button <selenium.webdriver.firefox.webelement.FirefoxWebElement (session=\"fd33a2b1-2d69-46f3-852a-818573811cd0\", element=\"682b0e53-c2aa-4938-97f4-0302abc7033a\")>\n",
      "<selenium.webdriver.firefox.webelement.FirefoxWebElement (session=\"fd33a2b1-2d69-46f3-852a-818573811cd0\", element=\"ff8c72c8-144f-4d85-b836-b6a7302f707a\")>\n"
     ]
    }
   ],
   "source": [
    "from modules import selenium_krak\n",
    "res = selenium_krak.get_info('Møller')"
   ]
  },
  {
   "cell_type": "code",
   "execution_count": 6,
   "metadata": {},
   "outputs": [
    {
     "name": "stdout",
     "output_type": "stream",
     "text": [
      "A Henning Gamborg Møller\n",
      " Klostergade 28 \n",
      " 6760 Ribe \n",
      "61 69 03...\n",
      "\n",
      "A K Møller\n",
      " Bregnerødvej 75, st. 0002 \n",
      " 3460 Birkerød \n",
      "75 50 75...\n",
      "\n",
      "A Møller\n",
      " Dalstræde 11 \n",
      " Heltborg \n",
      "97 95 20...\n",
      "\n",
      "A Møller\n",
      " Vestergade 62, 3. 0410 \n",
      " 8900 Randers C \n",
      "86 45 44...\n",
      "\n",
      "A Møller\n",
      " Jørgensgaardvej 13 \n",
      " 6240 Løgumkloster \n",
      "74 74 36...\n",
      "\n",
      "A Møller Andersen\n",
      " Gammel Holtevej 60 \n",
      " Gl Holte \n",
      "45 80 47...\n",
      "\n",
      "A Møller Jensen\n",
      " Viborgvej 115, 1. tv \n",
      " Hasle \n",
      "60 94 39...2\n",
      "\n",
      "A Møller Sørensen\n",
      " Korsørgade 4, 6. tv \n",
      " 2100 København Ø \n",
      "35 38 97...\n",
      "\n",
      "A Porse Møller\n",
      " Røddikvej 60 \n",
      " 8464 Galten \n",
      "86 94 66...\n",
      "\n",
      "Aage Bojsen-Møller\n",
      " Noret 3 \n",
      " 4780 Stege \n",
      "55 81 46...\n",
      "\n",
      "Aage Christian Møller Andersen\n",
      " Jordemodervej 7 \n",
      " Bislev \n",
      "64 66 01...3\n",
      "\n",
      "Aage Hansen Møller\n",
      " Filippavej 38 \n",
      " Hundstrup \n",
      "62 24 10...\n",
      "\n",
      "Aage Majbom Møller\n",
      " Pilelunden 23 \n",
      " 5550 Langeskov \n",
      "28 59 06...\n",
      "\n",
      "Aage Martin Møller\n",
      " Almind Østergade 15A, 1. tv \n",
      " 6051 Almind \n",
      "21 48 73...\n",
      "\n",
      "Aage Møller\n",
      " Nordvestvej 5A, st. \n",
      " 4300 Holbæk \n",
      "20 94 43...2\n",
      "\n",
      "Aage Møller\n",
      " Knudsvej 1 \n",
      " 8586 Ørum Djurs \n",
      "40 10 80...\n",
      "\n",
      "Aage Møller\n",
      " Ørritslev Gade 7 \n",
      " Ørritslev \n",
      "64 82 11...\n",
      "\n",
      "Aage Møller\n",
      " Bjarkesvej 8 \n",
      " 8960 Randers SØ \n",
      "86 43 23...2\n",
      "\n",
      "Aage Møller\n",
      " Skovvej 20 \n",
      " Vorup \n",
      "86 43 48...\n",
      "\n",
      "Aage Møller\n",
      " Fruevej 4 \n",
      " 7900 Nykøbing M \n",
      "21 79 64...2\n",
      "\n",
      "Aage Møller\n",
      " Hammelmosevej 12 \n",
      " 9700 Brønderslev \n",
      "60 45 79...\n",
      "\n",
      "Aage Møller\n",
      " Tvedvej 37, 2. th \n",
      " 6000 Kolding \n",
      "30 29 31...\n",
      "\n",
      "Aage Møller\n",
      " Birkevej 6 \n",
      " 8370 Hadsten \n",
      "29 68 03...\n",
      "\n",
      "Aage Møller\n",
      " Mimersgade 4B, st. th \n",
      " 8700 Horsens \n",
      "22 79 44...\n",
      "\n",
      "Aage Møller Andersen\n",
      " Åstbyvej 17 \n",
      " Åst \n",
      "21 85 71...\n",
      "\n"
     ]
    }
   ],
   "source": [
    "for person in res:\n",
    "    print(person)"
   ]
  },
  {
   "cell_type": "code",
   "execution_count": 3,
   "metadata": {},
   "outputs": [
    {
     "name": "stdout",
     "output_type": "stream",
     "text": [
      "3.141.0\n"
     ]
    }
   ],
   "source": [
    "import selenium\n",
    "print(selenium.__version__)"
   ]
  },
  {
   "cell_type": "code",
   "execution_count": 4,
   "metadata": {},
   "outputs": [
    {
     "data": {
      "text/plain": [
       "'There were 25 Møller on the first page'"
      ]
     },
     "execution_count": 4,
     "metadata": {},
     "output_type": "execute_result"
    }
   ],
   "source": [
    "'There were {} Møller on the first page'.format(len(res)) "
   ]
  },
  {
   "cell_type": "markdown",
   "metadata": {
    "slideshow": {
     "slide_type": "slide"
    }
   },
   "source": [
    "## Controlling the Browser with the `selenium` Module\n",
    "\n",
    "The `selenium` module lets Python directly control the browser by programatically clicking links and filling in login information, almost as though there is a human user interacting with the page. Selenium allows you to interact with web pages in a much more advanced way than Requests and Beautiful Soup; but because it launches a web browser, it is a bit slower and hard to run in the background if, say, you just need to download some files from the Web.\n"
   ]
  },
  {
   "cell_type": "markdown",
   "metadata": {
    "slideshow": {
     "slide_type": "slide"
    }
   },
   "source": [
    "### Starting a Selenium-Controlled Browser\n",
    "\n",
    "```python\n",
    "from selenium import webdriver\n",
    "\n",
    "\n",
    "browser = webdriver.Firefox()\n",
    "browser.get('http://www.krak.dk')\n",
    "```"
   ]
  },
  {
   "cell_type": "markdown",
   "metadata": {
    "slideshow": {
     "slide_type": "slide"
    }
   },
   "source": [
    "### Finding Elements on the Page\n",
    "\n",
    "WebDriver objects have quite a few methods for finding elements on a page. They are divided into the `find_element_*` and `find_elements_*` methods. The `find_element_*` methods return a single `WebElement` object, representing the first element on the page that matches your query. The `find_elements_*` methods return a list of `WebElement_*` objects for every matching element on the page. For example, in the following are some common methods given, which find multiple elements on the page:\n",
    "\n",
    "\n",
    "  * `browser.find_elements_by_class_name(name)` ... finds elements that use the CSS class\n",
    "name\n",
    "  * `browser.find_elements_by_css_selector(selector)` ... finds elements that match the CSS\n",
    "selector\n",
    "  * `browser.find_elements_by_id(id)` ... finds elements with a matching id attribute value\n",
    "  * `browser.find_elements_by_link_text(text)` ... finds `<a>` elements that completely\n",
    "match the text provided\n",
    "  * `browser.find_elements_by_partial_link_text(text)` ... finds `<a>` elements that contain the text\n",
    "provided\n",
    "  * `browser.find_elements_by_name(name)` ... finds elements with a matching name attribute value\n",
    "  * `browser.find_elements_by_tag_name(tagname)` ... finds elements with a matching tag name (case insensitive; an `<a>` element is matched by 'a' and 'A')\n",
    "  \n",
    "For more information on finding elements on a page, see http://selenium-python.readthedocs.io/locating-elements.html#\n",
    "  \n"
   ]
  },
  {
   "cell_type": "markdown",
   "metadata": {
    "slideshow": {
     "slide_type": "slide"
    }
   },
   "source": [
    "### Clicking the Page\n",
    "\n",
    "`WebElement` objects returned from the `find_element_*` and `find_elements_*` methods have a `click()` method that simulates a mouse click on that element. This method can be used to follow a link, make a selection on a radio button, click a Submit button, or trigger whatever else might happen when the element is clicked by the mouse.\n",
    "\n",
    "```python\n",
    "    base_url = 'http://www.krak.dk'\n",
    "    browser = webdriver.Firefox() \n",
    "    browser.get(base_url)\n",
    "    browser.implicitly_wait(3)\n",
    "\n",
    "    link_to_persons = browser.find_elements_by_link_text('Personer')\n",
    "    link_to_persons[0].click()\n",
    "```\n"
   ]
  },
  {
   "cell_type": "markdown",
   "metadata": {
    "slideshow": {
     "slide_type": "slide"
    }
   },
   "source": [
    "### Filling Out and Submitting Forms\n",
    "Sending keystrokes to text fields on a web page is a matter of finding the `<input>` or `<textarea>` element for that text field and then calling the `send_keys()` method. \n",
    "\n",
    "\n",
    "```python\n",
    "    base_url = 'http://www.krak.dk'\n",
    "    browser = webdriver.Firefox() # or use driver = webdriver.PhantomJS() which will do the same without the overhead of a GUI. http://phantomjs.org/download.html\n",
    "    browser.implicitly_wait(3)\n",
    "\n",
    "    search_field = browser.find_element_by_name('searchQuery')\n",
    "    search_field.send_keys('Møller')\n",
    "    search_field.submit()\n",
    "```"
   ]
  },
  {
   "cell_type": "markdown",
   "metadata": {
    "slideshow": {
     "slide_type": "slide"
    }
   },
   "source": [
    "## Class exercise\n",
    "Find a web site to interact with and fill out a form to get some information back.  \n",
    "Examples could be https://www.jobindex.dk/,    \n",
    "https://google.com or   \n",
    "https://www.ikea.com/dk/da/"
   ]
  }
 ],
 "metadata": {
  "celltoolbar": "Slideshow",
  "kernelspec": {
   "display_name": "Python 3",
   "language": "python",
   "name": "python3"
  },
  "language_info": {
   "codemirror_mode": {
    "name": "ipython",
    "version": 3
   },
   "file_extension": ".py",
   "mimetype": "text/x-python",
   "name": "python",
   "nbconvert_exporter": "python",
   "pygments_lexer": "ipython3",
   "version": "3.7.6"
  },
  "varInspector": {
   "cols": {
    "lenName": 16,
    "lenType": 16,
    "lenVar": 40
   },
   "kernels_config": {
    "python": {
     "delete_cmd_postfix": "",
     "delete_cmd_prefix": "del ",
     "library": "var_list.py",
     "varRefreshCmd": "print(var_dic_list())"
    },
    "r": {
     "delete_cmd_postfix": ") ",
     "delete_cmd_prefix": "rm(",
     "library": "var_list.r",
     "varRefreshCmd": "cat(var_dic_list()) "
    }
   },
   "types_to_exclude": [
    "module",
    "function",
    "builtin_function_or_method",
    "instance",
    "_Feature"
   ],
   "window_display": false
  }
 },
 "nbformat": 4,
 "nbformat_minor": 2
}
