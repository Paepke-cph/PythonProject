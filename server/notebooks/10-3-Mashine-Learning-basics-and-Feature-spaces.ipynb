{
 "cells": [
  {
   "cell_type": "markdown",
   "metadata": {},
   "source": [
    "# Machine learning intro\n",
    "Means a lot of things spanning various use cases and different types of algorithms:\n",
    "\n",
    "![](images/machine_learning_types_tree.png)\n",
    "\n",
    "- **Supervised vs unsupervised learning**\n",
    "  - **Supervised learning** is the common one: We have a known input and a known output and we train our model with data learning from the known output (the results). When the model is trained the purpose is to feed new data to the model and let it predict the output. (After training data comes test data to see if the model behaves)\n",
    "    - Classification: A classification problem is when the output variable is a category, such as “red” or “blue” or “disease” and “no disease”.\n",
    "    - Regression: A regression problem is when the output variable is a real value, such as “dollars” or “weight”.\n",
    "  - **Unsupervised learning** is where you only have input data (X) and no corresponding output variables. So it is about finding similarities in the input data and make categories. 2 main types: \n",
    "    - **Clustering:** A clustering problem is where you want to discover the inherent groupings in the data, such as grouping customers by purchasing behavior.\n",
    "    - **Association:**  An association rule learning problem is where you want to discover rules that describe large portions of your data, such as people that buy X also tend to buy Y.\n",
    "  - **Semi-Supervised Machine Learning** where you have a large amount of input data (X) and only some of the data is labeled (Y) are called semi-supervised learning problems. A good example is a photo archive where only some of the images are labeled, (e.g. dog, cat, person) and the majority are unlabeled. Many real world machine learning problems fall into this area. This is because it can be expensive or time-consuming to label data as it may require access to domain experts. Whereas unlabeled data is cheap and easy to collect and store. Unsupervised learning techniques can be used to discover and learn the structure in the input variables.  \n",
    "[Source](https://machinelearningmastery.com/supervised-and-unsupervised-machine-learning-algorithms/)\n"
   ]
  },
  {
   "cell_type": "markdown",
   "metadata": {},
   "source": [
    "## Machine learning lingo\n",
    "**Feature**: variable, column, attribute, field  \n",
    "**Instance**: row, observation, data point, value, case  \n",
    "**Target**: predictant, dependent variable, label  \n",
    "**Data**: predictor, set of predictor variables, input variables fed to the ml algorithm  \n",
    "\n",
    "**Model**: A machine learning model is an algorithm and a set of weights that can be trained on Data and Target  \n",
    "**Training set**: The data we use to train our model be multiple feedings and feedback mechanism  \n",
    "**Test set**: The data we use after training the model, to see if the model performs well on other data (not used for training)  \n"
   ]
  },
  {
   "cell_type": "markdown",
   "metadata": {
    "slideshow": {
     "slide_type": "slide"
    }
   },
   "source": [
    "## Machine learning concepts\n",
    "\n",
    "* Features\n",
    "* n-dimensional feature space\n",
    "* Modelling\n",
    "* Model correctness\n",
    "* Overfitting/underfitting\n",
    "* Training/testing data\n",
    "* Sklearn"
   ]
  },
  {
   "cell_type": "code",
   "execution_count": 1,
   "metadata": {
    "slideshow": {
     "slide_type": "subslide"
    }
   },
   "outputs": [
    {
     "name": "stdout",
     "output_type": "stream",
     "text": [
      "Populating the interactive namespace from numpy and matplotlib\n"
     ]
    }
   ],
   "source": [
    "%pylab inline"
   ]
  },
  {
   "cell_type": "markdown",
   "metadata": {},
   "source": [
    "# Feature spaces\n",
    "#### Feature = nummeric representation of raw data\n",
    "\n",
    "The Feature space (multidimensional coordinate system) is where our variables exists. This is used in machine learning as we have certain variables related to a target value:  \n",
    "E.g Testing car tires durability we might have target value = thickness of tires after test run and our variables as: X1 = duration of test run, X2 = distance travelled in test run, X3 = Amount of certain chemical in tires\n",
    "\n",
    "After many test runs we have an amount of features (test runs each with 3 variables) that we can use to start predicting correlation between the variables and the target value (tire thickness)\n",
    "\n",
    "|test run|duration|distance|amount of chemical x| **TARGET**: tire thickness |\n",
    "|--|--|--|--|--|\n",
    "|test 1| 4 min |20 km| 0.3g|2,3|\n",
    "|test 2| 5 min |40 km| 0.3g|2,1|\n",
    "|test 3| 3 min |20 km| 0.4g|2,2|\n",
    "...\n",
    "\n"
   ]
  },
  {
   "cell_type": "code",
   "execution_count": 2,
   "metadata": {
    "slideshow": {
     "slide_type": "subslide"
    }
   },
   "outputs": [
    {
     "name": "stdout",
     "output_type": "stream",
     "text": [
      "Populating the interactive namespace from numpy and matplotlib\n"
     ]
    }
   ],
   "source": [
    "%pylab inline\n",
    "import sklearn"
   ]
  },
  {
   "cell_type": "markdown",
   "metadata": {
    "slideshow": {
     "slide_type": "slide"
    }
   },
   "source": [
    "### scikit-learn\n",
    "For this notebook you need to have the `scikit-learn` (http://scikit-learn.org/stable/index.html) module installed, which is part of a normal Anaconda installation."
   ]
  },
  {
   "cell_type": "markdown",
   "metadata": {
    "slideshow": {
     "slide_type": "subslide"
    }
   },
   "source": [
    "## Feature Spaces\n",
    "\n",
    "#### One-dimensional Features Space \n",
    "Randomly generated data of shape (400,1)  \n",
    "make_blobs() takes a number of samples, a list of centers and a [standard deviation](https://www.mathsisfun.com/data/standard-deviation.html) and returns a n-dimensional sample collection based on the inputted centers. If the centers are one dimensional, then the sample data will be one-dimensional\n"
   ]
  },
  {
   "cell_type": "code",
   "execution_count": 3,
   "metadata": {
    "slideshow": {
     "slide_type": "subslide"
    }
   },
   "outputs": [
    {
     "name": "stdout",
     "output_type": "stream",
     "text": [
      "[[61.24025098]\n",
      " [54.74726777]]\n",
      "[[61]\n",
      " [55]]\n",
      "shape data (400, 1) [[0.]\n",
      " [0.]\n",
      " [0.]\n",
      " [0.]\n",
      " [0.]]\n"
     ]
    },
    {
     "data": {
      "image/png": "[encoded data removed]",
      "text/plain": [
       "<Figure size 432x288 with 1 Axes>"
      ]
     },
     "metadata": {
      "needs_background": "light"
     },
     "output_type": "display_data"
    }
   ],
   "source": [
    "import matplotlib.pyplot as plt\n",
    "import numpy as np\n",
    "from sklearn.datasets import make_blobs\n",
    "\n",
    "\n",
    "centers = [[60], [120], [170], [240]]\n",
    "# create an array of 400 arrays containing one value each, that is set close to one of the 4 centers\n",
    "data, _ = make_blobs(n_samples=400, cluster_std=4, centers=centers)\n",
    "print(data[0:2])\n",
    "data_1d = np.rint(data).astype(np.uint8) # round to nearest integer (400 values)\n",
    "print(data_1d[0:2])\n",
    "print('shape data',np.shape(data),np.zeros(np.shape(data))[0:5]) # x = clustered values, y = 0\n",
    "\n",
    "plt.xlim(0, 255)\n",
    "plt.ylim(-0.3, 0.3)\n",
    "\n",
    "y = np.zeros(np.shape(data))\n",
    "plt.plot(data_1d , y, 'b|', ms=50) # plot rounded x values and y = 0\n",
    "plt.axis('off') # turn off axis lines and labels\n",
    "plt.show()"
   ]
  },
  {
   "cell_type": "markdown",
   "metadata": {
    "slideshow": {
     "slide_type": "subslide"
    }
   },
   "source": [
    "## Two-dimensional Features Space \n",
    "Randomly generated data of shape (2500,2)"
   ]
  },
  {
   "cell_type": "code",
   "execution_count": 4,
   "metadata": {
    "scrolled": true,
    "slideshow": {
     "slide_type": "subslide"
    }
   },
   "outputs": [
    {
     "name": "stdout",
     "output_type": "stream",
     "text": [
      "[[ 1.04660903 -0.99167019]\n",
      " [ 2.00835894  0.99177879]\n",
      " [ 0.97902357 -1.11084531]\n",
      " ...\n",
      " [-0.07611085 -0.10277895]\n",
      " [ 0.12085698 -0.2095974 ]\n",
      " [ 1.92432512  1.07479941]]\n",
      "(2500, 2)\n"
     ]
    },
    {
     "data": {
      "text/plain": [
       "Text(0.5, 1.0, 'Clusters based around the center values:')"
      ]
     },
     "execution_count": 4,
     "metadata": {},
     "output_type": "execute_result"
    },
    {
     "data": {
      "image/png": "[encoded data removed]",
      "text/plain": [
       "<Figure size 432x288 with 1 Axes>"
      ]
     },
     "metadata": {
      "needs_background": "light"
     },
     "output_type": "display_data"
    }
   ],
   "source": [
    "import matplotlib.pyplot as plt\n",
    "from sklearn.datasets import make_blobs\n",
    "\n",
    "centers = [[2, 1], [0, 0], [1, -1]] # centers are now 2-d\n",
    "data_2d, _ = make_blobs(n_samples=2500, centers=centers, cluster_std=0.1)\n",
    "print(data_2d)\n",
    "print(np.shape(data_2d))\n",
    "plt.plot(data_2d[:,0], data_2d[:,1], 'b.')\n",
    "\n",
    "plt.title('Clusters based around the center values:')\n",
    "#plt.show()"
   ]
  },
  {
   "cell_type": "markdown",
   "metadata": {
    "slideshow": {
     "slide_type": "subslide"
    }
   },
   "source": [
    "## Three-dimensional Features Space "
   ]
  },
  {
   "cell_type": "code",
   "execution_count": 7,
   "metadata": {
    "slideshow": {
     "slide_type": "subslide"
    }
   },
   "outputs": [
    {
     "data": {
      "application/javascript": [
       "/* Put everything inside the global mpl namespace */\n",
       "window.mpl = {};\n",
       "\n",
       "\n",
       "mpl.get_websocket_type = function() {\n",
       "    if (typeof(WebSocket) !== 'undefined') {\n",
       "        return WebSocket;\n",
       "    } else if (typeof(MozWebSocket) !== 'undefined') {\n",
       "        return MozWebSocket;\n",
       "    } else {\n",
       "        alert('Your browser does not have WebSocket support. ' +\n",
       "              'Please try Chrome, Safari or Firefox ≥ 6. ' +\n",
       "              'Firefox 4 and 5 are also supported but you ' +\n",
       "              'have to enable WebSockets in about:config.');\n",
       "    };\n",
       "}\n",
       "\n",
       "mpl.figure = function(figure_id, websocket, ondownload, parent_element) {\n",
       "    this.id = figure_id;\n",
       "\n",
       "    this.ws = websocket;\n",
       "\n",
       "    this.supports_binary = (this.ws.binaryType != undefined);\n",
       "\n",
       "    if (!this.supports_binary) {\n",
       "        var warnings = document.getElementById(\"mpl-warnings\");\n",
       "        if (warnings) {\n",
       "            warnings.style.display = 'block';\n",
       "            warnings.textContent = (\n",
       "                \"This browser does not support binary websocket messages. \" +\n",
       "                    \"Performance may be slow.\");\n",
       "        }\n",
       "    }\n",
       "\n",
       "    this.imageObj = new Image();\n",
       "\n",
       "    this.context = undefined;\n",
       "    this.message = undefined;\n",
       "    this.canvas = undefined;\n",
       "    this.rubberband_canvas = undefined;\n",
       "    this.rubberband_context = undefined;\n",
       "    this.format_dropdown = undefined;\n",
       "\n",
       "    this.image_mode = 'full';\n",
       "\n",
       "    this.root = $('<div/>');\n",
       "    this._root_extra_style(this.root)\n",
       "    this.root.attr('style', 'display: inline-block');\n",
       "\n",
       "    $(parent_element).append(this.root);\n",
       "\n",
       "    this._init_header(this);\n",
       "    this._init_canvas(this);\n",
       "    this._init_toolbar(this);\n",
       "\n",
       "    var fig = this;\n",
       "\n",
       "    this.waiting = false;\n",
       "\n",
       "    this.ws.onopen =  function () {\n",
       "            fig.send_message(\"supports_binary\", {value: fig.supports_binary});\n",
       "            fig.send_message(\"send_image_mode\", {});\n",
       "            if (mpl.ratio != 1) {\n",
       "                fig.send_message(\"set_dpi_ratio\", {'dpi_ratio': mpl.ratio});\n",
       "            }\n",
       "            fig.send_message(\"refresh\", {});\n",
       "        }\n",
       "\n",
       "    this.imageObj.onload = function() {\n",
       "            if (fig.image_mode == 'full') {\n",
       "                // Full images could contain transparency (where diff images\n",
       "                // almost always do), so we need to clear the canvas so that\n",
       "                // there is no ghosting.\n",
       "                fig.context.clearRect(0, 0, fig.canvas.width, fig.canvas.height);\n",
       "            }\n",
       "            fig.context.drawImage(fig.imageObj, 0, 0);\n",
       "        };\n",
       "\n",
       "    this.imageObj.onunload = function() {\n",
       "        fig.ws.close();\n",
       "    }\n",
       "\n",
       "    this.ws.onmessage = this._make_on_message_function(this);\n",
       "\n",
       "    this.ondownload = ondownload;\n",
       "}\n",
       "\n",
       "mpl.figure.prototype._init_header = function() {\n",
       "    var titlebar = $(\n",
       "        '<div class=\"ui-dialog-titlebar ui-widget-header ui-corner-all ' +\n",
       "        'ui-helper-clearfix\"/>');\n",
       "    var titletext = $(\n",
       "        '<div class=\"ui-dialog-title\" style=\"width: 100%; ' +\n",
       "        'text-align: center; padding: 3px;\"/>');\n",
       "    titlebar.append(titletext)\n",
       "    this.root.append(titlebar);\n",
       "    this.header = titletext[0];\n",
       "}\n",
       "\n",
       "\n",
       "\n",
       "mpl.figure.prototype._canvas_extra_style = function(canvas_div) {\n",
       "\n",
       "}\n",
       "\n",
       "\n",
       "mpl.figure.prototype._root_extra_style = function(canvas_div) {\n",
       "\n",
       "}\n",
       "\n",
       "mpl.figure.prototype._init_canvas = function() {\n",
       "    var fig = this;\n",
       "\n",
       "    var canvas_div = $('<div/>');\n",
       "\n",
       "    canvas_div.attr('style', 'position: relative; clear: both; outline: 0');\n",
       "\n",
       "    function canvas_keyboard_event(event) {\n",
       "        return fig.key_event(event, event['data']);\n",
       "    }\n",
       "\n",
       "    canvas_div.keydown('key_press', canvas_keyboard_event);\n",
       "    canvas_div.keyup('key_release', canvas_keyboard_event);\n",
       "    this.canvas_div = canvas_div\n",
       "    this._canvas_extra_style(canvas_div)\n",
       "    this.root.append(canvas_div);\n",
       "\n",
       "    var canvas = $('<canvas/>');\n",
       "    canvas.addClass('mpl-canvas');\n",
       "    canvas.attr('style', \"left: 0; top: 0; z-index: 0; outline: 0\")\n",
       "\n",
       "    this.canvas = canvas[0];\n",
       "    this.context = canvas[0].getContext(\"2d\");\n",
       "\n",
       "    var backingStore = this.context.backingStorePixelRatio ||\n",
       "\tthis.context.webkitBackingStorePixelRatio ||\n",
       "\tthis.context.mozBackingStorePixelRatio ||\n",
       "\tthis.context.msBackingStorePixelRatio ||\n",
       "\tthis.context.oBackingStorePixelRatio ||\n",
       "\tthis.context.backingStorePixelRatio || 1;\n",
       "\n",
       "    mpl.ratio = (window.devicePixelRatio || 1) / backingStore;\n",
       "\n",
       "    var rubberband = $('<canvas/>');\n",
       "    rubberband.attr('style', \"position: absolute; left: 0; top: 0; z-index: 1;\")\n",
       "\n",
       "    var pass_mouse_events = true;\n",
       "\n",
       "    canvas_div.resizable({\n",
       "        start: function(event, ui) {\n",
       "            pass_mouse_events = false;\n",
       "        },\n",
       "        resize: function(event, ui) {\n",
       "            fig.request_resize(ui.size.width, ui.size.height);\n",
       "        },\n",
       "        stop: function(event, ui) {\n",
       "            pass_mouse_events = true;\n",
       "            fig.request_resize(ui.size.width, ui.size.height);\n",
       "        },\n",
       "    });\n",
       "\n",
       "    function mouse_event_fn(event) {\n",
       "        if (pass_mouse_events)\n",
       "            return fig.mouse_event(event, event['data']);\n",
       "    }\n",
       "\n",
       "    rubberband.mousedown('button_press', mouse_event_fn);\n",
       "    rubberband.mouseup('button_release', mouse_event_fn);\n",
       "    // Throttle sequential mouse events to 1 every 20ms.\n",
       "    rubberband.mousemove('motion_notify', mouse_event_fn);\n",
       "\n",
       "    rubberband.mouseenter('figure_enter', mouse_event_fn);\n",
       "    rubberband.mouseleave('figure_leave', mouse_event_fn);\n",
       "\n",
       "    canvas_div.on(\"wheel\", function (event) {\n",
       "        event = event.originalEvent;\n",
       "        event['data'] = 'scroll'\n",
       "        if (event.deltaY < 0) {\n",
       "            event.step = 1;\n",
       "        } else {\n",
       "            event.step = -1;\n",
       "        }\n",
       "        mouse_event_fn(event);\n",
       "    });\n",
       "\n",
       "    canvas_div.append(canvas);\n",
       "    canvas_div.append(rubberband);\n",
       "\n",
       "    this.rubberband = rubberband;\n",
       "    this.rubberband_canvas = rubberband[0];\n",
       "    this.rubberband_context = rubberband[0].getContext(\"2d\");\n",
       "    this.rubberband_context.strokeStyle = \"#000000\";\n",
       "\n",
       "    this._resize_canvas = function(width, height) {\n",
       "        // Keep the size of the canvas, canvas container, and rubber band\n",
       "        // canvas in synch.\n",
       "        canvas_div.css('width', width)\n",
       "        canvas_div.css('height', height)\n",
       "\n",
       "        canvas.attr('width', width * mpl.ratio);\n",
       "        canvas.attr('height', height * mpl.ratio);\n",
       "        canvas.attr('style', 'width: ' + width + 'px; height: ' + height + 'px;');\n",
       "\n",
       "        rubberband.attr('width', width);\n",
       "        rubberband.attr('height', height);\n",
       "    }\n",
       "\n",
       "    // Set the figure to an initial 600x600px, this will subsequently be updated\n",
       "    // upon first draw.\n",
       "    this._resize_canvas(600, 600);\n",
       "\n",
       "    // Disable right mouse context menu.\n",
       "    $(this.rubberband_canvas).bind(\"contextmenu\",function(e){\n",
       "        return false;\n",
       "    });\n",
       "\n",
       "    function set_focus () {\n",
       "        canvas.focus();\n",
       "        canvas_div.focus();\n",
       "    }\n",
       "\n",
       "    window.setTimeout(set_focus, 100);\n",
       "}\n",
       "\n",
       "mpl.figure.prototype._init_toolbar = function() {\n",
       "    var fig = this;\n",
       "\n",
       "    var nav_element = $('<div/>');\n",
       "    nav_element.attr('style', 'width: 100%');\n",
       "    this.root.append(nav_element);\n",
       "\n",
       "    // Define a callback function for later on.\n",
       "    function toolbar_event(event) {\n",
       "        return fig.toolbar_button_onclick(event['data']);\n",
       "    }\n",
       "    function toolbar_mouse_event(event) {\n",
       "        return fig.toolbar_button_onmouseover(event['data']);\n",
       "    }\n",
       "\n",
       "    for(var toolbar_ind in mpl.toolbar_items) {\n",
       "        var name = mpl.toolbar_items[toolbar_ind][0];\n",
       "        var tooltip = mpl.toolbar_items[toolbar_ind][1];\n",
       "        var image = mpl.toolbar_items[toolbar_ind][2];\n",
       "        var method_name = mpl.toolbar_items[toolbar_ind][3];\n",
       "\n",
       "        if (!name) {\n",
       "            // put a spacer in here.\n",
       "            continue;\n",
       "        }\n",
       "        var button = $('<button/>');\n",
       "        button.addClass('ui-button ui-widget ui-state-default ui-corner-all ' +\n",
       "                        'ui-button-icon-only');\n",
       "        button.attr('role', 'button');\n",
       "        button.attr('aria-disabled', 'false');\n",
       "        button.click(method_name, toolbar_event);\n",
       "        button.mouseover(tooltip, toolbar_mouse_event);\n",
       "\n",
       "        var icon_img = $('<span/>');\n",
       "        icon_img.addClass('ui-button-icon-primary ui-icon');\n",
       "        icon_img.addClass(image);\n",
       "        icon_img.addClass('ui-corner-all');\n",
       "\n",
       "        var tooltip_span = $('<span/>');\n",
       "        tooltip_span.addClass('ui-button-text');\n",
       "        tooltip_span.html(tooltip);\n",
       "\n",
       "        button.append(icon_img);\n",
       "        button.append(tooltip_span);\n",
       "\n",
       "        nav_element.append(button);\n",
       "    }\n",
       "\n",
       "    var fmt_picker_span = $('<span/>');\n",
       "\n",
       "    var fmt_picker = $('<select/>');\n",
       "    fmt_picker.addClass('mpl-toolbar-option ui-widget ui-widget-content');\n",
       "    fmt_picker_span.append(fmt_picker);\n",
       "    nav_element.append(fmt_picker_span);\n",
       "    this.format_dropdown = fmt_picker[0];\n",
       "\n",
       "    for (var ind in mpl.extensions) {\n",
       "        var fmt = mpl.extensions[ind];\n",
       "        var option = $(\n",
       "            '<option/>', {selected: fmt === mpl.default_extension}).html(fmt);\n",
       "        fmt_picker.append(option);\n",
       "    }\n",
       "\n",
       "    // Add hover states to the ui-buttons\n",
       "    $( \".ui-button\" ).hover(\n",
       "        function() { $(this).addClass(\"ui-state-hover\");},\n",
       "        function() { $(this).removeClass(\"ui-state-hover\");}\n",
       "    );\n",
       "\n",
       "    var status_bar = $('<span class=\"mpl-message\"/>');\n",
       "    nav_element.append(status_bar);\n",
       "    this.message = status_bar[0];\n",
       "}\n",
       "\n",
       "mpl.figure.prototype.request_resize = function(x_pixels, y_pixels) {\n",
       "    // Request matplotlib to resize the figure. Matplotlib will then trigger a resize in the client,\n",
       "    // which will in turn request a refresh of the image.\n",
       "    this.send_message('resize', {'width': x_pixels, 'height': y_pixels});\n",
       "}\n",
       "\n",
       "mpl.figure.prototype.send_message = function(type, properties) {\n",
       "    properties['type'] = type;\n",
       "    properties['figure_id'] = this.id;\n",
       "    this.ws.send(JSON.stringify(properties));\n",
       "}\n",
       "\n",
       "mpl.figure.prototype.send_draw_message = function() {\n",
       "    if (!this.waiting) {\n",
       "        this.waiting = true;\n",
       "        this.ws.send(JSON.stringify({type: \"draw\", figure_id: this.id}));\n",
       "    }\n",
       "}\n",
       "\n",
       "\n",
       "mpl.figure.prototype.handle_save = function(fig, msg) {\n",
       "    var format_dropdown = fig.format_dropdown;\n",
       "    var format = format_dropdown.options[format_dropdown.selectedIndex].value;\n",
       "    fig.ondownload(fig, format);\n",
       "}\n",
       "\n",
       "\n",
       "mpl.figure.prototype.handle_resize = function(fig, msg) {\n",
       "    var size = msg['size'];\n",
       "    if (size[0] != fig.canvas.width || size[1] != fig.canvas.height) {\n",
       "        fig._resize_canvas(size[0], size[1]);\n",
       "        fig.send_message(\"refresh\", {});\n",
       "    };\n",
       "}\n",
       "\n",
       "mpl.figure.prototype.handle_rubberband = function(fig, msg) {\n",
       "    var x0 = msg['x0'] / mpl.ratio;\n",
       "    var y0 = (fig.canvas.height - msg['y0']) / mpl.ratio;\n",
       "    var x1 = msg['x1'] / mpl.ratio;\n",
       "    var y1 = (fig.canvas.height - msg['y1']) / mpl.ratio;\n",
       "    x0 = Math.floor(x0) + 0.5;\n",
       "    y0 = Math.floor(y0) + 0.5;\n",
       "    x1 = Math.floor(x1) + 0.5;\n",
       "    y1 = Math.floor(y1) + 0.5;\n",
       "    var min_x = Math.min(x0, x1);\n",
       "    var min_y = Math.min(y0, y1);\n",
       "    var width = Math.abs(x1 - x0);\n",
       "    var height = Math.abs(y1 - y0);\n",
       "\n",
       "    fig.rubberband_context.clearRect(\n",
       "        0, 0, fig.canvas.width / mpl.ratio, fig.canvas.height / mpl.ratio);\n",
       "\n",
       "    fig.rubberband_context.strokeRect(min_x, min_y, width, height);\n",
       "}\n",
       "\n",
       "mpl.figure.prototype.handle_figure_label = function(fig, msg) {\n",
       "    // Updates the figure title.\n",
       "    fig.header.textContent = msg['label'];\n",
       "}\n",
       "\n",
       "mpl.figure.prototype.handle_cursor = function(fig, msg) {\n",
       "    var cursor = msg['cursor'];\n",
       "    switch(cursor)\n",
       "    {\n",
       "    case 0:\n",
       "        cursor = 'pointer';\n",
       "        break;\n",
       "    case 1:\n",
       "        cursor = 'default';\n",
       "        break;\n",
       "    case 2:\n",
       "        cursor = 'crosshair';\n",
       "        break;\n",
       "    case 3:\n",
       "        cursor = 'move';\n",
       "        break;\n",
       "    }\n",
       "    fig.rubberband_canvas.style.cursor = cursor;\n",
       "}\n",
       "\n",
       "mpl.figure.prototype.handle_message = function(fig, msg) {\n",
       "    fig.message.textContent = msg['message'];\n",
       "}\n",
       "\n",
       "mpl.figure.prototype.handle_draw = function(fig, msg) {\n",
       "    // Request the server to send over a new figure.\n",
       "    fig.send_draw_message();\n",
       "}\n",
       "\n",
       "mpl.figure.prototype.handle_image_mode = function(fig, msg) {\n",
       "    fig.image_mode = msg['mode'];\n",
       "}\n",
       "\n",
       "mpl.figure.prototype.updated_canvas_event = function() {\n",
       "    // Called whenever the canvas gets updated.\n",
       "    this.send_message(\"ack\", {});\n",
       "}\n",
       "\n",
       "// A function to construct a web socket function for onmessage handling.\n",
       "// Called in the figure constructor.\n",
       "mpl.figure.prototype._make_on_message_function = function(fig) {\n",
       "    return function socket_on_message(evt) {\n",
       "        if (evt.data instanceof Blob) {\n",
       "            /* FIXME: We get \"Resource interpreted as Image but\n",
       "             * transferred with MIME type text/plain:\" errors on\n",
       "             * Chrome.  But how to set the MIME type?  It doesn't seem\n",
       "             * to be part of the websocket stream */\n",
       "            evt.data.type = \"image/png\";\n",
       "\n",
       "            /* Free the memory for the previous frames */\n",
       "            if (fig.imageObj.src) {\n",
       "                (window.URL || window.webkitURL).revokeObjectURL(\n",
       "                    fig.imageObj.src);\n",
       "            }\n",
       "\n",
       "            fig.imageObj.src = (window.URL || window.webkitURL).createObjectURL(\n",
       "                evt.data);\n",
       "            fig.updated_canvas_event();\n",
       "            fig.waiting = false;\n",
       "            return;\n",
       "        }\n",
       "        else if (typeof evt.data === 'string' && evt.data.slice(0, 21) == \"data:image/png;base64\") {\n",
       "            fig.imageObj.src = evt.data;\n",
       "            fig.updated_canvas_event();\n",
       "            fig.waiting = false;\n",
       "            return;\n",
       "        }\n",
       "\n",
       "        var msg = JSON.parse(evt.data);\n",
       "        var msg_type = msg['type'];\n",
       "\n",
       "        // Call the  \"handle_{type}\" callback, which takes\n",
       "        // the figure and JSON message as its only arguments.\n",
       "        try {\n",
       "            var callback = fig[\"handle_\" + msg_type];\n",
       "        } catch (e) {\n",
       "            console.log(\"No handler for the '\" + msg_type + \"' message type: \", msg);\n",
       "            return;\n",
       "        }\n",
       "\n",
       "        if (callback) {\n",
       "            try {\n",
       "                // console.log(\"Handling '\" + msg_type + \"' message: \", msg);\n",
       "                callback(fig, msg);\n",
       "            } catch (e) {\n",
       "                console.log(\"Exception inside the 'handler_\" + msg_type + \"' callback:\", e, e.stack, msg);\n",
       "            }\n",
       "        }\n",
       "    };\n",
       "}\n",
       "\n",
       "// from http://stackoverflow.com/questions/1114465/getting-mouse-location-in-canvas\n",
       "mpl.findpos = function(e) {\n",
       "    //this section is from http://www.quirksmode.org/js/events_properties.html\n",
       "    var targ;\n",
       "    if (!e)\n",
       "        e = window.event;\n",
       "    if (e.target)\n",
       "        targ = e.target;\n",
       "    else if (e.srcElement)\n",
       "        targ = e.srcElement;\n",
       "    if (targ.nodeType == 3) // defeat Safari bug\n",
       "        targ = targ.parentNode;\n",
       "\n",
       "    // jQuery normalizes the pageX and pageY\n",
       "    // pageX,Y are the mouse positions relative to the document\n",
       "    // offset() returns the position of the element relative to the document\n",
       "    var x = e.pageX - $(targ).offset().left;\n",
       "    var y = e.pageY - $(targ).offset().top;\n",
       "\n",
       "    return {\"x\": x, \"y\": y};\n",
       "};\n",
       "\n",
       "/*\n",
       " * return a copy of an object with only non-object keys\n",
       " * we need this to avoid circular references\n",
       " * http://stackoverflow.com/a/24161582/3208463\n",
       " */\n",
       "function simpleKeys (original) {\n",
       "  return Object.keys(original).reduce(function (obj, key) {\n",
       "    if (typeof original[key] !== 'object')\n",
       "        obj[key] = original[key]\n",
       "    return obj;\n",
       "  }, {});\n",
       "}\n",
       "\n",
       "mpl.figure.prototype.mouse_event = function(event, name) {\n",
       "    var canvas_pos = mpl.findpos(event)\n",
       "\n",
       "    if (name === 'button_press')\n",
       "    {\n",
       "        this.canvas.focus();\n",
       "        this.canvas_div.focus();\n",
       "    }\n",
       "\n",
       "    var x = canvas_pos.x * mpl.ratio;\n",
       "    var y = canvas_pos.y * mpl.ratio;\n",
       "\n",
       "    this.send_message(name, {x: x, y: y, button: event.button,\n",
       "                             step: event.step,\n",
       "                             guiEvent: simpleKeys(event)});\n",
       "\n",
       "    /* This prevents the web browser from automatically changing to\n",
       "     * the text insertion cursor when the button is pressed.  We want\n",
       "     * to control all of the cursor setting manually through the\n",
       "     * 'cursor' event from matplotlib */\n",
       "    event.preventDefault();\n",
       "    return false;\n",
       "}\n",
       "\n",
       "mpl.figure.prototype._key_event_extra = function(event, name) {\n",
       "    // Handle any extra behaviour associated with a key event\n",
       "}\n",
       "\n",
       "mpl.figure.prototype.key_event = function(event, name) {\n",
       "\n",
       "    // Prevent repeat events\n",
       "    if (name == 'key_press')\n",
       "    {\n",
       "        if (event.which === this._key)\n",
       "            return;\n",
       "        else\n",
       "            this._key = event.which;\n",
       "    }\n",
       "    if (name == 'key_release')\n",
       "        this._key = null;\n",
       "\n",
       "    var value = '';\n",
       "    if (event.ctrlKey && event.which != 17)\n",
       "        value += \"ctrl+\";\n",
       "    if (event.altKey && event.which != 18)\n",
       "        value += \"alt+\";\n",
       "    if (event.shiftKey && event.which != 16)\n",
       "        value += \"shift+\";\n",
       "\n",
       "    value += 'k';\n",
       "    value += event.which.toString();\n",
       "\n",
       "    this._key_event_extra(event, name);\n",
       "\n",
       "    this.send_message(name, {key: value,\n",
       "                             guiEvent: simpleKeys(event)});\n",
       "    return false;\n",
       "}\n",
       "\n",
       "mpl.figure.prototype.toolbar_button_onclick = function(name) {\n",
       "    if (name == 'download') {\n",
       "        this.handle_save(this, null);\n",
       "    } else {\n",
       "        this.send_message(\"toolbar_button\", {name: name});\n",
       "    }\n",
       "};\n",
       "\n",
       "mpl.figure.prototype.toolbar_button_onmouseover = function(tooltip) {\n",
       "    this.message.textContent = tooltip;\n",
       "};\n",
       "mpl.toolbar_items = [[\"Home\", \"Reset original view\", \"fa fa-home icon-home\", \"home\"], [\"Back\", \"Back to previous view\", \"fa fa-arrow-left icon-arrow-left\", \"back\"], [\"Forward\", \"Forward to next view\", \"fa fa-arrow-right icon-arrow-right\", \"forward\"], [\"\", \"\", \"\", \"\"], [\"Pan\", \"Pan axes with left mouse, zoom with right\", \"fa fa-arrows icon-move\", \"pan\"], [\"Zoom\", \"Zoom to rectangle\", \"fa fa-square-o icon-check-empty\", \"zoom\"], [\"\", \"\", \"\", \"\"], [\"Download\", \"Download plot\", \"fa fa-floppy-o icon-save\", \"download\"]];\n",
       "\n",
       "mpl.extensions = [\"eps\", \"jpeg\", \"pdf\", \"png\", \"ps\", \"raw\", \"svg\", \"tif\"];\n",
       "\n",
       "mpl.default_extension = \"png\";var comm_websocket_adapter = function(comm) {\n",
       "    // Create a \"websocket\"-like object which calls the given IPython comm\n",
       "    // object with the appropriate methods. Currently this is a non binary\n",
       "    // socket, so there is still some room for performance tuning.\n",
       "    var ws = {};\n",
       "\n",
       "    ws.close = function() {\n",
       "        comm.close()\n",
       "    };\n",
       "    ws.send = function(m) {\n",
       "        //console.log('sending', m);\n",
       "        comm.send(m);\n",
       "    };\n",
       "    // Register the callback with on_msg.\n",
       "    comm.on_msg(function(msg) {\n",
       "        //console.log('receiving', msg['content']['data'], msg);\n",
       "        // Pass the mpl event to the overridden (by mpl) onmessage function.\n",
       "        ws.onmessage(msg['content']['data'])\n",
       "    });\n",
       "    return ws;\n",
       "}\n",
       "\n",
       "mpl.mpl_figure_comm = function(comm, msg) {\n",
       "    // This is the function which gets called when the mpl process\n",
       "    // starts-up an IPython Comm through the \"matplotlib\" channel.\n",
       "\n",
       "    var id = msg.content.data.id;\n",
       "    // Get hold of the div created by the display call when the Comm\n",
       "    // socket was opened in Python.\n",
       "    var element = $(\"#\" + id);\n",
       "    var ws_proxy = comm_websocket_adapter(comm)\n",
       "\n",
       "    function ondownload(figure, format) {\n",
       "        window.open(figure.imageObj.src);\n",
       "    }\n",
       "\n",
       "    var fig = new mpl.figure(id, ws_proxy,\n",
       "                           ondownload,\n",
       "                           element.get(0));\n",
       "\n",
       "    // Call onopen now - mpl needs it, as it is assuming we've passed it a real\n",
       "    // web socket which is closed, not our websocket->open comm proxy.\n",
       "    ws_proxy.onopen();\n",
       "\n",
       "    fig.parent_element = element.get(0);\n",
       "    fig.cell_info = mpl.find_output_cell(\"<div id='\" + id + \"'></div>\");\n",
       "    if (!fig.cell_info) {\n",
       "        console.error(\"Failed to find cell for figure\", id, fig);\n",
       "        return;\n",
       "    }\n",
       "\n",
       "    var output_index = fig.cell_info[2]\n",
       "    var cell = fig.cell_info[0];\n",
       "\n",
       "};\n",
       "\n",
       "mpl.figure.prototype.handle_close = function(fig, msg) {\n",
       "    var width = fig.canvas.width/mpl.ratio\n",
       "    fig.root.unbind('remove')\n",
       "\n",
       "    // Update the output cell to use the data from the current canvas.\n",
       "    fig.push_to_output();\n",
       "    var dataURL = fig.canvas.toDataURL();\n",
       "    // Re-enable the keyboard manager in IPython - without this line, in FF,\n",
       "    // the notebook keyboard shortcuts fail.\n",
       "    IPython.keyboard_manager.enable()\n",
       "    $(fig.parent_element).html('<img src=\"' + dataURL + '\" width=\"' + width + '\">');\n",
       "    fig.close_ws(fig, msg);\n",
       "}\n",
       "\n",
       "mpl.figure.prototype.close_ws = function(fig, msg){\n",
       "    fig.send_message('closing', msg);\n",
       "    // fig.ws.close()\n",
       "}\n",
       "\n",
       "mpl.figure.prototype.push_to_output = function(remove_interactive) {\n",
       "    // Turn the data on the canvas into data in the output cell.\n",
       "    var width = this.canvas.width/mpl.ratio\n",
       "    var dataURL = this.canvas.toDataURL();\n",
       "    this.cell_info[1]['text/html'] = '<img src=\"' + dataURL + '\" width=\"' + width + '\">';\n",
       "}\n",
       "\n",
       "mpl.figure.prototype.updated_canvas_event = function() {\n",
       "    // Tell IPython that the notebook contents must change.\n",
       "    IPython.notebook.set_dirty(true);\n",
       "    this.send_message(\"ack\", {});\n",
       "    var fig = this;\n",
       "    // Wait a second, then push the new image to the DOM so\n",
       "    // that it is saved nicely (might be nice to debounce this).\n",
       "    setTimeout(function () { fig.push_to_output() }, 1000);\n",
       "}\n",
       "\n",
       "mpl.figure.prototype._init_toolbar = function() {\n",
       "    var fig = this;\n",
       "\n",
       "    var nav_element = $('<div/>');\n",
       "    nav_element.attr('style', 'width: 100%');\n",
       "    this.root.append(nav_element);\n",
       "\n",
       "    // Define a callback function for later on.\n",
       "    function toolbar_event(event) {\n",
       "        return fig.toolbar_button_onclick(event['data']);\n",
       "    }\n",
       "    function toolbar_mouse_event(event) {\n",
       "        return fig.toolbar_button_onmouseover(event['data']);\n",
       "    }\n",
       "\n",
       "    for(var toolbar_ind in mpl.toolbar_items){\n",
       "        var name = mpl.toolbar_items[toolbar_ind][0];\n",
       "        var tooltip = mpl.toolbar_items[toolbar_ind][1];\n",
       "        var image = mpl.toolbar_items[toolbar_ind][2];\n",
       "        var method_name = mpl.toolbar_items[toolbar_ind][3];\n",
       "\n",
       "        if (!name) { continue; };\n",
       "\n",
       "        var button = $('<button class=\"btn btn-default\" href=\"#\" title=\"' + name + '\"><i class=\"fa ' + image + ' fa-lg\"></i></button>');\n",
       "        button.click(method_name, toolbar_event);\n",
       "        button.mouseover(tooltip, toolbar_mouse_event);\n",
       "        nav_element.append(button);\n",
       "    }\n",
       "\n",
       "    // Add the status bar.\n",
       "    var status_bar = $('<span class=\"mpl-message\" style=\"text-align:right; float: right;\"/>');\n",
       "    nav_element.append(status_bar);\n",
       "    this.message = status_bar[0];\n",
       "\n",
       "    // Add the close button to the window.\n",
       "    var buttongrp = $('<div class=\"btn-group inline pull-right\"></div>');\n",
       "    var button = $('<button class=\"btn btn-mini btn-primary\" href=\"#\" title=\"Stop Interaction\"><i class=\"fa fa-power-off icon-remove icon-large\"></i></button>');\n",
       "    button.click(function (evt) { fig.handle_close(fig, {}); } );\n",
       "    button.mouseover('Stop Interaction', toolbar_mouse_event);\n",
       "    buttongrp.append(button);\n",
       "    var titlebar = this.root.find($('.ui-dialog-titlebar'));\n",
       "    titlebar.prepend(buttongrp);\n",
       "}\n",
       "\n",
       "mpl.figure.prototype._root_extra_style = function(el){\n",
       "    var fig = this\n",
       "    el.on(\"remove\", function(){\n",
       "\tfig.close_ws(fig, {});\n",
       "    });\n",
       "}\n",
       "\n",
       "mpl.figure.prototype._canvas_extra_style = function(el){\n",
       "    // this is important to make the div 'focusable\n",
       "    el.attr('tabindex', 0)\n",
       "    // reach out to IPython and tell the keyboard manager to turn it's self\n",
       "    // off when our div gets focus\n",
       "\n",
       "    // location in version 3\n",
       "    if (IPython.notebook.keyboard_manager) {\n",
       "        IPython.notebook.keyboard_manager.register_events(el);\n",
       "    }\n",
       "    else {\n",
       "        // location in version 2\n",
       "        IPython.keyboard_manager.register_events(el);\n",
       "    }\n",
       "\n",
       "}\n",
       "\n",
       "mpl.figure.prototype._key_event_extra = function(event, name) {\n",
       "    var manager = IPython.notebook.keyboard_manager;\n",
       "    if (!manager)\n",
       "        manager = IPython.keyboard_manager;\n",
       "\n",
       "    // Check for shift+enter\n",
       "    if (event.shiftKey && event.which == 13) {\n",
       "        this.canvas_div.blur();\n",
       "        // select the cell after this one\n",
       "        var index = IPython.notebook.find_cell_index(this.cell_info[0]);\n",
       "        IPython.notebook.select(index + 1);\n",
       "    }\n",
       "}\n",
       "\n",
       "mpl.figure.prototype.handle_save = function(fig, msg) {\n",
       "    fig.ondownload(fig, null);\n",
       "}\n",
       "\n",
       "\n",
       "mpl.find_output_cell = function(html_output) {\n",
       "    // Return the cell and output element which can be found *uniquely* in the notebook.\n",
       "    // Note - this is a bit hacky, but it is done because the \"notebook_saving.Notebook\"\n",
       "    // IPython event is triggered only after the cells have been serialised, which for\n",
       "    // our purposes (turning an active figure into a static one), is too late.\n",
       "    var cells = IPython.notebook.get_cells();\n",
       "    var ncells = cells.length;\n",
       "    for (var i=0; i<ncells; i++) {\n",
       "        var cell = cells[i];\n",
       "        if (cell.cell_type === 'code'){\n",
       "            for (var j=0; j<cell.output_area.outputs.length; j++) {\n",
       "                var data = cell.output_area.outputs[j];\n",
       "                if (data.data) {\n",
       "                    // IPython >= 3 moved mimebundle to data attribute of output\n",
       "                    data = data.data;\n",
       "                }\n",
       "                if (data['text/html'] == html_output) {\n",
       "                    return [cell, data, j];\n",
       "                }\n",
       "            }\n",
       "        }\n",
       "    }\n",
       "}\n",
       "\n",
       "// Register the function which deals with the matplotlib target/channel.\n",
       "// The kernel may be null if the page has been refreshed.\n",
       "if (IPython.notebook.kernel != null) {\n",
       "    IPython.notebook.kernel.comm_manager.register_target('matplotlib', mpl.mpl_figure_comm);\n",
       "}\n"
      ],
      "text/plain": [
       "<IPython.core.display.Javascript object>"
      ]
     },
     "metadata": {},
     "output_type": "display_data"
    },
    {
     "data": {
      "text/html": [
       "<img src=\"data:image/png;base64,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\" width=\"432\">"
      ],
      "text/plain": [
       "<IPython.core.display.HTML object>"
      ]
     },
     "metadata": {},
     "output_type": "display_data"
    }
   ],
   "source": [
    "%matplotlib notebook\n",
    "from mpl_toolkits.mplot3d import Axes3D\n",
    "from sklearn.datasets import make_blobs\n",
    "\n",
    "\n",
    "centers = [[2, 1, 0], [0, -1, -1], [1, -1, 3]]\n",
    "data_3d, _ = make_blobs(n_samples=2500, centers=centers, cluster_std=0.37)\n",
    "x, y, z = data_3d[:,0], data_3d[:,1], data_3d[:,2]\n",
    "\n",
    "fig = plt.figure()\n",
    "ax = fig.add_subplot(111, projection='3d')\n",
    "ax.scatter(x, y, z, linewidth=0.2)\n",
    "\n",
    "plt.show()"
   ]
  },
  {
   "cell_type": "markdown",
   "metadata": {
    "slideshow": {
     "slide_type": "subslide"
    }
   },
   "source": [
    "## Feature vectors as descriptions of things\n",
    "\n",
    "Let's say we have a Person class:\n",
    "\n",
    "```python\n",
    "\n",
    "class Person:\n",
    "    \n",
    "    def __init__(self, age, height):\n",
    "        self.age = age\n",
    "        self.height = height\n",
    "```\n",
    "\n",
    "A Person is described by two **features**: `age` and `height`\n",
    "\n",
    "* So a **feature vector** for a person would have 2 dimensions\n",
    "  * $x^1 = $ age\n",
    "  * $x^2 = $ height"
   ]
  },
  {
   "cell_type": "markdown",
   "metadata": {
    "slideshow": {
     "slide_type": "subslide"
    }
   },
   "source": [
    "## Feature vectors in high dimensions\n",
    "\n",
    "* Imagine a grayscale image with the resolution `1024 x 800`\n",
    "  * How many pixels does that image have?\n",
    "  * each pixel has a value representing the greyscale color of the pixel"
   ]
  },
  {
   "cell_type": "markdown",
   "metadata": {
    "slideshow": {
     "slide_type": "fragment"
    }
   },
   "source": [
    "* That image has `1024 * 800 = 819200` features!  \n",
    "If x is our feature space:\n",
    "```python\n",
    "x[0]      # First feature\n",
    "x[819199] # Last feature\n",
    "```"
   ]
  },
  {
   "cell_type": "markdown",
   "metadata": {
    "slideshow": {
     "slide_type": "subslide"
    }
   },
   "source": [
    "## Motivating the problem\n",
    "\n",
    "“We need to be able to predict whether a particular\n",
    "customer will stay with us. Here are the logs of customers’ interactions with our product for\n",
    "five years.”"
   ]
  },
  {
   "cell_type": "markdown",
   "metadata": {
    "slideshow": {
     "slide_type": "subslide"
    }
   },
   "source": [
    "What information can we get from a log?\n",
    "\n",
    "* Timestamp\n",
    "* Number of connections\n",
    "* Frequency of connections\n",
    "* Session duration\n",
    "* ...?"
   ]
  },
  {
   "cell_type": "markdown",
   "metadata": {
    "slideshow": {
     "slide_type": "subslide"
    }
   },
   "source": [
    "The more precisely we can describe the data, the better our model gets!\n",
    "\n",
    "We want to select the information that is important and *remove* the ones that aren't."
   ]
  },
  {
   "cell_type": "markdown",
   "metadata": {
    "slideshow": {
     "slide_type": "slide"
    }
   },
   "source": [
    "## Feature engineering\n",
    "\n",
    "The problem of transforming raw data into a dataset is called feature engineering.\n",
    "\n",
    "Goal: describe data with *informative* features"
   ]
  },
  {
   "cell_type": "markdown",
   "metadata": {
    "slideshow": {
     "slide_type": "subslide"
    }
   },
   "source": [
    "### Overview of data encoding techniques\n",
    "* One-hot\n",
    "* Binning\n",
    "* Word embeddings\n",
    "* Normalisation\n",
    "* Standardisation\n",
    "* Dealing with missing features"
   ]
  },
  {
   "cell_type": "markdown",
   "metadata": {},
   "source": [
    "### Techniques to encode data in specific ways\n",
    "\n",
    "* One-hot\n",
    "  - the idea that a column with e.g countries is changed into many columns (each country has its own column) and then 0 or 1 indicate if that country is present in the data row\n",
    "* Binning\n",
    "  - grouping values into bins/categories eg: 1-10, 11-20, 21-30\n",
    "  - replacing values with categories\n",
    "* Word embeddings\n",
    "  - words that have similar context will have similar meanings.\n",
    "  - Embedding Layer: approach of learning an embedding layer requires a lot of training data and can be slow\n",
    "  - Word2Vec: was developed by Tomas Mikolov, et al. at Google in 2013\n",
    "  - GloVe: GloVe, a new global log-bilinear regression model for the unsupervised learning of word representations that outperforms other models on word analogy, word similarity\n",
    "* Normalisation\n",
    "  - data for machine learning must be 1. binary (2 possible values), 2. nummeric, or 3. categorical\n",
    "  - nummeric data must be normalized by eg converting to standard diviation from mean (whereby values will range between -6.0 and +6.0 and thus be comparable to other data of different scale.\n",
    "* Standardisation\n",
    "  - a standardization object is created to hold all features (dependend and independent) in a standardized and normalized form with values like 1, -1, (0,0,1.0,0) and -1.34\n",
    "* Dealing with missing features\n",
    "  1. Removing the feature from dataset if it’s highly correlated with another data.\n",
    "  2. Guessing it’s value on different factors if it’s moderately correlated with another data.\n",
    "  3. Removing the training examples that have any feature missing/\n",
    "  4. Setting the missing features to 0 (remember to scale accordingly every feature to <-1, 1>).\n",
    "  5. Preprocessing the data to a different format that better handle missing values.\n",
    "  6. Selecting a model that handle missing values better (eg. use a neural network instead of decision tree)"
   ]
  },
  {
   "cell_type": "markdown",
   "metadata": {
    "slideshow": {
     "slide_type": "subslide"
    }
   },
   "source": [
    "## One-hot encoding\n",
    "\n",
    "Imagine $n$ features. One-hot encoding means setting **one** feature to 1 and the rest to 0.\n",
    "\n",
    "Example:\n",
    " * Features `[Left, Right]`: `[1, 0]`\n",
    " * Features `[M, T, W, T, F, S, S]`: `[0, 0, 1, 0, 0, 0]`\n",
    " * Features `[M, F, X]`: `[0, 1, 0]`"
   ]
  },
  {
   "cell_type": "code",
   "execution_count": 8,
   "metadata": {
    "slideshow": {
     "slide_type": "subslide"
    }
   },
   "outputs": [
    {
     "data": {
      "text/plain": [
       "array([[0., 1.],\n",
       "       [1., 0.],\n",
       "       [1., 0.]])"
      ]
     },
     "execution_count": 8,
     "metadata": {},
     "output_type": "execute_result"
    }
   ],
   "source": [
    "from sklearn.preprocessing import OneHotEncoder\n",
    "encoder = OneHotEncoder()\n",
    "xs = [['Male'], ['Female'], ['Female']]\n",
    "encoder.fit_transform(xs).toarray()"
   ]
  },
  {
   "cell_type": "code",
   "execution_count": 9,
   "metadata": {
    "slideshow": {
     "slide_type": "subslide"
    }
   },
   "outputs": [
    {
     "data": {
      "text/plain": [
       "matrix([[0., 1.],\n",
       "        [1., 0.],\n",
       "        [1., 0.]])"
      ]
     },
     "execution_count": 9,
     "metadata": {},
     "output_type": "execute_result"
    }
   ],
   "source": [
    "encoder.fit_transform(xs).todense()"
   ]
  },
  {
   "cell_type": "code",
   "execution_count": 10,
   "metadata": {
    "slideshow": {
     "slide_type": "subslide"
    }
   },
   "outputs": [
    {
     "name": "stdout",
     "output_type": "stream",
     "text": [
      "col1 is female, col2 is male, col3 is 1, col4 is 2, col5 is 3\n"
     ]
    },
    {
     "data": {
      "text/plain": [
       "matrix([[0., 1., 1., 0., 0.],\n",
       "        [1., 0., 0., 0., 1.],\n",
       "        [1., 0., 0., 1., 0.],\n",
       "        [0., 1., 0., 0., 1.]])"
      ]
     },
     "execution_count": 10,
     "metadata": {},
     "output_type": "execute_result"
    }
   ],
   "source": [
    "from sklearn.preprocessing import OneHotEncoder\n",
    "encoder = OneHotEncoder()\n",
    "xs = [['Male', 1], ['Female', 3], ['Female', 2], ['Male', 3]]\n",
    "print('col1 is female, col2 is male, col3 is 1, col4 is 2, col5 is 3')\n",
    "encoder.fit_transform(xs).todense()"
   ]
  },
  {
   "cell_type": "markdown",
   "metadata": {
    "slideshow": {
     "slide_type": "subslide"
    }
   },
   "source": [
    "## Word embeddings\n",
    "See [Explanation here](https://machinelearningmastery.com/what-are-word-embeddings/)\n",
    "\n",
    "How do we represent words?\n",
    "\n",
    "Can we make them into feature vectors?\n",
    "\n",
    "Definition: Feature vector:\n",
    "- A vector is a series of numbers. It is like a matrix with only one row but multiple columns (or only one column but multiple rows). An example is: [1,2,3,5,6,3,2,0].\n",
    "- A feature vector is just a vector that contains information describing an object's important characteristics."
   ]
  },
  {
   "cell_type": "markdown",
   "metadata": {
    "slideshow": {
     "slide_type": "subslide"
    }
   },
   "source": [
    "**Yes we can!** [See scikit-learn tutorial here](https://scikit-learn.org/stable/tutorial/text_analytics/working_with_text_data.html)\n",
    "\n",
    "![](images/word-embeddings.png)"
   ]
  },
  {
   "cell_type": "code",
   "execution_count": 1,
   "metadata": {
    "slideshow": {
     "slide_type": "subslide"
    }
   },
   "outputs": [
    {
     "name": "stdout",
     "output_type": "stream",
     "text": [
      "<class 'scipy.sparse.csr.csr_matrix'>\n",
      "1\n",
      "document occurs [[4]] times in the text\n",
      "1 is the index for document\n",
      "There are 9 different words in the 4 sentences\n",
      " ['and', 'document', 'first', 'is', 'it', 'one', 'second', 'the', 'third', 'this']\n",
      "In second sentence document occurs twice, which tells us that \"document\" is in second collumn\n",
      "[[0 1 1 1 0 0 0 1 0 1]\n",
      " [0 2 0 1 0 0 1 1 0 1]\n",
      " [1 0 0 1 0 1 0 1 1 1]\n",
      " [0 1 1 2 1 0 0 1 0 1]]\n",
      "------------------------\n",
      "[[0 1 1 1 0 0 0 1 0 1]\n",
      " [0 2 0 1 0 0 1 1 0 1]\n",
      " [1 0 0 1 0 1 0 1 1 1]\n",
      " [0 1 1 2 1 0 0 1 0 1]]\n",
      "------------------------\n"
     ]
    }
   ],
   "source": [
    "from sklearn.feature_extraction.text import CountVectorizer\n",
    "corpus = [\n",
    "    'This is the first document.',\n",
    "    'This document is the second document.',\n",
    "    'And this is the third one.',\n",
    "    'Is this the first document? Is it?',\n",
    "]\n",
    "vectorizer = CountVectorizer()\n",
    "\n",
    "fit = vectorizer.fit_transform(corpus)\n",
    "print(type(fit))\n",
    "res = fit.todense() # returns a numpy array of same shape\"\n",
    "document_idx = vectorizer.vocabulary_['document']\n",
    "print(document_idx)\n",
    "document_count = sum(res[:,document_idx]) # sum all row cells where column == index\n",
    "print('document occurs {} times in the text'.format(document_count))\n",
    "print('{} is the index for document'.format(document_idx))\n",
    "mat = fit.toarray()\n",
    "print('There are 9 different words in the 4 sentences\\n',vectorizer.get_feature_names())\n",
    "print('In second sentence document occurs twice, which tells us that \"document\" is in second collumn')\n",
    "print(res)\n",
    "print('------------------------')\n",
    "print(mat)\n",
    "print('------------------------')"
   ]
  },
  {
   "cell_type": "code",
   "execution_count": 2,
   "metadata": {
    "slideshow": {
     "slide_type": "fragment"
    }
   },
   "outputs": [
    {
     "name": "stdout",
     "output_type": "stream",
     "text": [
      "['and', 'document', 'first', 'is', 'it', 'one', 'second', 'the', 'third', 'this']\n"
     ]
    }
   ],
   "source": [
    "print(vectorizer.get_feature_names())"
   ]
  },
  {
   "cell_type": "markdown",
   "metadata": {
    "slideshow": {
     "slide_type": "subslide"
    }
   },
   "source": [
    "## Exercise\n",
    "\n",
    "* Use the `CountVectorizer` from `sklearn.feature_extraction` to read the book `data/moby_dick.txt`\n",
    "  * How many times does the word 'wood' appear?\n",
    "* Use the `load_digits` function from the `sklearn.datasets` package to load a `sklearn` dataset\n",
    "  * The package contains `.data` of 8x8 images. Extract the first image in an 8x8 array\n",
    "  * Use the `plt.imshow` function to plot the image"
   ]
  },
  {
   "cell_type": "markdown",
   "metadata": {
    "slideshow": {
     "slide_type": "subslide"
    }
   },
   "source": [
    "## Modelling\n",
    "#### What is a model?"
   ]
  },
  {
   "cell_type": "markdown",
   "metadata": {
    "slideshow": {
     "slide_type": "subslide"
    }
   },
   "source": [
    "* A **simplified** representation"
   ]
  },
  {
   "cell_type": "markdown",
   "metadata": {
    "slideshow": {
     "slide_type": "subslide"
    }
   },
   "source": [
    "## 3 Popular model types \n",
    "\n",
    "* Regression\n",
    "  * What is the value of 'Y' at 'X?'\n",
    "* Classification\n",
    "  * Is it an 'X'?\n",
    "* Clustering\n",
    "  * Is this closest to 'X' or 'Y'?"
   ]
  },
  {
   "cell_type": "markdown",
   "metadata": {
    "slideshow": {
     "slide_type": "subslide"
    }
   },
   "source": [
    "## Recap\n",
    "\n",
    "* Model types\n",
    "    * Regression\n",
    "    * Classification\n",
    "    * Clustering\n",
    "* Models are\n",
    "    1. Constructed\n",
    "    2. Trained\n",
    "    3. Tested"
   ]
  }
 ],
 "metadata": {
  "celltoolbar": "Slideshow",
  "kernelspec": {
   "display_name": "Python 3",
   "language": "python",
   "name": "python3"
  },
  "language_info": {
   "codemirror_mode": {
    "name": "ipython",
    "version": 3
   },
   "file_extension": ".py",
   "mimetype": "text/x-python",
   "name": "python",
   "nbconvert_exporter": "python",
   "pygments_lexer": "ipython3",
   "version": "3.7.6"
  },
  "varInspector": {
   "cols": {
    "lenName": 16,
    "lenType": 16,
    "lenVar": 40
   },
   "kernels_config": {
    "python": {
     "delete_cmd_postfix": "",
     "delete_cmd_prefix": "del ",
     "library": "var_list.py",
     "varRefreshCmd": "print(var_dic_list())"
    },
    "r": {
     "delete_cmd_postfix": ") ",
     "delete_cmd_prefix": "rm(",
     "library": "var_list.r",
     "varRefreshCmd": "cat(var_dic_list()) "
    }
   },
   "types_to_exclude": [
    "module",
    "function",
    "builtin_function_or_method",
    "instance",
    "_Feature"
   ],
   "window_display": false
  }
 },
 "nbformat": 4,
 "nbformat_minor": 2
}
