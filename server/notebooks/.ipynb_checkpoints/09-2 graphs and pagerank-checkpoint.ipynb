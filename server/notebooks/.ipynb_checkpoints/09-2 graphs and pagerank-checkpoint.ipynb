{
 "cells": [
  {
   "cell_type": "markdown",
   "metadata": {},
   "source": [
    "# Networks and Graphs\n",
    "Based Data Science from Scratch. Chapter 21"
   ]
  },
  {
   "cell_type": "markdown",
   "metadata": {
    "slideshow": {
     "slide_type": "skip"
    }
   },
   "source": [
    "# What is a Graph?\n",
    "A graph is a pictorial representation of a set of objects where some pairs of objects are connected by links. The interconnected objects are represented by points termed as vertices, and the links that connect the vertices are called edges.  \n",
    "\n",
    "![](images/graph.jpg)\n",
    "## Terminology\n",
    "- **Vertex** or **Node** − Each element of the graph is represented as a vertex. In the above example, the labeled circle represents vertices. Thus, A to G are vertices. We can represent them using an array as shown in the following image. Here A can be identified by index 0. B can be identified using index 1 and so on.\n",
    "- **Edge** − Edge represents a path between two vertices or a line between two vertices. In the following example, the lines from A to B, B to C, and so on represents edges. We can use a two-dimensional array to represent an array as shown above. Thus AB can be represented as 1 at row 0, column 1, BC as 1 at row 1, column 2 and so on, keeping other combinations as 0.\n",
    "- **Adjacency** − Two node or vertices are adjacent if they are connected to each other through an edge. In the above example, B is adjacent to A, C is adjacent to B, and so on.\n",
    "- **Path** − Path represents a sequence of edges between the two vertices. In the above example, ABCD represents a path from A to D.\n",
    "- **Weight** Edges may be weighted, illustrating the 'price' of moving from one Vertex to another (like the road length from one city to another.\n",
    "- **cyclic vs acyclic** If a graph is cyclic it means that there are one ore more path that starts at a vertex and end at the same vertex.\n",
    "\n",
    "## Undirected Graphs\n",
    "\n",
    "A *graph* $G$ consists of a nonempty set, $V(G)$, called the *vertices* of $G$, and a set $E(G)$ called the *edges* of $G$.  \n",
    "\n",
    "An element of $E(G)$ is an *undirected* edge or simply an \"edge\". An undirected edge has two vertices $u\\neq v$ called its endpoints. Such an edge can be represented by the two element set $\\{u, v\\}$. The notation $\\langle u—v \\rangle$ denotes this edge.\n",
    "Both $\\langle u—v \\rangle$ and $\\langle v—u \\rangle$ define the same undirected edge, whose endpoints are $u$ and $v$.\n",
    "\n",
    "![](./images/graph_example.png)\n",
    "\n",
    "For example, let $H$ be the graph pictured in Figure above. The vertices of $H$\n",
    "correspond to the nine dots, that is, $V(H) = \\{a,b,c,d,e,f,g,h,i\\}$\n",
    "\n",
    "The edges correspond to the eight lines, that is,\n",
    "\n",
    "$E(H) = \\big\\{\\langle a—b \\rangle,\\langle a—c \\rangle,\\langle b—d \\rangle,\\langle c—d \\rangle,\\langle c—e \\rangle,\\langle e—f \\rangle,\\langle e—g \\rangle,\\langle h—i \\rangle\\big\\} $\n",
    "\n",
    "\n",
    "## Directed Graphs\n",
    "\n",
    "A *directed graph* -or *digraph*- $G$ consists of a nonempty set $V(G)$, called the vertices of $G$, and a set $E(G)$, called the edges of $G$. An element of $E(G)$ is called a *directed edge*. A directed edge is also called an \"arrow\" or simply an \"edge\". A directed edge starts at some vertex $u$ called the *tail* of the edge, and ends at some vertex $v$ called the *head* of the edge.\n",
    "\n",
    "![](./images/digraph_example.png)\n",
    "\n",
    "\n",
    "### Vertex Degrees\n",
    "\n",
    "The *in-degree* of a vertex in a digraph is the number of arrows coming into it, and similarly its *out-degree* is the number of arrows out of it.\n",
    "\n",
    "##### References:\n",
    "The definitions above and the illustrations are taken from the book:\n",
    "*Mathematics for Computer Science*, Eric Lehman, F. Tom Leighton, Albert R. Meyer\n",
    "https://courses.csail.mit.edu/6.042/spring17/mcs.pdf\n",
    "\n",
    "## More detailed explanation\n",
    "\n",
    "[A python guide to graph theory](https://runestone.academy/runestone/books/published/pythonds/Graphs/toctree.html)"
   ]
  },
  {
   "cell_type": "markdown",
   "metadata": {},
   "source": [
    "## Example of a weighted graph:\n",
    "```python\n",
    "g = {'Frankfurt': {'Mannheim':85, 'Wurzburg':217, 'Kassel':173},\n",
    "     'Mannheim': {'Frankfurt':85, 'Karlsruhe':80},\n",
    "     'Karlsruhe': {'Augsburg':250, 'Mannheim':80},\n",
    "     'Augsburg': {'Karlsruhe':250, 'Munchen':84},\n",
    "     'Wurzburg': {'Erfurt':186, 'Numberg':103,'Frankfurt':217},\n",
    "     'Erfurt': {'Wurzburg':186},\n",
    "     'Numberg': {'Wurzburg':103, 'Stuttgart':183,'Munchen':167},\n",
    "     'Munchen': {'Numberg':167, 'Augsburg':84,'Kassel':502},\n",
    "     'Kassel': {'Frankfurt':173, 'Munchen':502},\n",
    "     'Stuttgart': {'Numberg':183}\n",
    "     }\n",
    "```\n",
    "![](images/weighted_graph.png)"
   ]
  },
  {
   "cell_type": "markdown",
   "metadata": {},
   "source": [
    "### Graph use cases:\n",
    "1. Finding clusters in data using the connected_components algorithm (identifying all isolated parts of graph). Eg. roadmap to identify all islands\n",
    "2. Identify fraud by finding all connected accounts where the first account was idenfied as used for fraudulent purposes\n",
    "- In a social network find groups that are only connected to each other (like secrete societies or terror cells?)\n",
    "- From a phone calling list find the whole network of people connected to that phone."
   ]
  },
  {
   "cell_type": "markdown",
   "metadata": {},
   "source": [
    "## Graph traversal algorithm\n",
    "source: https://www.educative.io/edpresso/how-to-implement-a-breadth-first-search-in-python"
   ]
  },
  {
   "cell_type": "code",
   "execution_count": 1,
   "metadata": {},
   "outputs": [
    {
     "name": "stdout",
     "output_type": "stream",
     "text": [
      "A B C D E F "
     ]
    }
   ],
   "source": [
    "# Example of a Breath First Algorithm\n",
    "graph = {\n",
    "  'A' : ['B','C'],\n",
    "  'B' : ['D', 'E'],\n",
    "  'C' : ['F'],\n",
    "  'D' : [],\n",
    "  'E' : ['F'],\n",
    "  'F' : []\n",
    "}\n",
    "\n",
    "visited = [] # List to keep track of visited nodes.\n",
    "queue = []     #Initialize a queue\n",
    "\n",
    "def bfs(visited, graph, node):\n",
    "    visited.append(node)\n",
    "    queue.append(node)\n",
    "\n",
    "    while queue: # while the list is not empty\n",
    "        s = queue.pop(0) \n",
    "        print (s, end = \" \") # end = (default is \\n)\n",
    "\n",
    "        for neighbour in graph[s]:\n",
    "            if neighbour not in visited:\n",
    "                visited.append(neighbour)\n",
    "                queue.append(neighbour)\n",
    "\n",
    "# Driver Code\n",
    "bfs(visited, graph, 'A')"
   ]
  },
  {
   "cell_type": "code",
   "execution_count": 2,
   "metadata": {},
   "outputs": [
    {
     "ename": "SyntaxError",
     "evalue": "invalid syntax (<ipython-input-2-0734de9906d5>, line 2)",
     "output_type": "error",
     "traceback": [
      "\u001b[0;36m  File \u001b[0;32m\"<ipython-input-2-0734de9906d5>\"\u001b[0;36m, line \u001b[0;32m2\u001b[0m\n\u001b[0;31m    1. Traverse and print each node plus sequence number of the node in the traversal of the below graph:\u001b[0m\n\u001b[0m              ^\u001b[0m\n\u001b[0;31mSyntaxError\u001b[0m\u001b[0;31m:\u001b[0m invalid syntax\n"
     ]
    }
   ],
   "source": [
    "## Class exercise\n",
    "1. Traverse and print each node plus sequence number of the node in the traversal of the below graph:\n",
    "![](images/emp_graph.png)\n",
    "2. Create a function that can take a name and show all employees that are in the hierarchy of that supervisor. E.g Helge has all others, Charlie has Jannie and Else, etc."
   ]
  },
  {
   "cell_type": "code",
   "execution_count": null,
   "metadata": {},
   "outputs": [],
   "source": [
    "from my_notebooks.my_modules.graph_ex import employees as emp\n",
    "import nx\n",
    "def draw_graph(graph):\n",
    "    nx.draw(graph, pos=graphviz_layout(graph), \n",
    "            node_size=30, width=.05, cmap=plt.cm.Blues, \n",
    "            with_labels=True, node_color=range(len(graph)))\n",
    "\n",
    "G = nx.Graph(emp)\n",
    "draw_graph(G)"
   ]
  },
  {
   "cell_type": "markdown",
   "metadata": {
    "slideshow": {
     "slide_type": "subslide"
    }
   },
   "source": [
    "# Concrete example (LinkedIn)\n",
    "\n",
    "Lets generate a directed graph - a social network-, which expresses endorsements between various people similar as in *LinkedIn*. The nodes of our digraph will be persons and the edges will represent endorsments. \n",
    "\n",
    "### Name Generator\n",
    "For the nodes, we will generate a set of \"random\" people. That is, we generate names as given in the USA randomly. A list of US American names can be received here:\n",
    "http://www.census.gov/topics/population/genealogy/data/1990_census/1990_census_namefiles.html\n",
    "\n",
    "\n",
    "In the following we download the files and generate three lists, one for female names, one for male names, and one for surnames."
   ]
  },
  {
   "cell_type": "code",
   "execution_count": null,
   "metadata": {
    "slideshow": {
     "slide_type": "subslide"
    }
   },
   "outputs": [],
   "source": [
    "from modules import webget\n",
    "import random\n",
    "\n",
    "surnames_txt = 'http://www2.census.gov/topics/genealogy/1990surnames/dist.all.last'\n",
    "female_names_txt = 'http://www2.census.gov/topics/genealogy/1990surnames/dist.female.first'\n",
    "male_names_txt = 'http://www2.census.gov/topics/genealogy/1990surnames/dist.male.first'\n",
    "\n",
    "webget.download(surnames_txt, to='./last_names.txt')\n",
    "webget.download(female_names_txt, to='./female_names.txt')\n",
    "webget.download(male_names_txt, to='./male_names.txt') "
   ]
  },
  {
   "cell_type": "code",
   "execution_count": null,
   "metadata": {
    "slideshow": {
     "slide_type": "subslide"
    }
   },
   "outputs": [],
   "source": [
    "%%bash\n",
    "ls -ltr *names.txt"
   ]
  },
  {
   "cell_type": "code",
   "execution_count": null,
   "metadata": {
    "slideshow": {
     "slide_type": "subslide"
    }
   },
   "outputs": [],
   "source": [
    "def get_names_from(file):\n",
    "    with open(file, 'r') as fp:\n",
    "        return [x.split()[0] for x in fp]"
   ]
  },
  {
   "cell_type": "code",
   "execution_count": null,
   "metadata": {
    "slideshow": {
     "slide_type": "subslide"
    }
   },
   "outputs": [],
   "source": [
    "names = get_names_from('./last_names.txt')\n",
    "female_names = get_names_from('./female_names.txt')\n",
    "male_names = get_names_from('./male_names.txt')\n",
    "\n",
    "print('family names:{}, female names:{}, male names:{}'.format(len(names), len(female_names), len(male_names)))"
   ]
  },
  {
   "cell_type": "markdown",
   "metadata": {
    "slideshow": {
     "slide_type": "subslide"
    }
   },
   "source": [
    "We decide to let names be a two-element tuple consisting of a name and a surname."
   ]
  },
  {
   "cell_type": "code",
   "execution_count": null,
   "metadata": {
    "slideshow": {
     "slide_type": "subslide"
    }
   },
   "outputs": [],
   "source": [
    "import random \n",
    "def random_combination(list_a, list_b):\n",
    "    \"\"\"return a person by firstname and lastname randomly\"\"\"\n",
    "    return random.choice(list_a) + ' ' + random.choice(list_b)\n",
    "random_combination(female_names,names)"
   ]
  },
  {
   "cell_type": "code",
   "execution_count": null,
   "metadata": {
    "slideshow": {
     "slide_type": "subslide"
    }
   },
   "outputs": [],
   "source": [
    "def generate_random_names(amount=1, gender='female'):  \n",
    "    \"\"\"given an amount and a gender return that many persons by first and last-name\"\"\"\n",
    "    random_names = []\n",
    "    for i in range(amount):\n",
    "        if gender == 'female':\n",
    "            name = random_combination(female_names, names)\n",
    "        elif gender == 'male':\n",
    "            name = random_combination(male_names, names)\n",
    "        else:\n",
    "            name = random_combination(male_names + female_names, names)\n",
    "        random_names.append(name)\n",
    "    return random_names\n",
    "    \n",
    "generate_random_names(amount=10, gender='random')"
   ]
  },
  {
   "cell_type": "markdown",
   "metadata": {
    "slideshow": {
     "slide_type": "subslide"
    }
   },
   "source": [
    "# Generating Nodes\n",
    "\n",
    "Now, that we have our name generator in place we are good to start generating our *endorsment graph*.\n",
    "\n",
    "For our example graph, we decide that it contains 100 persons, i.e., 100 nodes. Half of the nodes represents women and the other half represents men."
   ]
  },
  {
   "cell_type": "code",
   "execution_count": null,
   "metadata": {
    "slideshow": {
     "slide_type": "subslide"
    }
   },
   "outputs": [],
   "source": [
    "total_no_nodes = 100\n",
    "no_nodes_per_gender = total_no_nodes // 2"
   ]
  },
  {
   "cell_type": "code",
   "execution_count": 3,
   "metadata": {
    "slideshow": {
     "slide_type": "fragment"
    }
   },
   "outputs": [
    {
     "ename": "NameError",
     "evalue": "name 'generate_random_names' is not defined",
     "output_type": "error",
     "traceback": [
      "\u001b[0;31m---------------------------------------------------------------------------\u001b[0m",
      "\u001b[0;31mNameError\u001b[0m                                 Traceback (most recent call last)",
      "\u001b[0;32m<ipython-input-3-41032f847288>\u001b[0m in \u001b[0;36m<module>\u001b[0;34m\u001b[0m\n\u001b[0;32m----> 1\u001b[0;31m \u001b[0mfemale_names_list\u001b[0m \u001b[0;34m=\u001b[0m \u001b[0mgenerate_random_names\u001b[0m\u001b[0;34m(\u001b[0m\u001b[0mamount\u001b[0m\u001b[0;34m=\u001b[0m\u001b[0mno_nodes_per_gender\u001b[0m\u001b[0;34m,\u001b[0m \u001b[0mgender\u001b[0m\u001b[0;34m=\u001b[0m\u001b[0;34m'female'\u001b[0m\u001b[0;34m)\u001b[0m\u001b[0;34m\u001b[0m\u001b[0;34m\u001b[0m\u001b[0m\n\u001b[0m\u001b[1;32m      2\u001b[0m \u001b[0mmale_names_list\u001b[0m \u001b[0;34m=\u001b[0m \u001b[0mgenerate_random_names\u001b[0m\u001b[0;34m(\u001b[0m\u001b[0mamount\u001b[0m\u001b[0;34m=\u001b[0m\u001b[0mno_nodes_per_gender\u001b[0m\u001b[0;34m,\u001b[0m \u001b[0mgender\u001b[0m\u001b[0;34m=\u001b[0m\u001b[0;34m'male'\u001b[0m\u001b[0;34m)\u001b[0m\u001b[0;34m\u001b[0m\u001b[0;34m\u001b[0m\u001b[0m\n",
      "\u001b[0;31mNameError\u001b[0m: name 'generate_random_names' is not defined"
     ]
    }
   ],
   "source": [
    "female_names_list = generate_random_names(amount=no_nodes_per_gender, gender='female')\n",
    "male_names_list = generate_random_names(amount=no_nodes_per_gender, gender='male')"
   ]
  },
  {
   "cell_type": "code",
   "execution_count": null,
   "metadata": {
    "slideshow": {
     "slide_type": "fragment"
    }
   },
   "outputs": [],
   "source": [
    "all_names_list = female_names_list + male_names_list \n",
    "all_names_list[:4]"
   ]
  },
  {
   "cell_type": "markdown",
   "metadata": {
    "slideshow": {
     "slide_type": "subslide"
    }
   },
   "source": [
    "# Generating Edges\n",
    "\n",
    "Randomly connected (=endorsed).\n",
    "Also, it is not possible for a person to connect to herself."
   ]
  },
  {
   "cell_type": "code",
   "execution_count": null,
   "metadata": {
    "slideshow": {
     "slide_type": "subslide"
    }
   },
   "outputs": [],
   "source": [
    "from tqdm import tqdm\n",
    "from random import randint\n",
    "from numpy.random import choice"
   ]
  },
  {
   "cell_type": "markdown",
   "metadata": {},
   "source": [
    "### Creating random numbers \n",
    "Each person needs a number of connections.  \n",
    "We will create a random number between 0 and 100 (both inclusive) with controlled probability. Eg. the chance of getting a number between 5 to 10 is much higher than a number from 51 to 100 or getting 0"
   ]
  },
  {
   "cell_type": "code",
   "execution_count": null,
   "metadata": {
    "slideshow": {
     "slide_type": "subslide"
    }
   },
   "outputs": [],
   "source": [
    "RELATION_CLASSES = {\n",
    "        0: (0, 0),\n",
    "        1: (1, 4),\n",
    "        2: (5, 10),\n",
    "        3: (11, 20),\n",
    "        4: (21, 50),\n",
    "        5: (51, 100)\n",
    "    }\n",
    "PROBABILITIES = [0.05, 0.36, 0.45, 0.1, 0.035, 0.005]"
   ]
  },
  {
   "cell_type": "code",
   "execution_count": null,
   "metadata": {
    "slideshow": {
     "slide_type": "subslide"
    }
   },
   "outputs": [],
   "source": [
    "def get_no_endorsements():\n",
    "    \"\"\"returns a random number between 0 and 100 based on probabilites\"\"\"\n",
    "    no_relation_class = choice(list(RELATION_CLASSES.keys()), \n",
    "                               p=PROBABILITIES)\n",
    "    no_endorsments = randint(RELATION_CLASSES[no_relation_class][0], \n",
    "                             RELATION_CLASSES[no_relation_class][1])\n",
    "    return no_endorsments\n",
    "\n",
    "a = [1, 2, 3, 4]\n",
    "b = [5, 6, 7, 8]\n",
    "print(list(zip(a, b)))\n",
    "get_no_endorsements()"
   ]
  },
  {
   "cell_type": "code",
   "execution_count": null,
   "metadata": {
    "slideshow": {
     "slide_type": "subslide"
    }
   },
   "outputs": [],
   "source": [
    "def create_endorsements(node_list):\n",
    "    \"\"\"based on a list of names returns a list of graph edges like [(1,10), (1,4), (1,99), ...]\"\"\"\n",
    "    endorsements = []\n",
    "    idx_list = range(len(node_list))\n",
    "\n",
    "    for idx, name_pair in tqdm(enumerate(node_list)):\n",
    "        # get how many people this person (name_pair) endorses\n",
    "        no_endorsments = get_no_endorsements()\n",
    "        if no_endorsments > 0:\n",
    "            # get a list of potential endorsements\n",
    "            potential_endorsement_idxs = random.sample(idx_list, no_endorsments)\n",
    "            if idx in potential_endorsement_idxs:\n",
    "                # Removing myself in case I am in the list\n",
    "                # cannot endorse myself\n",
    "                idx_me_in_endorsements = potential_endorsement_idxs.index(idx)\n",
    "                del potential_endorsement_idxs[idx_me_in_endorsements]\n",
    "            # zip idx * number of endorsements width each endorsement\n",
    "            endorsements += list(zip([idx for _ in range(len(potential_endorsement_idxs))], \n",
    "                                     potential_endorsement_idxs))\n",
    "    return endorsements\n",
    "\n",
    "endorsements = create_endorsements(all_names_list)\n",
    "endorsements"
   ]
  },
  {
   "cell_type": "code",
   "execution_count": null,
   "metadata": {
    "slideshow": {
     "slide_type": "subslide"
    }
   },
   "outputs": [],
   "source": [
    "print(endorsements[:20])\n",
    "print(all_names_list[:20])"
   ]
  },
  {
   "cell_type": "code",
   "execution_count": null,
   "metadata": {
    "slideshow": {
     "slide_type": "subslide"
    }
   },
   "outputs": [],
   "source": [
    "#%%bash\n",
    "#conda install -y networkx\n",
    "#conda install -c anaconda pygraphviz "
   ]
  },
  {
   "cell_type": "code",
   "execution_count": null,
   "metadata": {
    "slideshow": {
     "slide_type": "subslide"
    }
   },
   "outputs": [],
   "source": [
    "%matplotlib inline\n",
    "import warnings\n",
    "warnings.filterwarnings('ignore')"
   ]
  },
  {
   "cell_type": "markdown",
   "metadata": {},
   "source": [
    "## networkx\n",
    "NetworkX is a Python package for the creation, manipulation, and study of complex networks.\n",
    "\n",
    "Read more about it [here](https://networkx.github.io/documentation/stable/reference/introduction.html)"
   ]
  },
  {
   "cell_type": "code",
   "execution_count": null,
   "metadata": {
    "scrolled": true,
    "slideshow": {
     "slide_type": "subslide"
    }
   },
   "outputs": [],
   "source": [
    "import networkx as nx\n",
    "import matplotlib.pyplot as plt\n",
    "from networkx.drawing.nx_agraph import graphviz_layout, write_dot\n",
    "\n",
    "def create_graph():\n",
    "    graph = nx.DiGraph() \n",
    "    graph.clear()\n",
    "\n",
    "    # add node by node, needed to add attributes...\n",
    "    print(len(all_names_list))\n",
    "\n",
    "    for idx, name_pair in enumerate(all_names_list):\n",
    "        graph.add_node(idx, name=' '.join(name_pair))\n",
    "    \n",
    "    # graph.add_nodes_from(all_names_list)\n",
    "    graph.add_edges_from(endorsements)\n",
    "\n",
    "    return graph"
   ]
  },
  {
   "cell_type": "code",
   "execution_count": null,
   "metadata": {},
   "outputs": [],
   "source": [
    "import pygraphviz"
   ]
  },
  {
   "cell_type": "code",
   "execution_count": null,
   "metadata": {
    "slideshow": {
     "slide_type": "subslide"
    }
   },
   "outputs": [],
   "source": [
    "def draw_graph(graph):\n",
    "    nx.draw(graph, pos=graphviz_layout(graph), \n",
    "            node_size=30, width=.05, cmap=plt.cm.Blues, \n",
    "            with_labels=True, node_color=range(len(graph)))\n",
    "    \n",
    "graph = create_graph()\n",
    "draw_graph(graph)\n",
    "\n",
    "#nx.write_gml(graph, './social_network.gml')"
   ]
  },
  {
   "cell_type": "code",
   "execution_count": null,
   "metadata": {
    "slideshow": {
     "slide_type": "subslide"
    }
   },
   "outputs": [],
   "source": [
    "print(graph.nodes[10]['name'])\n",
    "print(graph.out_degree(10))\n",
    "print(graph.out_edges(10))\n",
    "print(graph.in_edges(10))"
   ]
  },
  {
   "cell_type": "code",
   "execution_count": null,
   "metadata": {
    "slideshow": {
     "slide_type": "subslide"
    }
   },
   "outputs": [],
   "source": [
    "# print(graph.node)\n",
    "print(graph.number_of_nodes())"
   ]
  },
  {
   "cell_type": "markdown",
   "metadata": {},
   "source": [
    "## Class exercise\n",
    "Which person has the highest out-degree in the above graph?"
   ]
  },
  {
   "cell_type": "markdown",
   "metadata": {
    "slideshow": {
     "slide_type": "subslide"
    }
   },
   "source": [
    "## Who is the most interesting person in our network?\n",
    "\n",
    "Likely, you are tempted to find the person in the graph, which has the highest in-degree. For example with code similar to the following."
   ]
  },
  {
   "cell_type": "code",
   "execution_count": null,
   "metadata": {
    "slideshow": {
     "slide_type": "subslide"
    }
   },
   "outputs": [],
   "source": [
    "import numpy as np\n",
    "\n",
    "in_deg_vec = np.array([graph.in_degree(n) for n in graph.nodes()])\n",
    "print(in_deg_vec)\n",
    "in_deg_vec.max() # return largest value"
   ]
  },
  {
   "cell_type": "code",
   "execution_count": null,
   "metadata": {
    "slideshow": {
     "slide_type": "subslide"
    }
   },
   "outputs": [],
   "source": [
    "print(np.argmax(in_deg_vec))\n",
    "idx = np.argmax(in_deg_vec) # returns the index of the largest value\n",
    "print(graph.nodes[idx]['name'])"
   ]
  },
  {
   "cell_type": "markdown",
   "metadata": {
    "slideshow": {
     "slide_type": "subslide"
    }
   },
   "source": [
    "\n",
    "However, there is an issue with this solution. To make yourself the most interesting person you would just have to create a lot of profiles of people endorsing you. This issue can be overcome by applying the ***PageRank*** algorithm.\n",
    "\n",
    "### We will return to that later\n",
    "\n",
    "First lets look at an undirected graph from a twitter dataset"
   ]
  },
  {
   "cell_type": "markdown",
   "metadata": {
    "slideshow": {
     "slide_type": "subslide"
    }
   },
   "source": [
    "## Working with a twitter dataset\n",
    "\n",
    "https://snap.stanford.edu/data/egonets-Twitter.html"
   ]
  },
  {
   "cell_type": "code",
   "execution_count": null,
   "metadata": {
    "slideshow": {
     "slide_type": "subslide"
    }
   },
   "outputs": [],
   "source": [
    "!wget https://snap.stanford.edu/data/twitter_combined.txt.gz"
   ]
  },
  {
   "cell_type": "code",
   "execution_count": null,
   "metadata": {
    "scrolled": true,
    "slideshow": {
     "slide_type": "subslide"
    }
   },
   "outputs": [],
   "source": [
    "import gzip\n",
    "#!gunzip twitter_combined.txt.gz\n",
    "with gzip.open('data/twitter_combined.txt.gz','rb') as f_in:\n",
    "    twitter_data = f_in.read()\n",
    "    with open('data/twitter_combined.txt', 'wb') as f_out:\n",
    "        f_out.write(twitter_data)"
   ]
  },
  {
   "cell_type": "code",
   "execution_count": null,
   "metadata": {},
   "outputs": [],
   "source": [
    "!ls data/twitter_combined.txt"
   ]
  },
  {
   "cell_type": "code",
   "execution_count": null,
   "metadata": {
    "slideshow": {
     "slide_type": "subslide"
    }
   },
   "outputs": [],
   "source": [
    "import networkx as nx"
   ]
  },
  {
   "cell_type": "code",
   "execution_count": null,
   "metadata": {
    "slideshow": {
     "slide_type": "subslide"
    }
   },
   "outputs": [],
   "source": [
    "g = nx.read_edgelist('data/twitter_combined.txt')"
   ]
  },
  {
   "cell_type": "markdown",
   "metadata": {
    "slideshow": {
     "slide_type": "subslide"
    }
   },
   "source": [
    "## Networkx documentation for undirected graphs\n",
    "https://networkx.github.io/documentation/stable/reference/classes/graph.html"
   ]
  },
  {
   "cell_type": "code",
   "execution_count": null,
   "metadata": {
    "slideshow": {
     "slide_type": "subslide"
    }
   },
   "outputs": [],
   "source": [
    "print(nx.info(g))"
   ]
  },
  {
   "cell_type": "code",
   "execution_count": null,
   "metadata": {
    "slideshow": {
     "slide_type": "subslide"
    }
   },
   "outputs": [],
   "source": [
    "'214328887' in g"
   ]
  },
  {
   "cell_type": "code",
   "execution_count": null,
   "metadata": {
    "slideshow": {
     "slide_type": "subslide"
    }
   },
   "outputs": [],
   "source": [
    "# Atlas view is a mapping of mappings (for key=node, value=edge weight)\n",
    "g['214328887']"
   ]
  },
  {
   "cell_type": "code",
   "execution_count": null,
   "metadata": {
    "slideshow": {
     "slide_type": "subslide"
    }
   },
   "outputs": [],
   "source": [
    "len(g)"
   ]
  },
  {
   "cell_type": "code",
   "execution_count": null,
   "metadata": {
    "slideshow": {
     "slide_type": "subslide"
    }
   },
   "outputs": [],
   "source": [
    "len(list(g.neighbors('214328887'))) # same as g['21432887']"
   ]
  },
  {
   "cell_type": "code",
   "execution_count": null,
   "metadata": {
    "slideshow": {
     "slide_type": "subslide"
    }
   },
   "outputs": [],
   "source": [
    "for neighbor in g.neighbors('214328887'):\n",
    "    print(neighbor)"
   ]
  },
  {
   "cell_type": "markdown",
   "metadata": {},
   "source": [
    "## Class exercise\n",
    "Which node in the twitter data has the most connections?"
   ]
  },
  {
   "cell_type": "markdown",
   "metadata": {},
   "source": [
    "## Self study if you desire\n",
    "\n",
    "Below code is from [geeksforgeeks](https://www.geeksforgeeks.org/find-the-minimum-number-of-moves-to-reach-end-of-the-array/).  \n",
    "It shows how to create a graph from an array of integers where: \n",
    "1. Each element in the array is neighbor with elements on previous and next index\n",
    "2. Each element in the array is neighbor with any other element with the same value  \n",
    "**Illustrated with array:  [1, 2, 3, 4, 1, 5] like below**\n",
    "![](images/graph_exercise.png)\n",
    "\n",
    "And to find the ***shortest possible*** path through the graph"
   ]
  },
  {
   "cell_type": "code",
   "execution_count": null,
   "metadata": {},
   "outputs": [],
   "source": [
    "# Find the shortest possible road through an array of 0-9. A graph where each cell is connected to prev and next and to any same value\n",
    "# source: https://www.geeksforgeeks.org/find-the-minimum-number-of-moves-to-reach-end-of-the-array/\n",
    "from collections import deque \n",
    "N = 100005\n",
    "\n",
    "# the graph is an array of arrays where inner array represent nodes and values in inner represent edges\n",
    "gr = [[] for i in range(N)] \n",
    "  \n",
    "# Function to add edge \n",
    "def add_edge(u, v): \n",
    "    gr[u].append(v) \n",
    "    gr[v].append(u)\n",
    "    \n",
    "# function to return the minimum path \n",
    "# from 0th node to the (n - 1)th node \n",
    "def dijkstra(n): \n",
    "      \n",
    "    # To check whether an edge is visited \n",
    "    # or not and to keep distance of vertex \n",
    "    # from 0th index \n",
    "    vis = [0 for i in range(n)] \n",
    "    dist = [10**9 for i in range(n)] \n",
    "  \n",
    "    # Make 0th index visited and  \n",
    "    # distance is zero \n",
    "    vis[0] = 1\n",
    "    dist[0] = 0\n",
    "  \n",
    "    # Take a queue and  \n",
    "    # append first element \n",
    "    q = deque() \n",
    "    q.append(0) \n",
    "  \n",
    "    # Continue this until   \n",
    "    # all vertices are visited \n",
    "    while (len(q) > 0): \n",
    "        x = q.popleft() \n",
    "  \n",
    "        # Remove the first element \n",
    "        for i in gr[x]: \n",
    "  \n",
    "            # Check if a vertex is  \n",
    "            # already visited or not \n",
    "            if (vis[i] == 1): \n",
    "                continue\n",
    "  \n",
    "            # Make vertex visited \n",
    "            vis[i] = 1\n",
    "  \n",
    "            # Store the number of moves  \n",
    "            # to reach element \n",
    "            dist[i] = dist[x] + 1\n",
    "  \n",
    "            # Push the current vertex \n",
    "            # into the queue \n",
    "            q.append(i) \n",
    "  \n",
    "    # Return the minimum number of \n",
    "    # moves to reach (n - 1)th index \n",
    "    return dist[n - 1] \n",
    "  \n",
    "# Function to return the minimum number of moves \n",
    "# required to reach the end of the array \n",
    "def Min_Moves(a, n): \n",
    "  \n",
    "    # To store the positions of each element \n",
    "    fre = [[] for i in range(10)] \n",
    "    for i in range(n): \n",
    "        if (i != n - 1): \n",
    "            add_edge(i, i + 1) \n",
    "  \n",
    "        fre[a[i]].append(i) \n",
    "  \n",
    "    # Add edge between same elements \n",
    "    for i in range(10): \n",
    "        for j in range(len(fre[i])): \n",
    "            for k in range(j + 1,len(fre[i])): \n",
    "                if (fre[i][j] + 1 != fre[i][k] and \n",
    "                    fre[i][j] - 1 != fre[i][k]): \n",
    "                    add_edge(fre[i][j], fre[i][k]) \n",
    "  \n",
    "    # Return the required  \n",
    "    # minimum number of moves \n",
    "    return dijkstra(n) \n",
    "  \n",
    "# Driver code \n",
    "a = [1, 2, 3, 4, 1, 5] \n",
    "n = len(a) \n",
    "\n",
    "print(Min_Moves(a, n)) \n",
    "  \n",
    "# This code is contributed by Mohit Kumar \n"
   ]
  },
  {
   "cell_type": "markdown",
   "metadata": {
    "slideshow": {
     "slide_type": "slide"
    }
   },
   "source": [
    "# PageRank Algorithm\n",
    "\n",
    "**PageRank** was one of the original ideas that set Google's search apart from other Web search engines when it was introduced in 1997.\n",
    "\n",
    "PageRank was invented to solve the problem of term-frequency (TF) tyranny: if we are searching for `IBM`, how do we make sure that the *first* result is IBM's website, and not a random page that mentioned `IBM` more frequently?\n",
    "\n",
    "The idea is that ibm.com has many in-links (links to the page) so it should be ranked higher.\n",
    "Each in-link is a vote for the quality of the linked-to page. But if we only count in-links it would be possible for a web spammer to create a network of pages and have them all point to his page, increasing the score of his page. \n",
    "\n",
    "Therefore the PageRank algorithm is designed to weight links from high-quality sites more heavily. A high-quality site is one that is linked to by other high-quality sites.\n",
    "\n",
    "##### References:\n",
    "The above description is from *Artificial Intelligence: A Modern Approach Third Edition* by Stuart J. Russell and Peter Norvig."
   ]
  },
  {
   "cell_type": "markdown",
   "metadata": {
    "slideshow": {
     "slide_type": "subslide"
    }
   },
   "source": [
    "## PageRank implementation\n",
    "\n",
    "\n",
    "$PR(p) = \\frac{1-d}{N} + d \\sum_{i}^{} \\frac{PR(in_{i})}{C(in_{i})}$\n",
    "\n",
    "Where $PR(p)$ is the page rank of page $p$, $N$ is the total number of pages, $in_i$ are the pages that link *to* page $p$ and $C(in_i)$ is the count of the total number of out-links on page $in_i$. The constant $d$ is a [dampening factor](https://www.quora.com/What-is-the-function-of-the-damping-factor-in-PageRank) to reduce the value for each link.\n",
    "\n",
    "This is an iterative algorithm, where we start with all pages having rank = 1."
   ]
  },
  {
   "cell_type": "code",
   "execution_count": null,
   "metadata": {
    "slideshow": {
     "slide_type": "subslide"
    }
   },
   "outputs": [],
   "source": [
    "import numpy as np\n",
    "\n",
    "GLOBAL_PR = np.ones(graph.number_of_nodes())\n",
    "d = 0.8 # dampening factor\n",
    "\n",
    "def compute_page_rank(graph, no_it=100):\n",
    "    \"\"\"Computes the page rank of the given graph\n",
    "    Arguments:\n",
    "      graph: A networkx graph\n",
    "      no_it: A number of iterations to run the algorithm\n",
    "    \"\"\"\n",
    "    for _ in range(no_it):\n",
    "        for node in graph.nodes:\n",
    "            # get all in-edges for the node\n",
    "            edges_in = [t[0] for t in graph.in_edges(node)]\n",
    "            sum_in = 0\n",
    "            for in_node in edges_in:\n",
    "                # for each in-node find number of out edges\n",
    "                c = len(graph.out_edges(in_node))\n",
    "                pr = GLOBAL_PR[in_node]\n",
    "                sum_in += pr / c\n",
    "            sum_in *= d\n",
    "            new_rank = sum_in + ((1 - d) / len(GLOBAL_PR))\n",
    "            # Set new calculated value for the node (started at 1)\n",
    "            GLOBAL_PR[node] = new_rank"
   ]
  },
  {
   "cell_type": "code",
   "execution_count": null,
   "metadata": {
    "slideshow": {
     "slide_type": "subslide"
    }
   },
   "outputs": [],
   "source": [
    "compute_page_rank(graph, no_it=100)\n",
    "print('The highest PR is {}'.format(GLOBAL_PR[np.argmax(GLOBAL_PR)]))\n",
    "print('The node with the highest PR is {}'.format(np.argmax(GLOBAL_PR)))\n",
    "print('The person with the highest Page Rank is {}'.format(graph.nodes[np.argmax(GLOBAL_PR)]['name']))\n",
    "print(GLOBAL_PR)"
   ]
  }
 ],
 "metadata": {
  "celltoolbar": "Slideshow",
  "kernelspec": {
   "display_name": "Python 3",
   "language": "python",
   "name": "python3"
  },
  "language_info": {
   "codemirror_mode": {
    "name": "ipython",
    "version": 3
   },
   "file_extension": ".py",
   "mimetype": "text/x-python",
   "name": "python",
   "nbconvert_exporter": "python",
   "pygments_lexer": "ipython3",
   "version": "3.7.6"
  },
  "varInspector": {
   "cols": {
    "lenName": 16,
    "lenType": 16,
    "lenVar": 40
   },
   "kernels_config": {
    "python": {
     "delete_cmd_postfix": "",
     "delete_cmd_prefix": "del ",
     "library": "var_list.py",
     "varRefreshCmd": "print(var_dic_list())"
    },
    "r": {
     "delete_cmd_postfix": ") ",
     "delete_cmd_prefix": "rm(",
     "library": "var_list.r",
     "varRefreshCmd": "cat(var_dic_list()) "
    }
   },
   "types_to_exclude": [
    "module",
    "function",
    "builtin_function_or_method",
    "instance",
    "_Feature"
   ],
   "window_display": false
  }
 },
 "nbformat": 4,
 "nbformat_minor": 2
}
