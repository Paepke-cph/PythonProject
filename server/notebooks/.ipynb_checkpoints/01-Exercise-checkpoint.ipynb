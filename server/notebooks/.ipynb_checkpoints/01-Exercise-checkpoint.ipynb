{
 "cells": [
  {
   "cell_type": "markdown",
   "metadata": {},
   "source": [
    "## Exercise"
   ]
  },
  {
   "cell_type": "markdown",
   "metadata": {},
   "source": [
    "1. Create 5 list comprehensions to solve the following 5 problems:\n",
    "  1. Iterate a list of names to return a list of the names starting with H\n",
    "  2. In one line create a list of the numbers 1-100 to the power of 3\n",
    "  3. Iterate a list of names to create a list of tuples where the tuples first value is the length of the name and the second is the name\n",
    "  4. Iterate over each character in a string and get only those that are nummeric\n",
    "  5. Using only a list comprehension wrapped in set() get all possible combination from throwing 2 dice (hint use 2 for loops in a single list comprehension)\n",
    "\n",
    "2. Create 2 dictionary comprehensions to solve the following:\n",
    "  1. Iterate a list of names and create a dictionary where key is the name and value is the length of the name\n",
    "  2. Iterate a list of numbers and create a dictionary with {key:value} being {number:squareroot_of_number}\n",
    "\n",
    "3. Extra assignment (This one goes beyond what is covered in the course notebooks. So only do it if you want an extra challenge).\n",
    "  - Progammatically using loops create a small program to produce a dictionary with all the 2 dice throw combinations as keys and their likelyhood in percent as values"
   ]
  },
  {
   "cell_type": "markdown",
   "metadata": {},
   "source": [
    "### Exercise 1"
   ]
  },
  {
   "cell_type": "code",
   "execution_count": 45,
   "metadata": {},
   "outputs": [
    {
     "name": "stdout",
     "output_type": "stream",
     "text": [
      "Combinations: {(1, 3), (6, 6), (5, 6), (2, 1), (6, 2), (1, 6), (5, 1), (2, 5), (1, 2), (3, 3), (5, 5), (4, 4), (6, 3), (1, 5), (3, 6), (2, 2), (4, 1), (1, 1), (6, 4), (3, 2), (2, 6), (5, 4), (4, 5), (5, 2), (1, 4), (2, 3), (4, 2), (6, 5), (3, 5), (5, 3), (4, 6), (6, 1), (3, 1), (4, 3), (3, 4), (2, 4)}\n",
      "36\n"
     ]
    }
   ],
   "source": [
    "names = [\"Berniece\",\"Jessica\",\"Mandy\",\"Hansen\",\"Glory\", \"Hamil\",\"Hanne\",\"henrik\"]\n",
    "aString = \"this123IsAStringWith45678numeric90valusinit\"\n",
    "#print(\"All Names: \", names)\n",
    "# 1.1\n",
    "hNames = [h for h in names if h[0] == \"h\" or h[0] == \"H\"]\n",
    "#print(\"Names starting with h:\",hNames)\n",
    "\n",
    "# 1.2\n",
    "powerOfThree = [x**3 for x in range(100)]\n",
    "#print(\"Power of three:\", powerOfThree)\n",
    "\n",
    "# 1.3\n",
    "nameAndLength = [(x,len(x)) for x in names]\n",
    "#print(\"Name and Length:\", nameAndLength)\n",
    "\n",
    "# 1.4\n",
    "numericValues = [x for x in aString if x.isdigit()]\n",
    "#print(\"Numeric values:\", numericValues)\n",
    "\n",
    "# 1.5\n",
    "diceRange = range(1,7)\n",
    "combinations = set([(x,y) for x in diceRange for y in diceRange])\n",
    "#print(\"Combinations:\",combinations)\n",
    "#print(len(combinations))"
   ]
  },
  {
   "cell_type": "markdown",
   "metadata": {},
   "source": [
    "### Exercise 2"
   ]
  },
  {
   "cell_type": "code",
   "execution_count": 49,
   "metadata": {},
   "outputs": [
    {
     "name": "stdout",
     "output_type": "stream",
     "text": [
      "{0: 0, 1: 1, 2: 4, 3: 9, 4: 16, 5: 25, 6: 36, 7: 49, 8: 64, 9: 81}\n"
     ]
    }
   ],
   "source": [
    "names = [\"Berniece\",\"Jessica\",\"Mandy\",\"Hansen\",\"Glory\", \"Hamil\",\"Hanne\",\"henrik\"]\n",
    "numbers = [x for x in range(10)]\n",
    "\n",
    "# 2.1\n",
    "nameDictionary = {n:len(n) for n in names}\n",
    "#print(nameDictionary)\n",
    "\n",
    "# 2.2\n",
    "squareMap = {x:x**2 for x in numbers}\n",
    "print(squareMap)\n"
   ]
  },
  {
   "cell_type": "markdown",
   "metadata": {},
   "source": [
    "### Exercise 3"
   ]
  },
  {
   "cell_type": "code",
   "execution_count": 65,
   "metadata": {},
   "outputs": [
    {
     "name": "stdout",
     "output_type": "stream",
     "text": [
      "(1, 1) 0.027777777777777776\n",
      "(1, 2) 0.05555555555555555\n",
      "(1, 3) 0.08333333333333333\n",
      "(1, 4) 0.1111111111111111\n",
      "(1, 5) 0.1388888888888889\n",
      "(1, 6) 0.16666666666666666\n",
      "(2, 1) 0.05555555555555555\n",
      "(2, 2) 0.08333333333333333\n",
      "(2, 3) 0.1111111111111111\n",
      "(2, 4) 0.1388888888888889\n",
      "(2, 5) 0.16666666666666666\n",
      "(2, 6) 0.1388888888888889\n",
      "(3, 1) 0.08333333333333333\n",
      "(3, 2) 0.1111111111111111\n",
      "(3, 3) 0.1388888888888889\n",
      "(3, 4) 0.16666666666666666\n",
      "(3, 5) 0.1388888888888889\n",
      "(3, 6) 0.1111111111111111\n",
      "(4, 1) 0.1111111111111111\n",
      "(4, 2) 0.1388888888888889\n",
      "(4, 3) 0.16666666666666666\n",
      "(4, 4) 0.1388888888888889\n",
      "(4, 5) 0.1111111111111111\n",
      "(4, 6) 0.08333333333333333\n",
      "(5, 1) 0.1388888888888889\n",
      "(5, 2) 0.16666666666666666\n",
      "(5, 3) 0.1388888888888889\n",
      "(5, 4) 0.1111111111111111\n",
      "(5, 5) 0.08333333333333333\n",
      "(5, 6) 0.05555555555555555\n",
      "(6, 1) 0.16666666666666666\n",
      "(6, 2) 0.1388888888888889\n",
      "(6, 3) 0.1111111111111111\n",
      "(6, 4) 0.08333333333333333\n",
      "(6, 5) 0.05555555555555555\n",
      "(6, 6) 0.027777777777777776\n"
     ]
    }
   ],
   "source": [
    "# 3.1\n",
    "numberOfDice = 2\n",
    "diceRange = range(1,7)\n",
    "diceCombinations = len(diceRange)**numberOfDice\n",
    "dice_dict = {}\n",
    "# Fill the dict\n",
    "for x in diceRange:\n",
    "    for y in diceRange:\n",
    "        targetValue = x + y\n",
    "        hits = 0\n",
    "        for d1 in diceRange:\n",
    "            for d2 in diceRange:\n",
    "                if(d1+d2 == targetValue):\n",
    "                    hits += 1\n",
    "        dice_dict[(x,y)] = hits / diceCombinations\n",
    "\n",
    "# Print the dict\n",
    "for key in dice_dict:\n",
    "    print(key, dice_dict[key])"
   ]
  },
  {
   "cell_type": "markdown",
   "metadata": {},
   "source": [
    "# Class Exercise for 01-1 Intro\n",
    "![](https://miro.medium.com/max/1266/1*Pb8oEA1nGIONsSJk7QSVzg.png)"
   ]
  },
  {
   "cell_type": "code",
   "execution_count": 7,
   "metadata": {},
   "outputs": [
    {
     "name": "stdout",
     "output_type": "stream",
     "text": [
      "First number:5\n",
      "Second number:10\n",
      "Result:  50\n"
     ]
    }
   ],
   "source": [
    "var1 = input(\"First number:\")\n",
    "var2 = input(\"Second number:\")\n",
    "\n",
    "print(\"Result: \", int(var1) * int(var2))"
   ]
  },
  {
   "cell_type": "code",
   "execution_count": null,
   "metadata": {},
   "outputs": [],
   "source": []
  }
 ],
 "metadata": {
  "kernelspec": {
   "display_name": "Python 3",
   "language": "python",
   "name": "python3"
  },
  "language_info": {
   "codemirror_mode": {
    "name": "ipython",
    "version": 3
   },
   "file_extension": ".py",
   "mimetype": "text/x-python",
   "name": "python",
   "nbconvert_exporter": "python",
   "pygments_lexer": "ipython3",
   "version": "3.7.6"
  }
 },
 "nbformat": 4,
 "nbformat_minor": 2
}
