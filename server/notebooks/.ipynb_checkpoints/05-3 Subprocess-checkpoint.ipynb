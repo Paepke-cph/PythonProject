{
 "cells": [
  {
   "cell_type": "markdown",
   "metadata": {},
   "source": [
    "\n",
    "### Collecting information on the CLI\n",
    "\n",
    "To see the header of the file that is of our interest, we can use the `head` command.\n",
    "1. `glob` python module to find files in the file system\n",
    "2. `%%bash` run bash commands directly in jupyter notebook cells\n",
    "3. `subprocess` module allows us to execute shell commands and to read what the process was writing to standard out and standard error\n"
   ]
  },
  {
   "cell_type": "code",
   "execution_count": 2,
   "metadata": {},
   "outputs": [],
   "source": [
    "import numpy as np\n",
    "import pandas as pd"
   ]
  },
  {
   "cell_type": "markdown",
   "metadata": {},
   "source": [
    "Additionally, you can make use of the `glob` module to glob for certain file patterns. We will store the filename of the CSV file we are interested in, in a variable called `local_file`."
   ]
  },
  {
   "cell_type": "code",
   "execution_count": 4,
   "metadata": {
    "tags": []
   },
   "outputs": [
    {
     "name": "stdout",
     "output_type": "stream",
     "text": [
      "./data/API_EN.ATM.CO2E.KT_DS2_en_csv_v2_887574.csv\n",
      "./data/Metadata_Country_API_EN.ATM.CO2E.KT_DS2_en_csv_v2_887574.csv\n",
      "./data/Metadata_Indicator_API_EN.ATM.CO2E.KT_DS2_en_csv_v2_887574.csv\n"
     ]
    }
   ],
   "source": [
    "!ls ./data/*API_EN*.csv"
   ]
  },
  {
   "cell_type": "code",
   "execution_count": 6,
   "metadata": {
    "tags": []
   },
   "outputs": [
    {
     "name": "stdout",
     "output_type": "stream",
     "text": [
      "./data/Metadata_Country_API_EN.ATM.CO2E.KT_DS2_en_csv_v2_887574.csv\n"
     ]
    }
   ],
   "source": [
    "from glob import glob\n",
    "# glob is useful in any situation where your program needs to look for a list of files on the filesystem with names matching a pattern. If you need a list of filenames that all have a certain extension, prefix, or any common string in the middle, use glob instead of writing code to scan the directory contents yourself.\n",
    "\n",
    "local_files = glob('./data/*API_EN*.csv')\n",
    "local_file = local_files[0]\n",
    "print(local_file)"
   ]
  },
  {
   "cell_type": "code",
   "execution_count": 8,
   "metadata": {
    "tags": []
   },
   "outputs": [
    {
     "name": "stdout",
     "output_type": "stream",
     "text": [
      "==> ./API_EN.ATM.CO2E.KT_DS2_en_csv_v2_1345584.csv <==\n",
      "﻿\"Data Source\",\"World Development Indicators\",\n",
      "\n",
      "\"Last Updated Date\",\"2020-09-08\",\n",
      "\n",
      "\"Country Name\",\"Country Code\",\"Indicator Name\",\"Indicator Code\",\"1960\",\"1961\",\"1962\",\"1963\",\"1964\",\"1965\",\"1966\",\"1967\",\"1968\",\"1969\",\"1970\",\"1971\",\"1972\",\"1973\",\"1974\",\"1975\",\"1976\",\"1977\",\"1978\",\"1979\",\"1980\",\"1981\",\"1982\",\"1983\",\"1984\",\"1985\",\"1986\",\"1987\",\"1988\",\"1989\",\"1990\",\"1991\",\"1992\",\"1993\",\"1994\",\"1995\",\"1996\",\"1997\",\"1998\",\"1999\",\"2000\",\"2001\",\"2002\",\"2003\",\"2004\",\"2005\",\"2006\",\"2007\",\"2008\",\"2009\",\"2010\",\"2011\",\"2012\",\"2013\",\"2014\",\"2015\",\"2016\",\"2017\",\"2018\",\"2019\",\n",
      "\"Aruba\",\"ABW\",\"CO2 emissions (kt)\",\"EN.ATM.CO2E.KT\",\"11092.675\",\"11576.719\",\"12713.489\",\"12178.107\",\"11840.743\",\"10623.299\",\"9933.903\",\"12236.779\",\"11378.701\",\"14891.687\",\"16655.514\",\"14495.651\",\"14055.611\",\"15592.084\",\"14132.618\",\"10234.597\",\"21862.654\",\"11419.038\",\"9724.884\",\"10201.594\",\"10498.621\",\"9999.909\",\"11180.683\",\"5746.189\",\"14348.971\",\"16794.86\",\"179.683\",\"447.374\",\"612.389\",\"649.059\",\"487.711\",\"531.715\",\"539.049\",\"649.059\",\"660.06\",\"707.731\",\"726.066\",\"759.069\",\"806.74\",\"810.407\",\"2379.883\",\"2409.219\",\"2438.555\",\"2563.233\",\"2618.238\",\"2720.914\",\"2717.247\",\"2823.59\",\"2658.575\",\"2629.239\",\"2508.228\",\"2500.894\",\"1349.456\",\"861.745\",\"872.746\",\"898.415\",\"883.747\",\"\",\"\",\"\",\n",
      "\"Afghanistan\",\"AFG\",\"CO2 emissions (kt)\",\"EN.ATM.CO2E.KT\",\"414.371\",\"491.378\",\"689.396\",\"707.731\",\"839.743\",\"1008.425\",\"1092.766\",\"1283.45\",\"1224.778\",\"942.419\",\"1672.152\",\"1895.839\",\"1532.806\",\"1639.149\",\"1917.841\",\"2126.86\",\"1987.514\",\"2390.884\",\"2159.863\",\"2240.537\",\"1760.16\",\"1983.847\",\"2101.191\",\"2522.896\",\"2830.924\",\"3509.319\",\"3142.619\",\"3124.284\",\"2867.594\",\"2775.919\",\"2614.571\",\"2438.555\",\"1393.46\",\"1345.789\",\"1294.451\",\"1243.113\",\"1177.107\",\"1096.433\",\"1041.428\",\"821.408\",\"773.737\",\"817.741\",\"1070.764\",\"1213.777\",\"916.75\",\"1327.454\",\"1650.15\",\"2273.54\",\"4206.049\",\"6769.282\",\"8463.436\",\"12240.446\",\"10755.311\",\"9050.156\",\"8467.103\",\"9035.488\",\"8672.455\",\"\",\"\",\"\",\n",
      "\"Angola\",\"AGO\",\"CO2 emissions (kt)\",\"EN.ATM.CO2E.KT\",\"550.05\",\"454.708\",\"1180.774\",\"1151.438\",\"1224.778\",\"1188.108\",\"1554.808\",\"993.757\",\"1672.152\",\"2786.92\",\"3582.659\",\"3410.31\",\"4506.743\",\"4880.777\",\"4873.443\",\"4415.068\",\"3285.632\",\"3534.988\",\"5412.492\",\"5504.167\",\"5346.486\",\"5280.48\",\"4649.756\",\"5115.465\",\"5009.122\",\"4701.094\",\"4660.757\",\"5815.862\",\"5130.133\",\"5009.122\",\"5115.465\",\"5089.796\",\"5196.139\",\"5775.525\",\"3890.687\",\"10975.331\",\"10458.284\",\"7381.671\",\"7308.331\",\"9156.499\",\"9541.534\",\"9732.218\",\"12665.818\",\"9064.824\",\"18793.375\",\"19156.408\",\"22266.024\",\"25151.953\",\"25709.337\",\"27792.193\",\"29057.308\",\"30586.447\",\"34176.44\",\"33692.396\",\"44851.077\",\"34583.477\",\"34693.487\",\"\",\"\",\"\",\n",
      "\"Albania\",\"ALB\",\"CO2 emissions (kt)\",\"EN.ATM.CO2E.KT\",\"2024.184\",\"2280.874\",\"2464.224\",\"2082.856\",\"2016.85\",\"2174.531\",\"2552.232\",\"2680.577\",\"3072.946\",\"3245.295\",\"3744.007\",\"4352.729\",\"5643.513\",\"5291.481\",\"4345.395\",\"4594.751\",\"4950.45\",\"5720.52\",\"6494.257\",\"7587.023\",\"5170.47\",\"7341.334\",\"7308.331\",\"7631.027\",\"7825.378\",\"7880.383\",\"8056.399\",\"7444.01\",\"7326.666\",\"8984.15\",\"5515.168\",\"4286.723\",\"2515.562\",\"2335.879\",\"1925.175\",\"2086.523\",\"2016.85\",\"1543.807\",\"1752.826\",\"2984.938\",\"3021.608\",\"3223.293\",\"3751.341\",\"4294.057\",\"4165.712\",\"4253.72\",\"3898.021\",\"3927.357\",\"4374.731\",\"4378.398\",\"4598.418\",\"5240.143\",\"4924.781\",\"4913.78\",\"5489.499\",\"4616.753\",\"4536.079\",\"\",\"\",\"\",\n",
      "\"Andorra\",\"AND\",\"CO2 emissions (kt)\",\"EN.ATM.CO2E.KT\",\"\",\"\",\"\",\"\",\"\",\"\",\"\",\"\",\"\",\"\",\"\",\"\",\"\",\"\",\"\",\"\",\"\",\"\",\"\",\"\",\"\",\"\",\"\",\"\",\"\",\"\",\"\",\"\",\"\",\"\",\"407.037\",\"407.037\",\"407.037\",\"410.704\",\"407.037\",\"425.372\",\"454.708\",\"465.709\",\"491.378\",\"513.38\",\"524.381\",\"524.381\",\"531.715\",\"535.382\",\"561.051\",\"575.719\",\"546.383\",\"539.049\",\"539.049\",\"517.047\",\"517.047\",\"491.378\",\"487.711\",\"476.71\",\"462.042\",\"465.709\",\"469.376\",\"\",\"\",\"\",\n",
      "\n",
      "==> ./Metadata_Country_API_EN.ATM.CO2E.KT_DS2_en_csv_v2_1345584.csv <==\n",
      "﻿\"Country Code\",\"Region\",\"IncomeGroup\",\"SpecialNotes\",\"TableName\",\n",
      "\"ABW\",\"Latin America & Caribbean\",\"High income\",\"\",\"Aruba\",\n",
      "\"AFG\",\"South Asia\",\"Low income\",\"\",\"Afghanistan\",\n",
      "\"AGO\",\"Sub-Saharan Africa\",\"Lower middle income\",\"\",\"Angola\",\n",
      "\"ALB\",\"Europe & Central Asia\",\"Upper middle income\",\"\",\"Albania\",\n",
      "\"AND\",\"Europe & Central Asia\",\"High income\",\"\",\"Andorra\",\n",
      "\"ARB\",\"\",\"\",\"Arab World aggregate. Arab World is composed of members of the League of Arab States.\",\"Arab World\",\n",
      "\"ARE\",\"Middle East & North Africa\",\"High income\",\"\",\"United Arab Emirates\",\n",
      "\"ARG\",\"Latin America & Caribbean\",\"Upper middle income\",\"\",\"Argentina\",\n",
      "\"ARM\",\"Europe & Central Asia\",\"Upper middle income\",\"\",\"Armenia\",\n",
      "\n",
      "==> ./Metadata_Indicator_API_EN.ATM.CO2E.KT_DS2_en_csv_v2_1345584.csv <==\n",
      "﻿\"INDICATOR_CODE\",\"INDICATOR_NAME\",\"SOURCE_NOTE\",\"SOURCE_ORGANIZATION\",\n",
      "\"EN.ATM.CO2E.KT\",\"CO2 emissions (kt)\",\"Carbon dioxide emissions are those stemming from the burning of fossil fuels and the manufacture of cement. They include carbon dioxide produced during consumption of solid, liquid, and gas fuels and gas flaring.\",\"Carbon Dioxide Information Analysis Center, Environmental Sciences Division, Oak Ridge National Laboratory, Tennessee, United States.\",\n"
     ]
    }
   ],
   "source": [
    "%%bash\n",
    "head ./*API_EN.ATM.CO2*.csv"
   ]
  },
  {
   "cell_type": "markdown",
   "metadata": {},
   "source": [
    "We can see that the actual CSV header is on line five. To extract only the header row, we can use the stream editor *sed*, see `man sed`. The argument `'5!d'` tells `sed`, that we are only interested in the fifth line."
   ]
  },
  {
   "cell_type": "code",
   "execution_count": 10,
   "metadata": {
    "tags": []
   },
   "outputs": [
    {
     "name": "stdout",
     "output_type": "stream",
     "text": [
      "\"Country Name\",\"Country Code\",\"Indicator Name\",\"Indicator Code\",\"1960\",\"1961\",\"1962\",\"1963\",\"1964\",\"1965\",\"1966\",\"1967\",\"1968\",\"1969\",\"1970\",\"1971\",\"1972\",\"1973\",\"1974\",\"1975\",\"1976\",\"1977\",\"1978\",\"1979\",\"1980\",\"1981\",\"1982\",\"1983\",\"1984\",\"1985\",\"1986\",\"1987\",\"1988\",\"1989\",\"1990\",\"1991\",\"1992\",\"1993\",\"1994\",\"1995\",\"1996\",\"1997\",\"1998\",\"1999\",\"2000\",\"2001\",\"2002\",\"2003\",\"2004\",\"2005\",\"2006\",\"2007\",\"2008\",\"2009\",\"2010\",\"2011\",\"2012\",\"2013\",\"2014\",\"2015\",\"2016\",\"2017\",\"2018\",\"2019\",\n"
     ]
    }
   ],
   "source": [
    "%%bash\n",
    "# sed is a cli application that can filter text from pipeline (inputstream or a file)\n",
    "# Sed Linux command doesn’t update your data. It only sends the changed text to STDOUT\n",
    "# To know more about the sed tool: https://www.geeksforgeeks.org/sed-command-in-linux-unix-with-examples/\n",
    "sed '5!d' data/API_EN.ATM.CO2E.KT_DS2_en_csv_v2_887574.csv # sed delete all lines except line 5 (sed '5d' filename.ext (would delete only line 5))"
   ]
  },
  {
   "cell_type": "markdown",
   "metadata": {},
   "source": [
    "To get the two lines -one for Denmark and one for Uruguay repectively- holding the CO2 emission in tons, we can use the grep command, see `man grep`."
   ]
  },
  {
   "cell_type": "code",
   "execution_count": 12,
   "metadata": {
    "tags": []
   },
   "outputs": [
    {
     "name": "stdout",
     "output_type": "stream",
     "text": [
      "\"Denmark\",\"DNK\",\"CO2 emissions (kt)\",\"EN.ATM.CO2E.KT\",\"29779.707\",\"31734.218\",\"36926.69\",\"40707.367\",\"43189.926\",\"44337.697\",\"50127.89\",\"49075.461\",\"53325.514\",\"59401.733\",\"62100.645\",\"57062.187\",\"59643.755\",\"59266.054\",\"55078.34\",\"55778.737\",\"60135.133\",\"61847.622\",\"61117.889\",\"62999.06\",\"60369.821\",\"51789.041\",\"53695.881\",\"50175.561\",\"50861.29\",\"60072.794\",\"58903.021\",\"58341.97\",\"55107.676\",\"48785.768\",\"50230.566\",\"60270.812\",\"54322.938\",\"57065.854\",\"61000.545\",\"57172.197\",\"72181.228\",\"61557.929\",\"59552.08\",\"55148.013\",\"51330.666\",\"52918.477\",\"52049.398\",\"55998.757\",\"50600.933\",\"47095.281\",\"54986.665\",\"50256.235\",\"46933.933\",\"44510.046\",\"46640.573\",\"40645.028\",\"36427.978\",\"38532.836\",\"33498.045\",\"\",\"\",\"\",\"\",\"\",\n",
      "\"Uruguay\",\"URY\",\"CO2 emissions (kt)\",\"EN.ATM.CO2E.KT\",\"4319.726\",\"4121.708\",\"4011.698\",\"4319.726\",\"4558.081\",\"5522.502\",\"5405.158\",\"4884.444\",\"4884.444\",\"5595.842\",\"5742.522\",\"5808.528\",\"6076.219\",\"5775.525\",\"5683.85\",\"5969.876\",\"5896.536\",\"5650.847\",\"5742.522\",\"6277.904\",\"5837.864\",\"5375.822\",\"4873.443\",\"3817.347\",\"3450.647\",\"3296.633\",\"3179.289\",\"3560.657\",\"4807.437\",\"4880.777\",\"3993.363\",\"4554.414\",\"5170.47\",\"4466.406\",\"4066.703\",\"4591.084\",\"5441.828\",\"5555.505\",\"5687.517\",\"6725.278\",\"5306.149\",\"5089.796\",\"4620.42\",\"4598.418\",\"5610.51\",\"5775.525\",\"6648.271\",\"6002.879\",\"8265.418\",\"8060.066\",\"6387.914\",\"7763.039\",\"8694.457\",\"7587.023\",\"6747.28\",\"\",\"\",\"\",\"\",\"\",\n"
     ]
    }
   ],
   "source": [
    "%%bash\n",
    "grep -E \"DNK|URY\" data/API_EN.ATM.CO2E.KT_DS2_en_csv_v2_887574.csv"
   ]
  },
  {
   "cell_type": "markdown",
   "metadata": {},
   "source": [
    "### Executing OS Commands from Python\n",
    "\n",
    "\n",
    "With the help of the `subprocess` module allows us to execute shell commands and to read what the process was writing to standard out and standard error.\n",
    "\n",
    "https://docs.python.org/3/library/subprocess.html"
   ]
  },
  {
   "cell_type": "code",
   "execution_count": 14,
   "metadata": {},
   "outputs": [
    {
     "data": {
      "text/plain": [
       "['ALB', 'Europe & Central Asia', 'Upper middle income', '', 'Albania', '']"
      ]
     },
     "execution_count": 14,
     "metadata": {},
     "output_type": "execute_result"
    }
   ],
   "source": [
    "import subprocess\n",
    "\n",
    "\n",
    "cmd = 'sed 5!d {}'.format(local_file).split()\n",
    "\n",
    "out, err = subprocess.Popen(cmd, stdout=subprocess.PIPE, \n",
    "                            stderr=subprocess.STDOUT).communicate()\n",
    "# Since we are getting the output as a byte literal, we have to decode it into string\n",
    "header_cols = out.splitlines()[0].decode('UTF-8').split(',')\n",
    "header_cols = [h.replace('\"', '') for h in header_cols]\n",
    "header_cols"
   ]
  },
  {
   "cell_type": "code",
   "execution_count": 16,
   "metadata": {
    "scrolled": true,
    "tags": []
   },
   "outputs": [
    {
     "name": "stdout",
     "output_type": "stream",
     "text": [
      "-rwxrwxrwx 1 root root  177911 Aug 21 07:06 data/API_EN.ATM.CO2E.KT_DS2_en_csv_v2_887574.csv\n",
      "-rwxrwxrwx 1 root root  140513 Aug 21 07:06 data/API_MS.MIL.XPND.CN_DS2_en_csv_v2_898165.csv\n",
      "-rwxrwxrwx 1 root root   31364 Aug 21 07:06 data/Metadata_Country_API_EN.ATM.CO2E.KT_DS2_en_csv_v2_887574.csv\n",
      "-rwxrwxrwx 1 root root    1648 Aug 21 07:06 data/Metadata_Indicator_API_MS.MIL.XPND.CN_DS2_en_csv_v2_898165.csv\n",
      "-rwxrwxrwx 1 root root     466 Aug 21 07:06 data/Metadata_Indicator_API_EN.ATM.CO2E.KT_DS2_en_csv_v2_887574.csv\n",
      "-rwxrwxrwx 1 root root   31364 Aug 21 07:06 data/Metadata_Country_API_MS.MIL.XPND.CN_DS2_en_csv_v2_898165.csv\n",
      "-rwxrwxrwx 1 root root 9852462 Aug 21 07:06 data/befkbhalderstatkode.csv\n",
      "-rwxrwxrwx 1 root root    6122 Aug 21 07:06 data/employees.csv\n",
      "-rwxrwxrwx 1 root root     728 Aug 21 07:06 data/enrollment_forecast.csv\n",
      "-rwxrwxrwx 1 root root    4709 Aug 21 07:06 data/folkekirkemedlemskab.csv\n",
      "-rwxrwxrwx 1 root root    2885 Aug 21 07:06 data/iris.csv\n",
      "-rwxrwxrwx 1 root root    6259 Aug 21 07:06 data/iris_data.csv\n",
      "-rwxrwxrwx 1 root root     220 Aug 21 07:06 data/science.csv\n",
      "-rwxrwxrwx 1 root root   10667 Aug 21 07:06 data/rodents.csv\n",
      "-rwxrwxrwx 1 root root     510 Aug 21 07:06 data/simple_digit_trainingset.csv\n",
      "-rwxrwxrwx 1 root root   61194 Aug 21 07:06 data/titanic_train.csv\n",
      "-rwxrwxrwx 1 root root  428120 Aug 21 07:06 data/weight-height-gender.csv\n"
     ]
    }
   ],
   "source": [
    "%%bash\n",
    "ls -ltr data/*.csv"
   ]
  },
  {
   "cell_type": "code",
   "execution_count": 18,
   "metadata": {
    "tags": []
   },
   "outputs": [
    {
     "name": "stdout",
     "output_type": "stream",
     "text": [
      "-rwxrwxrwx 1 root root  178K Aug 21 07:06 starred.json\n",
      "-rwxrwxrwx 1 root root  5.0K Aug 21 07:06 students.xlsx\n",
      "drwxrwxrwx 1 root root   512 Aug 21 07:06 test\n",
      "-rwxrwxrwx 1 root root   60K Aug 21 07:06 titanic_train.csv\n",
      "-rwxrwxrwx 1 root root   89K Aug 21 07:06 verdasco-obj-detected.jpg\n",
      "-rwxrwxrwx 1 root root   47K Aug 21 07:06 verdasco.jpg\n",
      "-rwxrwxrwx 1 root root  419K Aug 21 07:06 weight-height-gender.csv\n",
      "-rwxrwxrwx 1 root root  4.8K Sep 14 08:15 befkbh_stat_code.json\n",
      "-rwxrwxrwx 1 root root   609 Sep 14 08:15 commander_keen_sprite_run.gif\n",
      "-rwxrwxrwx 1 root root   609 Sep 14 08:15 keen.gif\n"
     ]
    }
   ],
   "source": [
    "%%bash\n",
    "\n",
    "ls -ltrh data | tail"
   ]
  },
  {
   "cell_type": "markdown",
   "metadata": {},
   "source": [
    "Now, let's get in a similar way the line of the CSV file containing the time series corresponding to Danmark's and Uruguay's CO2 emissions."
   ]
  },
  {
   "cell_type": "code",
   "execution_count": 20,
   "metadata": {},
   "outputs": [],
   "source": [
    "cmd = ['grep', '-E', 'DNK|URY', local_file]\n",
    "out, err = subprocess.Popen(cmd, stdout=subprocess.PIPE, \n",
    "                            stderr=subprocess.STDOUT).communicate()"
   ]
  },
  {
   "cell_type": "code",
   "execution_count": 22,
   "metadata": {
    "tags": []
   },
   "outputs": [
    {
     "name": "stdout",
     "output_type": "stream",
     "text": [
      "['\"DNK\",\"Europe & Central Asia\",\"High income\",\"\",\"Denmark\",', '\"URY\",\"Latin America & Caribbean\",\"High income\",\"\",\"Uruguay\",']\n"
     ]
    },
    {
     "data": {
      "text/plain": [
       "[['DNK', 'Europe & Central Asia', 'High income', '', 'Denmark', ''],\n",
       " ['URY', 'Latin America & Caribbean', 'High income', '', 'Uruguay', '']]"
      ]
     },
     "execution_count": 22,
     "metadata": {},
     "output_type": "execute_result"
    }
   ],
   "source": [
    "lines = out.decode('UTF-8').splitlines()\n",
    "print(lines)\n",
    "lines = [l.split(',') for l in lines]\n",
    "lines = [[c.replace('\"', '') for c in l] for l in lines]\n",
    "lines"
   ]
  },
  {
   "cell_type": "markdown",
   "metadata": {},
   "source": [
    "We are now ready to go to create two time series of CO2 emissions for Danmark and Uruguay repectively.\n",
    "We are going to use Pandas `Series`, since they are one-dimensional labeled arrays, and thus we can create one for Denmark and Uruquay respectively."
   ]
  },
  {
   "cell_type": "code",
   "execution_count": 24,
   "metadata": {
    "tags": []
   },
   "outputs": [
    {
     "name": "stdout",
     "output_type": "stream",
     "text": [
      "header_cols:\n",
      " ['ALB', 'Europe & Central Asia', 'Upper middle income', '', 'Albania', '']\n",
      "lines:\n",
      " [['DNK', 'Europe & Central Asia', 'High income', '', 'Denmark', ''], ['URY', 'Latin America & Caribbean', 'High income', '', 'Uruguay', '']]\n"
     ]
    }
   ],
   "source": [
    "print('header_cols:\\n',header_cols)\n",
    "print('lines:\\n',lines)"
   ]
  },
  {
   "cell_type": "markdown",
   "metadata": {},
   "source": [
    "Since our data and the corresponding indexes are still all strings we have to convert them to floats and integers repectively. We do so using two different mechanisms. Once, creation of typed NumPy arrays and on the other hand via a Pandas method `convert_objects`, which converts strings to numerical values of a suitable type."
   ]
  },
  {
   "cell_type": "code",
   "execution_count": 26,
   "metadata": {
    "tags": []
   },
   "outputs": [
    {
     "name": "stdout",
     "output_type": "stream",
     "text": [
      "['Albania'] \n",
      "\n",
      "\n",
      "['Denmark']\n"
     ]
    },
    {
     "ename": "ValueError",
     "evalue": "invalid literal for int() with base 10: 'Albania'",
     "output_type": "error",
     "traceback": [
      "\u001b[0;31m---------------------------------------------------------------------------\u001b[0m",
      "\u001b[0;31mValueError\u001b[0m                                Traceback (most recent call last)",
      "\u001b[0;32m<ipython-input-26-b794aea4e72c>\u001b[0m in \u001b[0;36m<module>\u001b[0;34m\u001b[0m\n\u001b[1;32m      4\u001b[0m \u001b[0mdanish_emissions\u001b[0m \u001b[0;34m=\u001b[0m \u001b[0mlines\u001b[0m\u001b[0;34m[\u001b[0m\u001b[0;36m0\u001b[0m\u001b[0;34m]\u001b[0m\u001b[0;34m[\u001b[0m\u001b[0;36m4\u001b[0m\u001b[0;34m:\u001b[0m\u001b[0;34m-\u001b[0m\u001b[0;36m1\u001b[0m\u001b[0;34m]\u001b[0m\u001b[0;34m\u001b[0m\u001b[0;34m\u001b[0m\u001b[0m\n\u001b[1;32m      5\u001b[0m \u001b[0mprint\u001b[0m\u001b[0;34m(\u001b[0m\u001b[0mdanish_emissions\u001b[0m\u001b[0;34m)\u001b[0m\u001b[0;34m\u001b[0m\u001b[0;34m\u001b[0m\u001b[0m\n\u001b[0;32m----> 6\u001b[0;31m \u001b[0mts_dk\u001b[0m \u001b[0;34m=\u001b[0m \u001b[0mpd\u001b[0m\u001b[0;34m.\u001b[0m\u001b[0mSeries\u001b[0m\u001b[0;34m(\u001b[0m\u001b[0mdanish_emissions\u001b[0m\u001b[0;34m,\u001b[0m \u001b[0mindex\u001b[0m\u001b[0;34m=\u001b[0m\u001b[0mnp\u001b[0m\u001b[0;34m.\u001b[0m\u001b[0masarray\u001b[0m\u001b[0;34m(\u001b[0m\u001b[0myears\u001b[0m\u001b[0;34m,\u001b[0m \u001b[0mdtype\u001b[0m\u001b[0;34m=\u001b[0m\u001b[0mint\u001b[0m\u001b[0;34m)\u001b[0m\u001b[0;34m)\u001b[0m\u001b[0;34m\u001b[0m\u001b[0;34m\u001b[0m\u001b[0m\n\u001b[0m\u001b[1;32m      7\u001b[0m \u001b[0mts_dk\u001b[0m \u001b[0;34m=\u001b[0m \u001b[0mpd\u001b[0m\u001b[0;34m.\u001b[0m\u001b[0mto_numeric\u001b[0m\u001b[0;34m(\u001b[0m\u001b[0mts_dk\u001b[0m\u001b[0;34m)\u001b[0m\u001b[0;34m\u001b[0m\u001b[0;34m\u001b[0m\u001b[0m\n\u001b[1;32m      8\u001b[0m \u001b[0mts_dk\u001b[0m\u001b[0;34m.\u001b[0m\u001b[0mloc\u001b[0m\u001b[0;34m[\u001b[0m\u001b[0;36m1960\u001b[0m\u001b[0;34m]\u001b[0m\u001b[0;34m\u001b[0m\u001b[0;34m\u001b[0m\u001b[0m\n",
      "\u001b[0;32m/opt/conda/lib/python3.7/site-packages/numpy/core/_asarray.py\u001b[0m in \u001b[0;36masarray\u001b[0;34m(a, dtype, order)\u001b[0m\n\u001b[1;32m     83\u001b[0m \u001b[0;34m\u001b[0m\u001b[0m\n\u001b[1;32m     84\u001b[0m     \"\"\"\n\u001b[0;32m---> 85\u001b[0;31m     \u001b[0;32mreturn\u001b[0m \u001b[0marray\u001b[0m\u001b[0;34m(\u001b[0m\u001b[0ma\u001b[0m\u001b[0;34m,\u001b[0m \u001b[0mdtype\u001b[0m\u001b[0;34m,\u001b[0m \u001b[0mcopy\u001b[0m\u001b[0;34m=\u001b[0m\u001b[0;32mFalse\u001b[0m\u001b[0;34m,\u001b[0m \u001b[0morder\u001b[0m\u001b[0;34m=\u001b[0m\u001b[0morder\u001b[0m\u001b[0;34m)\u001b[0m\u001b[0;34m\u001b[0m\u001b[0;34m\u001b[0m\u001b[0m\n\u001b[0m\u001b[1;32m     86\u001b[0m \u001b[0;34m\u001b[0m\u001b[0m\n\u001b[1;32m     87\u001b[0m \u001b[0;34m\u001b[0m\u001b[0m\n",
      "\u001b[0;31mValueError\u001b[0m: invalid literal for int() with base 10: 'Albania'"
     ]
    }
   ],
   "source": [
    "# reference to check graph: https://www.klimadebat.dk/grafer_co2udledning.php\n",
    "years = header_cols[4:-1]\n",
    "print(years,'\\n\\n')\n",
    "danish_emissions = lines[0][4:-1]\n",
    "print(danish_emissions)\n",
    "ts_dk = pd.Series(danish_emissions, index=np.asarray(years, dtype=int))\n",
    "ts_dk = pd.to_numeric(ts_dk)\n",
    "ts_dk.loc[1960]\n",
    "print('\\Danish CO2 Emissions:\\n',ts_dk)"
   ]
  },
  {
   "cell_type": "code",
   "execution_count": null,
   "metadata": {},
   "outputs": [],
   "source": [
    "ts_dk.plot()"
   ]
  },
  {
   "cell_type": "markdown",
   "metadata": {},
   "source": [
    "Now we create a time series for the corresponding Uruguaian time series."
   ]
  },
  {
   "cell_type": "code",
   "execution_count": 30,
   "metadata": {},
   "outputs": [
    {
     "ename": "ValueError",
     "evalue": "invalid literal for int() with base 10: 'Albania'",
     "output_type": "error",
     "traceback": [
      "\u001b[0;31m---------------------------------------------------------------------------\u001b[0m",
      "\u001b[0;31mValueError\u001b[0m                                Traceback (most recent call last)",
      "\u001b[0;32m<ipython-input-30-48857d1d0cbf>\u001b[0m in \u001b[0;36m<module>\u001b[0;34m\u001b[0m\n\u001b[0;32m----> 1\u001b[0;31m \u001b[0mts_ury\u001b[0m \u001b[0;34m=\u001b[0m \u001b[0mpd\u001b[0m\u001b[0;34m.\u001b[0m\u001b[0mSeries\u001b[0m\u001b[0;34m(\u001b[0m\u001b[0mlines\u001b[0m\u001b[0;34m[\u001b[0m\u001b[0;36m1\u001b[0m\u001b[0;34m]\u001b[0m\u001b[0;34m[\u001b[0m\u001b[0;36m4\u001b[0m\u001b[0;34m:\u001b[0m\u001b[0;34m-\u001b[0m\u001b[0;36m1\u001b[0m\u001b[0;34m]\u001b[0m\u001b[0;34m,\u001b[0m \u001b[0mindex\u001b[0m\u001b[0;34m=\u001b[0m\u001b[0mnp\u001b[0m\u001b[0;34m.\u001b[0m\u001b[0masarray\u001b[0m\u001b[0;34m(\u001b[0m\u001b[0mheader_cols\u001b[0m\u001b[0;34m[\u001b[0m\u001b[0;36m4\u001b[0m\u001b[0;34m:\u001b[0m\u001b[0;34m-\u001b[0m\u001b[0;36m1\u001b[0m\u001b[0;34m]\u001b[0m\u001b[0;34m,\u001b[0m \u001b[0mdtype\u001b[0m\u001b[0;34m=\u001b[0m\u001b[0mint\u001b[0m\u001b[0;34m)\u001b[0m\u001b[0;34m)\u001b[0m\u001b[0;34m\u001b[0m\u001b[0;34m\u001b[0m\u001b[0m\n\u001b[0m\u001b[1;32m      2\u001b[0m \u001b[0mts_ury\u001b[0m \u001b[0;34m=\u001b[0m \u001b[0mpd\u001b[0m\u001b[0;34m.\u001b[0m\u001b[0mto_numeric\u001b[0m\u001b[0;34m(\u001b[0m\u001b[0mts_ury\u001b[0m\u001b[0;34m)\u001b[0m\u001b[0;34m\u001b[0m\u001b[0;34m\u001b[0m\u001b[0m\n\u001b[1;32m      3\u001b[0m \u001b[0mts_ury\u001b[0m\u001b[0;34m.\u001b[0m\u001b[0mplot\u001b[0m\u001b[0;34m(\u001b[0m\u001b[0;34m)\u001b[0m\u001b[0;34m\u001b[0m\u001b[0;34m\u001b[0m\u001b[0m\n",
      "\u001b[0;32m/opt/conda/lib/python3.7/site-packages/numpy/core/_asarray.py\u001b[0m in \u001b[0;36masarray\u001b[0;34m(a, dtype, order)\u001b[0m\n\u001b[1;32m     83\u001b[0m \u001b[0;34m\u001b[0m\u001b[0m\n\u001b[1;32m     84\u001b[0m     \"\"\"\n\u001b[0;32m---> 85\u001b[0;31m     \u001b[0;32mreturn\u001b[0m \u001b[0marray\u001b[0m\u001b[0;34m(\u001b[0m\u001b[0ma\u001b[0m\u001b[0;34m,\u001b[0m \u001b[0mdtype\u001b[0m\u001b[0;34m,\u001b[0m \u001b[0mcopy\u001b[0m\u001b[0;34m=\u001b[0m\u001b[0;32mFalse\u001b[0m\u001b[0;34m,\u001b[0m \u001b[0morder\u001b[0m\u001b[0;34m=\u001b[0m\u001b[0morder\u001b[0m\u001b[0;34m)\u001b[0m\u001b[0;34m\u001b[0m\u001b[0;34m\u001b[0m\u001b[0m\n\u001b[0m\u001b[1;32m     86\u001b[0m \u001b[0;34m\u001b[0m\u001b[0m\n\u001b[1;32m     87\u001b[0m \u001b[0;34m\u001b[0m\u001b[0m\n",
      "\u001b[0;31mValueError\u001b[0m: invalid literal for int() with base 10: 'Albania'"
     ]
    }
   ],
   "source": [
    "ts_ury = pd.Series(lines[1][4:-1], index=np.asarray(header_cols[4:-1], dtype=int))\n",
    "ts_ury = pd.to_numeric(ts_ury)\n",
    "ts_ury.plot()"
   ]
  }
 ],
 "metadata": {
  "kernelspec": {
   "display_name": "Python 3",
   "language": "python",
   "name": "python3"
  },
  "language_info": {
   "codemirror_mode": {
    "name": "ipython",
    "version": 3
   },
   "file_extension": ".py",
   "mimetype": "text/x-python",
   "name": "python",
   "nbconvert_exporter": "python",
   "pygments_lexer": "ipython3",
   "version": "3.7.6"
  }
 },
 "nbformat": 4,
 "nbformat_minor": 2
}
