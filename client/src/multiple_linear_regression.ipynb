{
  "nbformat": 4,
  "nbformat_minor": 0,
  "metadata": {
    "colab": {
      "name": "multiple_linear_regression.ipynb",
      "provenance": [],
      "collapsed_sections": [],
      "toc_visible": true
    },
    "kernelspec": {
      "name": "python3",
      "display_name": "Python 3",
      "language": "python"
    }
  },
  "cells": [
    {
      "cell_type": "markdown",
      "metadata": {
        "id": "CazISR8X_HUG",
        "colab_type": "text"
      },
      "source": [
        "# Multiple Linear Regression"
      ]
    },
    {
      "source": [
        "# Import libraries"
      ],
      "cell_type": "markdown",
      "metadata": {}
    },
    {
      "cell_type": "code",
      "metadata": {
        "id": "T_YHJjnD_Tja",
        "colab_type": "code",
        "colab": {}
      },
      "source": [
        "import numpy as np\n",
        "import matplotlib.pyplot as plt\n",
        "import pandas as pd\n",
        "from Modules import Cleaner as cl"
      ],
      "execution_count": 1,
      "outputs": []
    },
    {
      "cell_type": "markdown",
      "metadata": {
        "id": "vgC61-ah_WIz",
        "colab_type": "text"
      },
      "source": [
        "# Importing the dataset"
      ]
    },
    {
      "cell_type": "code",
      "metadata": {
        "id": "UrxyEKGn_ez7",
        "colab_type": "code",
        "colab": {}
      },
      "source": [
        "dataset = cl.get_and_clean_df('./data/bilhandel_clean.csv')\n",
        "\n",
        "dataset = dataset[dataset['Make'] == 'Mazda']\n",
        "\n",
        "X = dataset.iloc[:, :-1].values\n",
        "y = dataset.iloc[:, -1].values\n",
        "display(dataset)"
      ],
      "execution_count": 2,
      "outputs": [
        {
          "output_type": "stream",
          "name": "stdout",
          "text": [
            "./data/bilhandel_clean.csv\n"
          ]
        },
        {
          "output_type": "display_data",
          "data": {
            "text/plain": "      Brændstoftype   Gearkasse   Make                               Model  \\\n233          Benzin      Manuel  Mazda             3 2,0 Sky-G 165 Optimum   \n262          Benzin      Manuel  Mazda                 2 1,5 Sky-G 75 Core   \n302          Diesel      Manuel  Mazda                     6 2,2 DE 125 Go   \n311          Benzin      Manuel  Mazda                       3 1,6 Advance   \n424          Benzin  Automatisk  Mazda     CX-3 2,0 Sky-G 120 Optimum aut.   \n...             ...         ...    ...                                 ...   \n19889        Diesel      Manuel  Mazda              5 2,0 DE 143 Sport Van   \n19906        Benzin      Manuel  Mazda                       3 1,6 Advance   \n19934        Benzin      Manuel  Mazda                       2 1,3 Advance   \n19967        Benzin  Automatisk  Mazda  CX-5 2,0 Sky-G 160 Vision aut. AWD   \n19990        Benzin      Manuel  Mazda                       3 1,6 Advance   \n\n       Antal døre  Grøn Ejerafgift  Hestekræfter  Kilometer  Km/l  Antal gear  \\\n233           5.0           1880.0         165.0   119000.0  17.2         6.0   \n262           5.0            660.0          75.0   119000.0  21.3         5.0   \n302           4.0           6540.0         125.0   147000.0  18.2         6.0   \n311           5.0           2520.0         105.0   339000.0  15.9         5.0   \n424           5.0           1880.0         120.0    85000.0  17.2         6.0   \n...           ...              ...           ...        ...   ...         ...   \n19889         5.0           5350.0         143.0   142000.0  10.9         6.0   \n19906         4.0           2520.0         105.0   120000.0  15.4         5.0   \n19934         5.0           1280.0          86.0   133000.0  19.2         5.0   \n19967         5.0           3140.0         160.0    93000.0  15.2         6.0   \n19990         4.0           2520.0         105.0   145000.0  15.4         5.0   \n\n       0 - 100 km/t    Nypris  Årgang  Tophastighed    Vægt    Pris  \n233             8.2  293392.0    2013         210.0  1295.0  124900  \n262            12.1  129988.0    2015         171.0   945.0   84900  \n302            10.7  329476.0    2010         195.0  1500.0   69800  \n311            12.2  218049.0    2009         184.0  1155.0   24900  \n424             9.9  290998.0    2016         187.0  1198.0  179500  \n...             ...       ...     ...           ...     ...     ...  \n19889          11.0  239500.0    2008         197.0  1510.0   34990  \n19906          12.2  224998.0    2011         188.0  1277.0   64900  \n19934          12.9  149992.0    2010         172.0   930.0   52800  \n19967           9.6  440398.0    2014         187.0  1537.0  209900  \n19990          12.2  224999.0    2011         184.0  1155.0   59900  \n\n[279 rows x 16 columns]",
            "text/html": "<div>\n<style scoped>\n    .dataframe tbody tr th:only-of-type {\n        vertical-align: middle;\n    }\n\n    .dataframe tbody tr th {\n        vertical-align: top;\n    }\n\n    .dataframe thead th {\n        text-align: right;\n    }\n</style>\n<table border=\"1\" class=\"dataframe\">\n  <thead>\n    <tr style=\"text-align: right;\">\n      <th></th>\n      <th>Brændstoftype</th>\n      <th>Gearkasse</th>\n      <th>Make</th>\n      <th>Model</th>\n      <th>Antal døre</th>\n      <th>Grøn Ejerafgift</th>\n      <th>Hestekræfter</th>\n      <th>Kilometer</th>\n      <th>Km/l</th>\n      <th>Antal gear</th>\n      <th>0 - 100 km/t</th>\n      <th>Nypris</th>\n      <th>Årgang</th>\n      <th>Tophastighed</th>\n      <th>Vægt</th>\n      <th>Pris</th>\n    </tr>\n  </thead>\n  <tbody>\n    <tr>\n      <th>233</th>\n      <td>Benzin</td>\n      <td>Manuel</td>\n      <td>Mazda</td>\n      <td>3 2,0 Sky-G 165 Optimum</td>\n      <td>5.0</td>\n      <td>1880.0</td>\n      <td>165.0</td>\n      <td>119000.0</td>\n      <td>17.2</td>\n      <td>6.0</td>\n      <td>8.2</td>\n      <td>293392.0</td>\n      <td>2013</td>\n      <td>210.0</td>\n      <td>1295.0</td>\n      <td>124900</td>\n    </tr>\n    <tr>\n      <th>262</th>\n      <td>Benzin</td>\n      <td>Manuel</td>\n      <td>Mazda</td>\n      <td>2 1,5 Sky-G 75 Core</td>\n      <td>5.0</td>\n      <td>660.0</td>\n      <td>75.0</td>\n      <td>119000.0</td>\n      <td>21.3</td>\n      <td>5.0</td>\n      <td>12.1</td>\n      <td>129988.0</td>\n      <td>2015</td>\n      <td>171.0</td>\n      <td>945.0</td>\n      <td>84900</td>\n    </tr>\n    <tr>\n      <th>302</th>\n      <td>Diesel</td>\n      <td>Manuel</td>\n      <td>Mazda</td>\n      <td>6 2,2 DE 125 Go</td>\n      <td>4.0</td>\n      <td>6540.0</td>\n      <td>125.0</td>\n      <td>147000.0</td>\n      <td>18.2</td>\n      <td>6.0</td>\n      <td>10.7</td>\n      <td>329476.0</td>\n      <td>2010</td>\n      <td>195.0</td>\n      <td>1500.0</td>\n      <td>69800</td>\n    </tr>\n    <tr>\n      <th>311</th>\n      <td>Benzin</td>\n      <td>Manuel</td>\n      <td>Mazda</td>\n      <td>3 1,6 Advance</td>\n      <td>5.0</td>\n      <td>2520.0</td>\n      <td>105.0</td>\n      <td>339000.0</td>\n      <td>15.9</td>\n      <td>5.0</td>\n      <td>12.2</td>\n      <td>218049.0</td>\n      <td>2009</td>\n      <td>184.0</td>\n      <td>1155.0</td>\n      <td>24900</td>\n    </tr>\n    <tr>\n      <th>424</th>\n      <td>Benzin</td>\n      <td>Automatisk</td>\n      <td>Mazda</td>\n      <td>CX-3 2,0 Sky-G 120 Optimum aut.</td>\n      <td>5.0</td>\n      <td>1880.0</td>\n      <td>120.0</td>\n      <td>85000.0</td>\n      <td>17.2</td>\n      <td>6.0</td>\n      <td>9.9</td>\n      <td>290998.0</td>\n      <td>2016</td>\n      <td>187.0</td>\n      <td>1198.0</td>\n      <td>179500</td>\n    </tr>\n    <tr>\n      <th>...</th>\n      <td>...</td>\n      <td>...</td>\n      <td>...</td>\n      <td>...</td>\n      <td>...</td>\n      <td>...</td>\n      <td>...</td>\n      <td>...</td>\n      <td>...</td>\n      <td>...</td>\n      <td>...</td>\n      <td>...</td>\n      <td>...</td>\n      <td>...</td>\n      <td>...</td>\n      <td>...</td>\n    </tr>\n    <tr>\n      <th>19889</th>\n      <td>Diesel</td>\n      <td>Manuel</td>\n      <td>Mazda</td>\n      <td>5 2,0 DE 143 Sport Van</td>\n      <td>5.0</td>\n      <td>5350.0</td>\n      <td>143.0</td>\n      <td>142000.0</td>\n      <td>10.9</td>\n      <td>6.0</td>\n      <td>11.0</td>\n      <td>239500.0</td>\n      <td>2008</td>\n      <td>197.0</td>\n      <td>1510.0</td>\n      <td>34990</td>\n    </tr>\n    <tr>\n      <th>19906</th>\n      <td>Benzin</td>\n      <td>Manuel</td>\n      <td>Mazda</td>\n      <td>3 1,6 Advance</td>\n      <td>4.0</td>\n      <td>2520.0</td>\n      <td>105.0</td>\n      <td>120000.0</td>\n      <td>15.4</td>\n      <td>5.0</td>\n      <td>12.2</td>\n      <td>224998.0</td>\n      <td>2011</td>\n      <td>188.0</td>\n      <td>1277.0</td>\n      <td>64900</td>\n    </tr>\n    <tr>\n      <th>19934</th>\n      <td>Benzin</td>\n      <td>Manuel</td>\n      <td>Mazda</td>\n      <td>2 1,3 Advance</td>\n      <td>5.0</td>\n      <td>1280.0</td>\n      <td>86.0</td>\n      <td>133000.0</td>\n      <td>19.2</td>\n      <td>5.0</td>\n      <td>12.9</td>\n      <td>149992.0</td>\n      <td>2010</td>\n      <td>172.0</td>\n      <td>930.0</td>\n      <td>52800</td>\n    </tr>\n    <tr>\n      <th>19967</th>\n      <td>Benzin</td>\n      <td>Automatisk</td>\n      <td>Mazda</td>\n      <td>CX-5 2,0 Sky-G 160 Vision aut. AWD</td>\n      <td>5.0</td>\n      <td>3140.0</td>\n      <td>160.0</td>\n      <td>93000.0</td>\n      <td>15.2</td>\n      <td>6.0</td>\n      <td>9.6</td>\n      <td>440398.0</td>\n      <td>2014</td>\n      <td>187.0</td>\n      <td>1537.0</td>\n      <td>209900</td>\n    </tr>\n    <tr>\n      <th>19990</th>\n      <td>Benzin</td>\n      <td>Manuel</td>\n      <td>Mazda</td>\n      <td>3 1,6 Advance</td>\n      <td>4.0</td>\n      <td>2520.0</td>\n      <td>105.0</td>\n      <td>145000.0</td>\n      <td>15.4</td>\n      <td>5.0</td>\n      <td>12.2</td>\n      <td>224999.0</td>\n      <td>2011</td>\n      <td>184.0</td>\n      <td>1155.0</td>\n      <td>59900</td>\n    </tr>\n  </tbody>\n</table>\n<p>279 rows × 16 columns</p>\n</div>"
          },
          "metadata": {}
        }
      ]
    },
    {
      "source": [
        "## Encoding categorical data"
      ],
      "cell_type": "markdown",
      "metadata": {}
    },
    {
      "cell_type": "code",
      "execution_count": 3,
      "metadata": {},
      "outputs": [
        {
          "output_type": "execute_result",
          "data": {
            "text/plain": [
              "array([[-0.61416637,  0.64516948,  0.        , ..., -0.21527398,\n",
              "         0.92021003, -0.01108144],\n",
              "       [-0.61416637,  0.64516948,  0.        , ...,  0.20037612,\n",
              "        -1.52491949, -1.83895723],\n",
              "       [ 1.28974939,  0.64516948,  0.        , ..., -0.83874912,\n",
              "        -0.0202244 ,  1.05953153],\n",
              "       ...,\n",
              "       [-0.61416637,  0.64516948,  0.        , ..., -0.83874912,\n",
              "        -1.46222386, -1.91729477],\n",
              "       [-0.61416637, -1.54998033,  0.        , ..., -0.00744893,\n",
              "        -0.52178943,  1.25276411],\n",
              "       [-0.61416637,  0.64516948,  0.        , ..., -0.63092407,\n",
              "        -0.70987631, -0.74223176]])"
            ]
          },
          "metadata": {},
          "execution_count": 3
        }
      ],
      "source": [
        "from sklearn.compose import ColumnTransformer\n",
        "\n",
        "from sklearn import preprocessing\n",
        "le = preprocessing.LabelEncoder()\n",
        "X[:, 0] = le.fit_transform(X[:,0])\n",
        "X[:, 1] = le.fit_transform(X[:,1])\n",
        "X[:, 2] = le.fit_transform(X[:,2])\n",
        "X[:, 3] = le.fit_transform(X[:,3])"
      ]
    },
    {
      "cell_type": "markdown",
      "metadata": {
        "id": "WemVnqgeA70k",
        "colab_type": "text"
      },
      "source": [
        "## Splitting the dataset into the Training set and Test set"
      ]
    },
    {
      "cell_type": "code",
      "metadata": {
        "id": "Kb_v_ae-A-20",
        "colab_type": "code",
        "colab": {}
      },
      "source": [
        "from sklearn.model_selection import train_test_split\n",
        "X_train, X_test, y_train, y_test = train_test_split(X, y, test_size = 0.30, random_state = 0)"
      ],
      "execution_count": 4,
      "outputs": []
    },
    {
      "cell_type": "markdown",
      "metadata": {
        "id": "k-McZVsQBINc",
        "colab_type": "text"
      },
      "source": [
        "## Training the Multiple Linear Regression model on the Training set"
      ]
    },
    {
      "cell_type": "code",
      "metadata": {
        "id": "ywPjx0L1BMiD",
        "colab_type": "code",
        "colab": {}
      },
      "source": [
        "from sklearn.linear_model import LinearRegression\n",
        "regressor = LinearRegression()\n",
        "regressor.fit(X_train, y_train)"
      ],
      "execution_count": 5,
      "outputs": [
        {
          "output_type": "execute_result",
          "data": {
            "text/plain": [
              "LinearRegression()"
            ]
          },
          "metadata": {},
          "execution_count": 5
        }
      ]
    },
    {
      "cell_type": "markdown",
      "metadata": {
        "id": "xNkXL1YQBiBT",
        "colab_type": "text"
      },
      "source": [
        "## Predicting the Test set results"
      ]
    },
    {
      "cell_type": "code",
      "metadata": {
        "id": "TQKmwvtdBkyb",
        "colab_type": "code",
        "colab": {}
      },
      "source": [
        "y_pred = regressor.predict(X_test)\n",
        "np.set_printoptions(precision=2)\n",
        "print(np.concatenate((y_pred.reshape(len(y_pred),1), y_test.reshape(len(y_test),1)),1))"
      ],
      "execution_count": 6,
      "outputs": [
        {
          "output_type": "stream",
          "name": "stdout",
          "text": [
            "[[279173.07 299900.  ]\n [129313.85  79900.  ]\n [208018.27 224990.  ]\n [184514.15 149900.  ]\n [ 24936.33  32990.  ]\n [256965.2  259000.  ]\n [236945.48 329900.  ]\n [110682.84 109900.  ]\n [258723.63 264900.  ]\n [118902.19  64995.  ]\n [ 69613.02  99900.  ]\n [184671.06 179900.  ]\n [345783.09 369800.  ]\n [ 94207.64 118000.  ]\n [217367.   212000.  ]\n [ 80664.    32000.  ]\n [165809.25 149800.  ]\n [269596.65 329800.  ]\n [ 70389.21  49900.  ]\n [ 99482.92 122500.  ]\n [319049.2  352900.  ]\n [ 23156.31  32900.  ]\n [172859.66 149700.  ]\n [-35498.13   9900.  ]\n [206242.91 269900.  ]\n [ 73542.69  94900.  ]\n [200239.21 179900.  ]\n [102434.37 119900.  ]\n [332398.9  344990.  ]\n [ 53075.41 120000.  ]\n [ 46349.26  19900.  ]\n [109221.57  89900.  ]\n [119413.08  79900.  ]\n [ 90971.41  79900.  ]\n [255637.74 239800.  ]\n [186630.45 195000.  ]\n [142454.56 169900.  ]\n [ 66631.99  44800.  ]\n [ 61954.56  89900.  ]\n [267118.78 119900.  ]\n [317371.41 319800.  ]\n [240337.01 234900.  ]\n [209692.17 154900.  ]\n [131183.93 143800.  ]\n [-78605.81   3500.  ]\n [205623.79 194900.  ]\n [345119.73 369800.  ]\n [-56806.64   9990.  ]\n [136491.11 150000.  ]\n [165756.01 149995.  ]\n [162207.18 149900.  ]\n [234652.45 244900.  ]\n [169827.32 158900.  ]\n [ 86635.25 112900.  ]\n [174761.09 179500.  ]\n [204232.35 174900.  ]\n [222436.23   1648.  ]\n [142848.11 154900.  ]\n [234913.41 119900.  ]\n [-60826.75   9500.  ]\n [ 16144.21  33900.  ]\n [232412.12 227000.  ]\n [212294.95 259700.  ]\n [155083.05 144700.  ]\n [329549.11 299800.  ]\n [174477.86 139900.  ]\n [ -4722.54  22900.  ]\n [222251.49 249900.  ]\n [131156.65 164800.  ]\n [140917.95  82900.  ]\n [197180.52 172900.  ]\n [ -1927.19  29900.  ]\n [106958.94  79900.  ]\n [186520.67 199900.  ]\n [ 70631.01 109400.  ]\n [-20679.51  24900.  ]\n [317153.32 330000.  ]\n [ 26702.69  99500.  ]\n [261455.79 264800.  ]\n [168447.3  169900.  ]\n [184557.33 129900.  ]\n [-19482.16  42800.  ]\n [249952.97 304790.  ]\n [199279.55 199990.  ]]\n"
          ]
        }
      ]
    },
    {
      "cell_type": "markdown",
      "metadata": {
        "id": "50DZZy0UyhLi",
        "colab_type": "text"
      },
      "source": [
        "## Evaluating the Model Performance"
      ]
    },
    {
      "cell_type": "code",
      "metadata": {
        "id": "xPagAOKDywV4",
        "colab_type": "code",
        "colab": {}
      },
      "source": [
        "from sklearn.metrics import r2_score\n",
        "r2_score(y_test, y_pred)"
      ],
      "execution_count": 7,
      "outputs": [
        {
          "output_type": "execute_result",
          "data": {
            "text/plain": [
              "0.7734784023557882"
            ]
          },
          "metadata": {},
          "execution_count": 7
        }
      ]
    }
  ]
}