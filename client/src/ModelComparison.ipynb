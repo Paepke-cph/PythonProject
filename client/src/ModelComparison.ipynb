{
 "metadata": {
  "language_info": {
   "codemirror_mode": {
    "name": "ipython",
    "version": 3
   },
   "file_extension": ".py",
   "mimetype": "text/x-python",
   "name": "python",
   "nbconvert_exporter": "python",
   "pygments_lexer": "ipython3",
   "version": "3.8.5-final"
  },
  "orig_nbformat": 2,
  "kernelspec": {
   "name": "python3",
   "display_name": "Python 3",
   "language": "python"
  }
 },
 "nbformat": 4,
 "nbformat_minor": 2,
 "cells": [
  {
   "source": [
    "# Imports"
   ],
   "cell_type": "markdown",
   "metadata": {}
  },
  {
   "cell_type": "code",
   "execution_count": 1,
   "metadata": {},
   "outputs": [
    {
     "output_type": "stream",
     "name": "stdout",
     "text": [
      "./Data/bilhandel_clean.csv\n"
     ]
    },
    {
     "output_type": "display_data",
     "data": {
      "text/plain": "      Brændstoftype   Gearkasse     Make                            Model  \\\n0            Diesel      Manuel  Peugeot                407 1,6 HDi XR SW   \n2            Diesel  Automatisk    Skoda  Superb 2,0 TDi 150 Ambition DSG   \n3            Benzin  Automatisk       VW   Passat 1,4 GTE Variant DSG Van   \n4            Benzin      Manuel      Kia             Rio 1,2 CVVT Collect   \n5            Diesel      Manuel  Peugeot                407 1,6 HDi XR SW   \n...             ...         ...      ...                              ...   \n19994        Benzin      Manuel     Seat             Mii 1,0 60 Style eco   \n19995        Benzin  Automatisk      BMW                    530i 2,0 aut.   \n19996        Benzin  Automatisk       VW    Polo 1,0 TSi 115 Highline DSG   \n19997        Benzin      Manuel    Skoda     Octavia 1,2 TSi 105 Ambiente   \n19998        Benzin      Manuel  Peugeot                206+ 1,4 Comfort+   \n\n       Antal døre  Grøn Ejerafgift  Hestekræfter  Kilometer  Km/l  Antal gear  \\\n0             5.0           6540.0         110.0   292000.0  17.9         6.0   \n2             5.0           3880.0         150.0   243000.0  22.2         6.0   \n3             5.0            660.0         218.0    75000.0  32.3         6.0   \n4             5.0            660.0          86.0   107000.0  21.3         5.0   \n5             5.0           6540.0         110.0   292000.0  17.9         6.0   \n...           ...              ...           ...        ...   ...         ...   \n19994         5.0            660.0          60.0   156000.0  24.4         5.0   \n19995         4.0           1780.0         252.0    57000.0  18.2         8.0   \n19996         5.0           1080.0         115.0     5000.0  22.9         7.0   \n19997         5.0           1880.0         105.0   156000.0  17.5         6.0   \n19998         5.0           2520.0          75.0   156000.0  15.9         5.0   \n\n       0 - 100 km/t    Nypris  Årgang  Tophastighed    Vægt    Pris  \n0              13.7  307689.0    2005         189.0  1475.0   14700  \n2               8.9  436000.0    2016         218.0  1400.0  169700  \n3               7.6  318324.0    2018         225.0  1635.0    2495  \n4              13.1  139998.0    2014         168.0  1158.0   69800  \n5              13.7  307689.0    2005         189.0  1475.0   14700  \n...             ...       ...     ...           ...     ...     ...  \n19994          14.4  102402.0    2014         161.0   940.0   49999  \n19995           6.2  662193.0    2018         250.0  1515.0  459900  \n19996           9.5  216117.0    2020         200.0  1090.0  249500  \n19997          10.8  224002.0    2011         192.0  1170.0   64900  \n19998          15.0  149992.0    2009         173.0   975.0   29900  \n\n[12009 rows x 16 columns]",
      "text/html": "<div>\n<style scoped>\n    .dataframe tbody tr th:only-of-type {\n        vertical-align: middle;\n    }\n\n    .dataframe tbody tr th {\n        vertical-align: top;\n    }\n\n    .dataframe thead th {\n        text-align: right;\n    }\n</style>\n<table border=\"1\" class=\"dataframe\">\n  <thead>\n    <tr style=\"text-align: right;\">\n      <th></th>\n      <th>Brændstoftype</th>\n      <th>Gearkasse</th>\n      <th>Make</th>\n      <th>Model</th>\n      <th>Antal døre</th>\n      <th>Grøn Ejerafgift</th>\n      <th>Hestekræfter</th>\n      <th>Kilometer</th>\n      <th>Km/l</th>\n      <th>Antal gear</th>\n      <th>0 - 100 km/t</th>\n      <th>Nypris</th>\n      <th>Årgang</th>\n      <th>Tophastighed</th>\n      <th>Vægt</th>\n      <th>Pris</th>\n    </tr>\n  </thead>\n  <tbody>\n    <tr>\n      <th>0</th>\n      <td>Diesel</td>\n      <td>Manuel</td>\n      <td>Peugeot</td>\n      <td>407 1,6 HDi XR SW</td>\n      <td>5.0</td>\n      <td>6540.0</td>\n      <td>110.0</td>\n      <td>292000.0</td>\n      <td>17.9</td>\n      <td>6.0</td>\n      <td>13.7</td>\n      <td>307689.0</td>\n      <td>2005</td>\n      <td>189.0</td>\n      <td>1475.0</td>\n      <td>14700</td>\n    </tr>\n    <tr>\n      <th>2</th>\n      <td>Diesel</td>\n      <td>Automatisk</td>\n      <td>Skoda</td>\n      <td>Superb 2,0 TDi 150 Ambition DSG</td>\n      <td>5.0</td>\n      <td>3880.0</td>\n      <td>150.0</td>\n      <td>243000.0</td>\n      <td>22.2</td>\n      <td>6.0</td>\n      <td>8.9</td>\n      <td>436000.0</td>\n      <td>2016</td>\n      <td>218.0</td>\n      <td>1400.0</td>\n      <td>169700</td>\n    </tr>\n    <tr>\n      <th>3</th>\n      <td>Benzin</td>\n      <td>Automatisk</td>\n      <td>VW</td>\n      <td>Passat 1,4 GTE Variant DSG Van</td>\n      <td>5.0</td>\n      <td>660.0</td>\n      <td>218.0</td>\n      <td>75000.0</td>\n      <td>32.3</td>\n      <td>6.0</td>\n      <td>7.6</td>\n      <td>318324.0</td>\n      <td>2018</td>\n      <td>225.0</td>\n      <td>1635.0</td>\n      <td>2495</td>\n    </tr>\n    <tr>\n      <th>4</th>\n      <td>Benzin</td>\n      <td>Manuel</td>\n      <td>Kia</td>\n      <td>Rio 1,2 CVVT Collect</td>\n      <td>5.0</td>\n      <td>660.0</td>\n      <td>86.0</td>\n      <td>107000.0</td>\n      <td>21.3</td>\n      <td>5.0</td>\n      <td>13.1</td>\n      <td>139998.0</td>\n      <td>2014</td>\n      <td>168.0</td>\n      <td>1158.0</td>\n      <td>69800</td>\n    </tr>\n    <tr>\n      <th>5</th>\n      <td>Diesel</td>\n      <td>Manuel</td>\n      <td>Peugeot</td>\n      <td>407 1,6 HDi XR SW</td>\n      <td>5.0</td>\n      <td>6540.0</td>\n      <td>110.0</td>\n      <td>292000.0</td>\n      <td>17.9</td>\n      <td>6.0</td>\n      <td>13.7</td>\n      <td>307689.0</td>\n      <td>2005</td>\n      <td>189.0</td>\n      <td>1475.0</td>\n      <td>14700</td>\n    </tr>\n    <tr>\n      <th>...</th>\n      <td>...</td>\n      <td>...</td>\n      <td>...</td>\n      <td>...</td>\n      <td>...</td>\n      <td>...</td>\n      <td>...</td>\n      <td>...</td>\n      <td>...</td>\n      <td>...</td>\n      <td>...</td>\n      <td>...</td>\n      <td>...</td>\n      <td>...</td>\n      <td>...</td>\n      <td>...</td>\n    </tr>\n    <tr>\n      <th>19994</th>\n      <td>Benzin</td>\n      <td>Manuel</td>\n      <td>Seat</td>\n      <td>Mii 1,0 60 Style eco</td>\n      <td>5.0</td>\n      <td>660.0</td>\n      <td>60.0</td>\n      <td>156000.0</td>\n      <td>24.4</td>\n      <td>5.0</td>\n      <td>14.4</td>\n      <td>102402.0</td>\n      <td>2014</td>\n      <td>161.0</td>\n      <td>940.0</td>\n      <td>49999</td>\n    </tr>\n    <tr>\n      <th>19995</th>\n      <td>Benzin</td>\n      <td>Automatisk</td>\n      <td>BMW</td>\n      <td>530i 2,0 aut.</td>\n      <td>4.0</td>\n      <td>1780.0</td>\n      <td>252.0</td>\n      <td>57000.0</td>\n      <td>18.2</td>\n      <td>8.0</td>\n      <td>6.2</td>\n      <td>662193.0</td>\n      <td>2018</td>\n      <td>250.0</td>\n      <td>1515.0</td>\n      <td>459900</td>\n    </tr>\n    <tr>\n      <th>19996</th>\n      <td>Benzin</td>\n      <td>Automatisk</td>\n      <td>VW</td>\n      <td>Polo 1,0 TSi 115 Highline DSG</td>\n      <td>5.0</td>\n      <td>1080.0</td>\n      <td>115.0</td>\n      <td>5000.0</td>\n      <td>22.9</td>\n      <td>7.0</td>\n      <td>9.5</td>\n      <td>216117.0</td>\n      <td>2020</td>\n      <td>200.0</td>\n      <td>1090.0</td>\n      <td>249500</td>\n    </tr>\n    <tr>\n      <th>19997</th>\n      <td>Benzin</td>\n      <td>Manuel</td>\n      <td>Skoda</td>\n      <td>Octavia 1,2 TSi 105 Ambiente</td>\n      <td>5.0</td>\n      <td>1880.0</td>\n      <td>105.0</td>\n      <td>156000.0</td>\n      <td>17.5</td>\n      <td>6.0</td>\n      <td>10.8</td>\n      <td>224002.0</td>\n      <td>2011</td>\n      <td>192.0</td>\n      <td>1170.0</td>\n      <td>64900</td>\n    </tr>\n    <tr>\n      <th>19998</th>\n      <td>Benzin</td>\n      <td>Manuel</td>\n      <td>Peugeot</td>\n      <td>206+ 1,4 Comfort+</td>\n      <td>5.0</td>\n      <td>2520.0</td>\n      <td>75.0</td>\n      <td>156000.0</td>\n      <td>15.9</td>\n      <td>5.0</td>\n      <td>15.0</td>\n      <td>149992.0</td>\n      <td>2009</td>\n      <td>173.0</td>\n      <td>975.0</td>\n      <td>29900</td>\n    </tr>\n  </tbody>\n</table>\n<p>12009 rows × 16 columns</p>\n</div>"
     },
     "metadata": {}
    }
   ],
   "source": [
    "import pandas as pd\n",
    "from Modules import Cleaner\n",
    "from Modules import DataSource\n",
    "from Modules.Regression.LinearReg import LinearReg\n",
    "from Modules.Regression.DecisionTreeReg import DecisionTreeReg\n",
    "from Modules.Regression.MultiLinearReg import MultiLinearReg\n",
    "from Modules.Regression.PolynomialReg import PolynomialReg\n",
    "from Modules.Regression.RandomForestReg import RandomForestReg\n",
    "from Modules.Clustering.KMeansClustering import KMeansClustering\n",
    "from Modules.Clustering.KNNClustering import KNNClustering\n",
    "\n",
    "# DB\n",
    "# datafile = DataSource.fetch('http://notebookserver:5000/api/cars/all','./data/bilhandel_clean.csv')\n",
    "# LOCAL\n",
    "datafile = Cleaner.get_and_clean_df('./Data/bilhandel_clean.csv')\n",
    "display(datafile)"
   ]
  },
  {
   "source": [
    "# Compare all our implemented models, which holds a single score\n",
    "Polynomial Regression is not included, as the score depends on what features are selected for the model."
   ],
   "cell_type": "markdown",
   "metadata": {}
  },
  {
   "cell_type": "code",
   "execution_count": 2,
   "metadata": {},
   "outputs": [],
   "source": [
    "makes = ['Mazda', 'VW', 'Mercedes', 'Ford', 'Audi']\n",
    "df = pd.DataFrame(columns=['Make','Model', 'Score', 'Number of Cars'])\n",
    "\n",
    "for m in makes:\n",
    "    # Linear Regression\n",
    "    linear_regression = LinearReg(datafile, make=m)\n",
    "    lin_score = round(linear_regression.score(),3)\n",
    "    count = len(linear_regression.dataset.index)\n",
    "    \n",
    "    # Multilinear Regression\n",
    "    multilinear_regression = MultiLinearReg(datafile, make=m)\n",
    "    mul_score = round(multilinear_regression.score(),3)\n",
    "\n",
    "    # Random Forest Regression\n",
    "    random_regression = RandomForestReg(datafile, make=m)\n",
    "    random_score = round(random_regression.score(),3)\n",
    "\n",
    "    # Decision Tree Regression\n",
    "    decision_regression = DecisionTreeReg(datafile,make=m)\n",
    "    decision_score = round(decision_regression.score(),3)\n",
    "\n",
    "    appendDF = pd.DataFrame({'Make':m,\n",
    "                            'Model':['Linear Regression', 'Multilinear Regression', 'Random Forest Regression', 'Decision Tree Regression','----------------'],\n",
    "                            'Score':[lin_score, mul_score, random_score, decision_score, '----------'],\n",
    "                            'Number of Cars':[count,count,count,count,'----------']})\n",
    "    \n",
    "    df = df.append(appendDF)\n",
    "df = df.set_index('Make')"
   ]
  },
  {
   "source": [
    "# Results from models"
   ],
   "cell_type": "markdown",
   "metadata": {}
  },
  {
   "cell_type": "code",
   "execution_count": 3,
   "metadata": {},
   "outputs": [
    {
     "output_type": "display_data",
     "data": {
      "text/plain": "                             Model       Score Number of Cars\nMake                                                         \nMazda            Linear Regression       0.412            279\nMazda       Multilinear Regression       0.871            279\nMazda     Random Forest Regression       0.931            279\nMazda     Decision Tree Regression           1            279\nMazda             ----------------  ----------     ----------\nVW               Linear Regression       0.412           1744\nVW          Multilinear Regression       0.641           1744\nVW        Random Forest Regression       0.524           1744\nVW        Decision Tree Regression       0.891           1744\nVW                ----------------  ----------     ----------\nMercedes         Linear Regression       0.412            425\nMercedes    Multilinear Regression       0.131            425\nMercedes  Random Forest Regression      -0.473            425\nMercedes  Decision Tree Regression       0.282            425\nMercedes          ----------------  ----------     ----------\nFord             Linear Regression       0.412            873\nFord        Multilinear Regression       0.794            873\nFord      Random Forest Regression        0.85            873\nFord      Decision Tree Regression       0.968            873\nFord              ----------------  ----------     ----------\nAudi             Linear Regression       0.412            996\nAudi        Multilinear Regression       0.262            996\nAudi      Random Forest Regression      -0.102            996\nAudi      Decision Tree Regression       0.755            996\nAudi              ----------------  ----------     ----------",
      "text/html": "<div>\n<style scoped>\n    .dataframe tbody tr th:only-of-type {\n        vertical-align: middle;\n    }\n\n    .dataframe tbody tr th {\n        vertical-align: top;\n    }\n\n    .dataframe thead th {\n        text-align: right;\n    }\n</style>\n<table border=\"1\" class=\"dataframe\">\n  <thead>\n    <tr style=\"text-align: right;\">\n      <th></th>\n      <th>Model</th>\n      <th>Score</th>\n      <th>Number of Cars</th>\n    </tr>\n    <tr>\n      <th>Make</th>\n      <th></th>\n      <th></th>\n      <th></th>\n    </tr>\n  </thead>\n  <tbody>\n    <tr>\n      <th>Mazda</th>\n      <td>Linear Regression</td>\n      <td>0.412</td>\n      <td>279</td>\n    </tr>\n    <tr>\n      <th>Mazda</th>\n      <td>Multilinear Regression</td>\n      <td>0.871</td>\n      <td>279</td>\n    </tr>\n    <tr>\n      <th>Mazda</th>\n      <td>Random Forest Regression</td>\n      <td>0.931</td>\n      <td>279</td>\n    </tr>\n    <tr>\n      <th>Mazda</th>\n      <td>Decision Tree Regression</td>\n      <td>1</td>\n      <td>279</td>\n    </tr>\n    <tr>\n      <th>Mazda</th>\n      <td>----------------</td>\n      <td>----------</td>\n      <td>----------</td>\n    </tr>\n    <tr>\n      <th>VW</th>\n      <td>Linear Regression</td>\n      <td>0.412</td>\n      <td>1744</td>\n    </tr>\n    <tr>\n      <th>VW</th>\n      <td>Multilinear Regression</td>\n      <td>0.641</td>\n      <td>1744</td>\n    </tr>\n    <tr>\n      <th>VW</th>\n      <td>Random Forest Regression</td>\n      <td>0.524</td>\n      <td>1744</td>\n    </tr>\n    <tr>\n      <th>VW</th>\n      <td>Decision Tree Regression</td>\n      <td>0.891</td>\n      <td>1744</td>\n    </tr>\n    <tr>\n      <th>VW</th>\n      <td>----------------</td>\n      <td>----------</td>\n      <td>----------</td>\n    </tr>\n    <tr>\n      <th>Mercedes</th>\n      <td>Linear Regression</td>\n      <td>0.412</td>\n      <td>425</td>\n    </tr>\n    <tr>\n      <th>Mercedes</th>\n      <td>Multilinear Regression</td>\n      <td>0.131</td>\n      <td>425</td>\n    </tr>\n    <tr>\n      <th>Mercedes</th>\n      <td>Random Forest Regression</td>\n      <td>-0.473</td>\n      <td>425</td>\n    </tr>\n    <tr>\n      <th>Mercedes</th>\n      <td>Decision Tree Regression</td>\n      <td>0.282</td>\n      <td>425</td>\n    </tr>\n    <tr>\n      <th>Mercedes</th>\n      <td>----------------</td>\n      <td>----------</td>\n      <td>----------</td>\n    </tr>\n    <tr>\n      <th>Ford</th>\n      <td>Linear Regression</td>\n      <td>0.412</td>\n      <td>873</td>\n    </tr>\n    <tr>\n      <th>Ford</th>\n      <td>Multilinear Regression</td>\n      <td>0.794</td>\n      <td>873</td>\n    </tr>\n    <tr>\n      <th>Ford</th>\n      <td>Random Forest Regression</td>\n      <td>0.85</td>\n      <td>873</td>\n    </tr>\n    <tr>\n      <th>Ford</th>\n      <td>Decision Tree Regression</td>\n      <td>0.968</td>\n      <td>873</td>\n    </tr>\n    <tr>\n      <th>Ford</th>\n      <td>----------------</td>\n      <td>----------</td>\n      <td>----------</td>\n    </tr>\n    <tr>\n      <th>Audi</th>\n      <td>Linear Regression</td>\n      <td>0.412</td>\n      <td>996</td>\n    </tr>\n    <tr>\n      <th>Audi</th>\n      <td>Multilinear Regression</td>\n      <td>0.262</td>\n      <td>996</td>\n    </tr>\n    <tr>\n      <th>Audi</th>\n      <td>Random Forest Regression</td>\n      <td>-0.102</td>\n      <td>996</td>\n    </tr>\n    <tr>\n      <th>Audi</th>\n      <td>Decision Tree Regression</td>\n      <td>0.755</td>\n      <td>996</td>\n    </tr>\n    <tr>\n      <th>Audi</th>\n      <td>----------------</td>\n      <td>----------</td>\n      <td>----------</td>\n    </tr>\n  </tbody>\n</table>\n</div>"
     },
     "metadata": {}
    }
   ],
   "source": [
    "display(df)"
   ]
  },
  {
   "cell_type": "code",
   "execution_count": null,
   "metadata": {},
   "outputs": [],
   "source": []
  }
 ]
}