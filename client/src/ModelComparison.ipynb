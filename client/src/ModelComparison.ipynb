{
 "metadata": {
  "language_info": {
   "codemirror_mode": {
    "name": "ipython",
    "version": 3
   },
   "file_extension": ".py",
   "mimetype": "text/x-python",
   "name": "python",
   "nbconvert_exporter": "python",
   "pygments_lexer": "ipython3",
   "version": "3.8.5-final"
  },
  "orig_nbformat": 2,
  "kernelspec": {
   "name": "python3",
   "display_name": "Python 3",
   "language": "python"
  }
 },
 "nbformat": 4,
 "nbformat_minor": 2,
 "cells": [
  {
   "source": [
    "# Imports"
   ],
   "cell_type": "markdown",
   "metadata": {}
  },
  {
   "cell_type": "code",
   "execution_count": 1,
   "metadata": {},
   "outputs": [
    {
     "output_type": "error",
     "ename": "NameError",
     "evalue": "name 'Cleaner' is not defined",
     "traceback": [
      "\u001b[0;31m---------------------------------------------------------------------------\u001b[0m",
      "\u001b[0;31mNameError\u001b[0m                                 Traceback (most recent call last)",
      "\u001b[0;32m<ipython-input-1-c6799cdbb1be>\u001b[0m in \u001b[0;36m<module>\u001b[0;34m\u001b[0m\n\u001b[1;32m     13\u001b[0m \u001b[0;31m#datafile = DataSource.fetch('http://notebookserver:5000/api/cars/all','./data/bilhandel_clean.csv')\u001b[0m\u001b[0;34m\u001b[0m\u001b[0;34m\u001b[0m\u001b[0;34m\u001b[0m\u001b[0m\n\u001b[1;32m     14\u001b[0m \u001b[0;31m# LOCAL\u001b[0m\u001b[0;34m\u001b[0m\u001b[0;34m\u001b[0m\u001b[0;34m\u001b[0m\u001b[0m\n\u001b[0;32m---> 15\u001b[0;31m \u001b[0mdatafile\u001b[0m \u001b[0;34m=\u001b[0m \u001b[0mCleaner\u001b[0m\u001b[0;34m.\u001b[0m\u001b[0mget_and_clean_df\u001b[0m\u001b[0;34m(\u001b[0m\u001b[0;34m'./Data/bilhandel_clean.csv'\u001b[0m\u001b[0;34m)\u001b[0m\u001b[0;34m\u001b[0m\u001b[0;34m\u001b[0m\u001b[0m\n\u001b[0m",
      "\u001b[0;31mNameError\u001b[0m: name 'Cleaner' is not defined"
     ]
    }
   ],
   "source": [
    "import pandas as pd\n",
    "# from Modules import Cleaner\n",
    "from Modules import DataSource\n",
    "from Modules import Cleaner\n",
    "from Modules.Regression.LinearReg import LinearReg\n",
    "from Modules.Regression.DecisionTreeReg import DecisionTreeReg\n",
    "from Modules.Regression.MultiLinearReg import MultiLinearReg\n",
    "from Modules.Regression.PolynomialReg import PolynomialReg\n",
    "from Modules.Regression.RandomForestReg import RandomForestReg\n",
    "from Modules.Clustering.KMeansClustering import KMeansClustering\n",
    "from Modules.Clustering.KNNClustering import KNNClustering\n",
    "\n",
    "# DB\n",
    "#datafile = DataSource.fetch('http://notebookserver:5000/api/cars/all','./data/bilhandel_clean.csv')\n",
    "# LOCAL\n",
    "datafile = Cleaner.get_and_clean_df('./Data/bilhandel_clean.csv')"
   ]
  },
  {
   "source": [
    "# Compare all our implemented models, which holds a single score\n",
    "Polynomial Regression is not included, as the score depends on what features are selected for the model."
   ],
   "cell_type": "markdown",
   "metadata": {}
  },
  {
   "cell_type": "code",
   "execution_count": 2,
   "metadata": {},
   "outputs": [],
   "source": [
    "makes = ['Mazda', 'VW', 'Mercedes', 'Ford', 'Audi']\n",
    "df = pd.DataFrame(columns=['Make','Model', 'Score', 'Number of Cars'])\n",
    "for m in makes:\n",
    "    # Linear Regression\n",
    "    linear_regression = LinearReg(datafile, make=m)\n",
    "    lin_score = round(linear_regression.score(),3)\n",
    "    count = len(linear_regression.dataset.index)\n",
    "    \n",
    "    # Multilinear Regression\n",
    "    multilinear_regression = MultiLinearReg(datafile, make=m)\n",
    "    mul_score = round(multilinear_regression.score(),3)\n",
    "\n",
    "    # Random Forest Regression\n",
    "    random_regression = RandomForestReg(datafile, make=m)\n",
    "    random_score = round(random_regression.score(),3)\n",
    "\n",
    "    # Decision Tree Regression\n",
    "    decision_regression = DecisionTreeReg(datafile,make=m)\n",
    "    decision_score = round(decision_regression.score(),3)\n",
    "\n",
    "    appendDF = pd.DataFrame({'Make':m,\n",
    "                            'Model':['Linear Regression', 'Multilinear Regression', 'Random Forest Regression', 'Decision Tree Regression','----------------'],\n",
    "                            'Score':[lin_score, mul_score, random_score, decision_score, '----------'],\n",
    "                            'Number of Cars':[count,count,count,count,'----------']})\n",
    "    \n",
    "    df = df.append(appendDF)\n",
    "df = df.set_index('Make')"
   ]
  },
  {
   "source": [
    "# Results from models"
   ],
   "cell_type": "markdown",
   "metadata": {}
  },
  {
   "cell_type": "code",
   "execution_count": 3,
   "metadata": {},
   "outputs": [
    {
     "output_type": "display_data",
     "data": {
      "text/plain": "                             Model       Score Number of Cars\nMake                                                         \nMazda            Linear Regression       0.576            279\nMazda       Multilinear Regression        0.78            279\nMazda     Random Forest Regression       0.821            279\nMazda     Decision Tree Regression           1            279\nMazda             ----------------  ----------     ----------\nVW               Linear Regression       0.576           1744\nVW          Multilinear Regression       0.628           1744\nVW        Random Forest Regression       0.918           1744\nVW        Decision Tree Regression           1           1744\nVW                ----------------  ----------     ----------\nMercedes         Linear Regression       0.576            425\nMercedes    Multilinear Regression       0.751            425\nMercedes  Random Forest Regression       0.893            425\nMercedes  Decision Tree Regression           1            425\nMercedes          ----------------  ----------     ----------\nFord             Linear Regression       0.576            873\nFord        Multilinear Regression       0.852            873\nFord      Random Forest Regression       0.924            873\nFord      Decision Tree Regression           1            873\nFord              ----------------  ----------     ----------\nAudi             Linear Regression       0.576            996\nAudi        Multilinear Regression       0.796            996\nAudi      Random Forest Regression       0.896            996\nAudi      Decision Tree Regression           1            996\nAudi              ----------------  ----------     ----------",
      "text/html": "<div>\n<style scoped>\n    .dataframe tbody tr th:only-of-type {\n        vertical-align: middle;\n    }\n\n    .dataframe tbody tr th {\n        vertical-align: top;\n    }\n\n    .dataframe thead th {\n        text-align: right;\n    }\n</style>\n<table border=\"1\" class=\"dataframe\">\n  <thead>\n    <tr style=\"text-align: right;\">\n      <th></th>\n      <th>Model</th>\n      <th>Score</th>\n      <th>Number of Cars</th>\n    </tr>\n    <tr>\n      <th>Make</th>\n      <th></th>\n      <th></th>\n      <th></th>\n    </tr>\n  </thead>\n  <tbody>\n    <tr>\n      <th>Mazda</th>\n      <td>Linear Regression</td>\n      <td>0.576</td>\n      <td>279</td>\n    </tr>\n    <tr>\n      <th>Mazda</th>\n      <td>Multilinear Regression</td>\n      <td>0.78</td>\n      <td>279</td>\n    </tr>\n    <tr>\n      <th>Mazda</th>\n      <td>Random Forest Regression</td>\n      <td>0.821</td>\n      <td>279</td>\n    </tr>\n    <tr>\n      <th>Mazda</th>\n      <td>Decision Tree Regression</td>\n      <td>1</td>\n      <td>279</td>\n    </tr>\n    <tr>\n      <th>Mazda</th>\n      <td>----------------</td>\n      <td>----------</td>\n      <td>----------</td>\n    </tr>\n    <tr>\n      <th>VW</th>\n      <td>Linear Regression</td>\n      <td>0.576</td>\n      <td>1744</td>\n    </tr>\n    <tr>\n      <th>VW</th>\n      <td>Multilinear Regression</td>\n      <td>0.628</td>\n      <td>1744</td>\n    </tr>\n    <tr>\n      <th>VW</th>\n      <td>Random Forest Regression</td>\n      <td>0.918</td>\n      <td>1744</td>\n    </tr>\n    <tr>\n      <th>VW</th>\n      <td>Decision Tree Regression</td>\n      <td>1</td>\n      <td>1744</td>\n    </tr>\n    <tr>\n      <th>VW</th>\n      <td>----------------</td>\n      <td>----------</td>\n      <td>----------</td>\n    </tr>\n    <tr>\n      <th>Mercedes</th>\n      <td>Linear Regression</td>\n      <td>0.576</td>\n      <td>425</td>\n    </tr>\n    <tr>\n      <th>Mercedes</th>\n      <td>Multilinear Regression</td>\n      <td>0.751</td>\n      <td>425</td>\n    </tr>\n    <tr>\n      <th>Mercedes</th>\n      <td>Random Forest Regression</td>\n      <td>0.893</td>\n      <td>425</td>\n    </tr>\n    <tr>\n      <th>Mercedes</th>\n      <td>Decision Tree Regression</td>\n      <td>1</td>\n      <td>425</td>\n    </tr>\n    <tr>\n      <th>Mercedes</th>\n      <td>----------------</td>\n      <td>----------</td>\n      <td>----------</td>\n    </tr>\n    <tr>\n      <th>Ford</th>\n      <td>Linear Regression</td>\n      <td>0.576</td>\n      <td>873</td>\n    </tr>\n    <tr>\n      <th>Ford</th>\n      <td>Multilinear Regression</td>\n      <td>0.852</td>\n      <td>873</td>\n    </tr>\n    <tr>\n      <th>Ford</th>\n      <td>Random Forest Regression</td>\n      <td>0.924</td>\n      <td>873</td>\n    </tr>\n    <tr>\n      <th>Ford</th>\n      <td>Decision Tree Regression</td>\n      <td>1</td>\n      <td>873</td>\n    </tr>\n    <tr>\n      <th>Ford</th>\n      <td>----------------</td>\n      <td>----------</td>\n      <td>----------</td>\n    </tr>\n    <tr>\n      <th>Audi</th>\n      <td>Linear Regression</td>\n      <td>0.576</td>\n      <td>996</td>\n    </tr>\n    <tr>\n      <th>Audi</th>\n      <td>Multilinear Regression</td>\n      <td>0.796</td>\n      <td>996</td>\n    </tr>\n    <tr>\n      <th>Audi</th>\n      <td>Random Forest Regression</td>\n      <td>0.896</td>\n      <td>996</td>\n    </tr>\n    <tr>\n      <th>Audi</th>\n      <td>Decision Tree Regression</td>\n      <td>1</td>\n      <td>996</td>\n    </tr>\n    <tr>\n      <th>Audi</th>\n      <td>----------------</td>\n      <td>----------</td>\n      <td>----------</td>\n    </tr>\n  </tbody>\n</table>\n</div>"
     },
     "metadata": {}
    }
   ],
   "source": [
    "display(df)"
   ]
  },
  {
   "cell_type": "code",
   "execution_count": null,
   "metadata": {},
   "outputs": [],
   "source": []
  }
 ]
}