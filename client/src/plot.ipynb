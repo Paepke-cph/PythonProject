{
 "metadata": {
  "language_info": {
   "codemirror_mode": {
    "name": "ipython",
    "version": 3
   },
   "file_extension": ".py",
   "mimetype": "text/x-python",
   "name": "python",
   "nbconvert_exporter": "python",
   "pygments_lexer": "ipython3",
   "version": "3.8.5-final"
  },
  "orig_nbformat": 2,
  "kernelspec": {
   "name": "python3",
   "display_name": "Python 3",
   "language": "python"
  }
 },
 "nbformat": 4,
 "nbformat_minor": 2,
 "cells": [
  {
   "cell_type": "code",
   "execution_count": 6,
   "metadata": {},
   "outputs": [],
   "source": [
    "import requests\n",
    "import pandas as pd\n",
    "import json\n",
    "import matplotlib.pyplot as plt\n",
    "from Modules import Cleaner"
   ]
  },
  {
   "cell_type": "code",
   "execution_count": 1,
   "metadata": {},
   "outputs": [
    {
     "output_type": "display_data",
     "data": {
      "text/plain": "(12009, 16)"
     },
     "metadata": {}
    }
   ],
   "source": [
    "from Modules import DataSource\n",
    "dataset = DataSource.fetch('http://notebookserver:5000/api/cars/all', \"./data/bilhandel_clean.csv\")\n",
    "display(dataset.shape)"
   ]
  },
  {
   "cell_type": "code",
   "execution_count": null,
   "metadata": {},
   "outputs": [],
   "source": [
    "\n",
    "\n",
    "re = requests.get('http://notebookserver:5000/api/manufactorcount')\n",
    "\n",
    "json_dump = json.dumps(re.text)\n",
    "\n",
    "df = pd.read_json(re.text)\n",
    "\n",
    "pd.set_option(\"display.max.columns\", None)\n",
    "df.head()\n",
    "df1 = df.iloc[0]\n",
    "make = list(df.iloc[0])\n",
    "count = list(df.iloc[1])\n",
    "width = 1\n",
    "plt.pie(count,labels=make)\n",
    "\n",
    "\n",
    "\n",
    "\n",
    "\n",
    "\n"
   ]
  },
  {
   "cell_type": "code",
   "execution_count": null,
   "metadata": {
    "tags": []
   },
   "outputs": [],
   "source": [
    "re = requests.get('http://notebookserver:5000/api/pricemiles')\n",
    "df = pd.read_json(re.text)\n",
    "#Make all non-numeric entries to NaN.\n",
    "numbersOnlyPrice = pd.to_numeric(df.iloc[1], errors='coerce')\n",
    "numbersOnlyMiles = pd.to_numeric(df.iloc[0], errors='coerce')\n",
    "\n",
    "plt.scatter(numbersOnlyMiles, numbersOnlyPrice)\n",
    "plt.show() \n"
   ]
  },
  {
   "cell_type": "code",
   "execution_count": null,
   "metadata": {},
   "outputs": [],
   "source": [
    "re = requests.get('http://notebookserver:5000/api/pricemiles/make?make=audi')\n",
    "df = pd.read_json(re.text)\n",
    "#df[df.id.apply(lambda x: x.isnumeric())]\n",
    "#Make all non-numeric entries to NaN.\n",
    "numbersOnlyPrice = pd.to_numeric(df.iloc[1], errors='coerce')\n",
    "numbersOnlyMiles = pd.to_numeric(df.iloc[0], errors='coerce')\n",
    "\n",
    "plt.scatter(numbersOnlyMiles, numbersOnlyPrice)\n",
    "plt.show() "
   ]
  }
 ]
}