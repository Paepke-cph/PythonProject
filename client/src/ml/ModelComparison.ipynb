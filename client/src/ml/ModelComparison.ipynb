{
 "metadata": {
  "language_info": {
   "codemirror_mode": {
    "name": "ipython",
    "version": 3
   },
   "file_extension": ".py",
   "mimetype": "text/x-python",
   "name": "python",
   "nbconvert_exporter": "python",
   "pygments_lexer": "ipython3",
   "version": "3.8.5-final"
  },
  "orig_nbformat": 2,
  "kernelspec": {
   "name": "python3",
   "display_name": "Python 3",
   "language": "python"
  }
 },
 "nbformat": 4,
 "nbformat_minor": 2,
 "cells": [
  {
   "source": [
    "# Imports"
   ],
   "cell_type": "markdown",
   "metadata": {}
  },
  {
   "cell_type": "code",
   "execution_count": 31,
   "metadata": {},
   "outputs": [],
   "source": [
    "import pandas as pd\n",
    "from Modules import Cleaner\n",
    "from Modules.Regression.LinearReg import LinearReg\n",
    "from Modules.Regression.DecisionTreeReg import DecisionTreeReg\n",
    "from Modules.Regression.MultiLinearReg import MultiLinearReg\n",
    "from Modules.Regression.PolynomialReg import PolynomialReg\n",
    "from Modules.Regression.RandomForestReg import RandomForestReg\n",
    "from Modules.Clustering.KMeansClustering import KMeansClustering\n",
    "from Modules.Clustering.KNNClustering import KNNClustering\n",
    "\n",
    "datafile = Cleaner.get_and_clean_df('../Data/bilhandel_unclean.csv')"
   ]
  },
  {
   "source": [
    "# Compare all our implemented models"
   ],
   "cell_type": "markdown",
   "metadata": {}
  },
  {
   "cell_type": "code",
   "execution_count": 32,
   "metadata": {},
   "outputs": [],
   "source": [
    "makes = ['Mazda', 'VW', 'Mercedes', 'Ford', 'Audi']\n",
    "df = pd.DataFrame(columns=['Make','Model', 'Score', 'Number of Cars'])\n",
    "for m in makes:\n",
    "    # Linear Regression\n",
    "    linear_regression = LinearReg(datafile, make=m)\n",
    "    lin_score = round(linear_regression.score(),3)\n",
    "    count = len(linear_regression.dataset.index)\n",
    "    \n",
    "    # Multilinear Regression\n",
    "    multilinear_regression = MultiLinearReg(datafile, make=m)\n",
    "    mul_score = round(multilinear_regression.score(),3)\n",
    "\n",
    "    # Random Forest Regression\n",
    "    random_regression = RandomForestReg(datafile, make=m)\n",
    "    random_score = round(random_regression.score(),3)\n",
    "\n",
    "    # Decision Tree Regression\n",
    "    decision_regression = DecisionTreeReg(datafile,make=m)\n",
    "    decision_score = round(decision_regression.score(),3)\n",
    "\n",
    "    #\n",
    "\n",
    "    appendDF = pd.DataFrame({'Make':m,\n",
    "                            'Model':['Linear Regression', 'Multilinear Regression', 'Random Forest Regression', 'Decision Tree Regression','----------------'],\n",
    "                            'Score':[lin_score, mul_score, random_score, decision_score, '----------'],\n",
    "                            'Number of Cars':[count,count,count,count,'----------']})\n",
    "    \n",
    "    df = df.append(appendDF)\n",
    "df = df.set_index('Make')"
   ]
  },
  {
   "source": [
    "# Results from models"
   ],
   "cell_type": "markdown",
   "metadata": {}
  },
  {
   "cell_type": "code",
   "execution_count": 33,
   "metadata": {},
   "outputs": [
    {
     "output_type": "display_data",
     "data": {
      "text/plain": "                             Model       Score Number of Cars\nMake                                                         \nMazda            Linear Regression        0.38            279\nMazda       Multilinear Regression        0.85            279\nMazda     Random Forest Regression        0.95            279\nMazda     Decision Tree Regression           1            279\nMazda             ----------------  ----------     ----------\nVW               Linear Regression        0.38           1744\nVW          Multilinear Regression        0.62           1744\nVW        Random Forest Regression        0.62           1744\nVW        Decision Tree Regression        0.92           1744\nVW                ----------------  ----------     ----------\nMercedes         Linear Regression        0.38            425\nMercedes    Multilinear Regression        0.15            425\nMercedes  Random Forest Regression       -0.49            425\nMercedes  Decision Tree Regression        0.63            425\nMercedes          ----------------  ----------     ----------\nFord             Linear Regression        0.38            873\nFord        Multilinear Regression        0.82            873\nFord      Random Forest Regression        0.89            873\nFord      Decision Tree Regression           1            873\nFord              ----------------  ----------     ----------\nAudi             Linear Regression        0.38            996\nAudi        Multilinear Regression    -4956.97            996\nAudi      Random Forest Regression       -0.17            996\nAudi      Decision Tree Regression        0.74            996\nAudi              ----------------  ----------     ----------",
      "text/html": "<div>\n<style scoped>\n    .dataframe tbody tr th:only-of-type {\n        vertical-align: middle;\n    }\n\n    .dataframe tbody tr th {\n        vertical-align: top;\n    }\n\n    .dataframe thead th {\n        text-align: right;\n    }\n</style>\n<table border=\"1\" class=\"dataframe\">\n  <thead>\n    <tr style=\"text-align: right;\">\n      <th></th>\n      <th>Model</th>\n      <th>Score</th>\n      <th>Number of Cars</th>\n    </tr>\n    <tr>\n      <th>Make</th>\n      <th></th>\n      <th></th>\n      <th></th>\n    </tr>\n  </thead>\n  <tbody>\n    <tr>\n      <th>Mazda</th>\n      <td>Linear Regression</td>\n      <td>0.38</td>\n      <td>279</td>\n    </tr>\n    <tr>\n      <th>Mazda</th>\n      <td>Multilinear Regression</td>\n      <td>0.85</td>\n      <td>279</td>\n    </tr>\n    <tr>\n      <th>Mazda</th>\n      <td>Random Forest Regression</td>\n      <td>0.95</td>\n      <td>279</td>\n    </tr>\n    <tr>\n      <th>Mazda</th>\n      <td>Decision Tree Regression</td>\n      <td>1</td>\n      <td>279</td>\n    </tr>\n    <tr>\n      <th>Mazda</th>\n      <td>----------------</td>\n      <td>----------</td>\n      <td>----------</td>\n    </tr>\n    <tr>\n      <th>VW</th>\n      <td>Linear Regression</td>\n      <td>0.38</td>\n      <td>1744</td>\n    </tr>\n    <tr>\n      <th>VW</th>\n      <td>Multilinear Regression</td>\n      <td>0.62</td>\n      <td>1744</td>\n    </tr>\n    <tr>\n      <th>VW</th>\n      <td>Random Forest Regression</td>\n      <td>0.62</td>\n      <td>1744</td>\n    </tr>\n    <tr>\n      <th>VW</th>\n      <td>Decision Tree Regression</td>\n      <td>0.92</td>\n      <td>1744</td>\n    </tr>\n    <tr>\n      <th>VW</th>\n      <td>----------------</td>\n      <td>----------</td>\n      <td>----------</td>\n    </tr>\n    <tr>\n      <th>Mercedes</th>\n      <td>Linear Regression</td>\n      <td>0.38</td>\n      <td>425</td>\n    </tr>\n    <tr>\n      <th>Mercedes</th>\n      <td>Multilinear Regression</td>\n      <td>0.15</td>\n      <td>425</td>\n    </tr>\n    <tr>\n      <th>Mercedes</th>\n      <td>Random Forest Regression</td>\n      <td>-0.49</td>\n      <td>425</td>\n    </tr>\n    <tr>\n      <th>Mercedes</th>\n      <td>Decision Tree Regression</td>\n      <td>0.63</td>\n      <td>425</td>\n    </tr>\n    <tr>\n      <th>Mercedes</th>\n      <td>----------------</td>\n      <td>----------</td>\n      <td>----------</td>\n    </tr>\n    <tr>\n      <th>Ford</th>\n      <td>Linear Regression</td>\n      <td>0.38</td>\n      <td>873</td>\n    </tr>\n    <tr>\n      <th>Ford</th>\n      <td>Multilinear Regression</td>\n      <td>0.82</td>\n      <td>873</td>\n    </tr>\n    <tr>\n      <th>Ford</th>\n      <td>Random Forest Regression</td>\n      <td>0.89</td>\n      <td>873</td>\n    </tr>\n    <tr>\n      <th>Ford</th>\n      <td>Decision Tree Regression</td>\n      <td>1</td>\n      <td>873</td>\n    </tr>\n    <tr>\n      <th>Ford</th>\n      <td>----------------</td>\n      <td>----------</td>\n      <td>----------</td>\n    </tr>\n    <tr>\n      <th>Audi</th>\n      <td>Linear Regression</td>\n      <td>0.38</td>\n      <td>996</td>\n    </tr>\n    <tr>\n      <th>Audi</th>\n      <td>Multilinear Regression</td>\n      <td>-4956.97</td>\n      <td>996</td>\n    </tr>\n    <tr>\n      <th>Audi</th>\n      <td>Random Forest Regression</td>\n      <td>-0.17</td>\n      <td>996</td>\n    </tr>\n    <tr>\n      <th>Audi</th>\n      <td>Decision Tree Regression</td>\n      <td>0.74</td>\n      <td>996</td>\n    </tr>\n    <tr>\n      <th>Audi</th>\n      <td>----------------</td>\n      <td>----------</td>\n      <td>----------</td>\n    </tr>\n  </tbody>\n</table>\n</div>"
     },
     "metadata": {}
    }
   ],
   "source": [
    "display(df)"
   ]
  }
 ]
}