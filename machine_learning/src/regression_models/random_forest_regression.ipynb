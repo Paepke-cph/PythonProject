{
  "nbformat": 4,
  "nbformat_minor": 0,
  "metadata": {
    "colab": {
      "name": "random_forest_regression.ipynb",
      "provenance": [],
      "collapsed_sections": [],
      "toc_visible": true
    },
    "kernelspec": {
      "name": "python3",
      "display_name": "Python 3.8.4 32-bit",
      "metadata": {
        "interpreter": {
          "hash": "64ed89e3cd8146a57cc7f95f9b3452349ae7efb5a5cd52e9e0f7035ac3afb6a2"
        }
      }
    }
  },
  "cells": [
    {
      "cell_type": "markdown",
      "metadata": {
        "id": "LeamvpPVXuS_",
        "colab_type": "text"
      },
      "source": [
        "# Random Forest Regression\n",
        "## Good Regression for Mazda"
      ]
    },
    {
      "cell_type": "markdown",
      "metadata": {
        "id": "O2wvZ7SKXzVC",
        "colab_type": "text"
      },
      "source": [
        "## Importing the libraries"
      ]
    },
    {
      "cell_type": "code",
      "metadata": {
        "id": "PVmESEFZX4Ig",
        "colab_type": "code",
        "colab": {}
      },
      "source": [
        "import numpy as np\n",
        "import matplotlib.pyplot as plt\n",
        "import pandas as pd\n",
        "import Cleaner as cl"
      ],
      "execution_count": 60,
      "outputs": []
    },
    {
      "cell_type": "markdown",
      "metadata": {
        "id": "zgbK_F8-X7em",
        "colab_type": "text"
      },
      "source": [
        "## Importing the dataset"
      ]
    },
    {
      "cell_type": "code",
      "metadata": {
        "id": "adBE4tjQX_Bh",
        "colab_type": "code",
        "colab": {}
      },
      "source": [
        "dataset = cl.get_and_clean_df('../data/bilhandel_unclean.csv')\n",
        "\n",
        "dataset = dataset[dataset['Make'] == 'Mazda']\n",
        "\n",
        "X = dataset.iloc[:, :-1].values\n",
        "y = dataset.iloc[:, -1].values\n",
        "\n",
        "display(dataset.columns)"
      ],
      "execution_count": 61,
      "outputs": [
        {
          "output_type": "display_data",
          "data": {
            "text/plain": "Index(['Make', 'Brændstoftype', 'Gearkasse', 'Model', 'Kilometer', 'Årgang',\n       'Hestekræfter', 'Antal døre', 'Antal gear', 'Km/l', '0 - 100 km/t',\n       'Tophastighed', 'Vægt', 'Grøn Ejerafgift', 'Nypris', 'Pris'],\n      dtype='object')"
          },
          "metadata": {}
        }
      ]
    },
    {
      "cell_type": "markdown",
      "metadata": {
        "id": "ptNjcy7bOBlD",
        "colab_type": "text"
      },
      "source": [
        "## Splitting the dataset into the Training set and Test set"
      ]
    },
    {
      "cell_type": "code",
      "execution_count": 62,
      "metadata": {},
      "outputs": [
        {
          "output_type": "display_data",
          "data": {
            "text/plain": "(279, 32)"
          },
          "metadata": {}
        }
      ],
      "source": [
        "from sklearn.compose import ColumnTransformer\n",
        "from sklearn.preprocessing import OneHotEncoder\n",
        "\n",
        "ct = ColumnTransformer(transformers=[('encoder', OneHotEncoder(), [0,1,2,3])], remainder='passthrough', sparse_threshold=0)\n",
        "X = np.array(ct.fit_transform(X))\n",
        "display(X.shape)"
      ]
    },
    {
      "cell_type": "code",
      "metadata": {
        "id": "C7NdofoCOFQF",
        "colab_type": "code",
        "colab": {}
      },
      "source": [
        "from sklearn.model_selection import train_test_split\n",
        "X_train, X_test, y_train, y_test = train_test_split(X, y, test_size = 0.2, random_state = 0)"
      ],
      "execution_count": 63,
      "outputs": []
    },
    {
      "cell_type": "markdown",
      "metadata": {
        "id": "v4S2fyIBYDcu",
        "colab_type": "text"
      },
      "source": [
        "## Training the Random Forest Regression model on the whole dataset"
      ]
    },
    {
      "cell_type": "code",
      "metadata": {
        "id": "o8dOCoJ1YKMc",
        "colab_type": "code",
        "colab": {}
      },
      "source": [
        "from sklearn.ensemble import RandomForestRegressor\n",
        "regressor = RandomForestRegressor(n_estimators = 10, random_state = 0)\n",
        "regressor.fit(X_train, y_train)"
      ],
      "execution_count": 64,
      "outputs": [
        {
          "output_type": "execute_result",
          "data": {
            "text/plain": [
              "RandomForestRegressor(n_estimators=10, random_state=0)"
            ]
          },
          "metadata": {},
          "execution_count": 64
        }
      ]
    },
    {
      "cell_type": "markdown",
      "metadata": {
        "id": "DM_jh0frOPKE",
        "colab_type": "text"
      },
      "source": [
        "## Predicting the Test set results"
      ]
    },
    {
      "cell_type": "code",
      "metadata": {
        "id": "JGa9ZfM4OTNw",
        "colab_type": "code",
        "colab": {}
      },
      "source": [
        "y_pred = regressor.predict(X_test)\n",
        "np.set_printoptions(precision=2)\n",
        "print(np.concatenate((y_pred.reshape(len(y_pred),1), y_test.reshape(len(y_test),1)),1))"
      ],
      "execution_count": 65,
      "outputs": [
        {
          "output_type": "stream",
          "name": "stdout",
          "text": [
            "[[110200.   112500.  ]\n [ 77619.    79900.  ]\n [167410.   169800.  ]\n [144155.   134900.  ]\n [104850.    89900.  ]\n [173650.   139400.  ]\n [339810.   329900.  ]\n [114960.   109900.  ]\n [227645.75 333200.  ]\n [179030.   172900.  ]\n [ 68190.    81900.  ]\n [173340.   179900.  ]\n [206030.   234900.  ]\n [136200.    84800.  ]\n [235819.5  212000.  ]\n [ 59710.    32000.  ]\n [247900.   228900.  ]\n [313309.   329800.  ]\n [ 42850.    49900.  ]\n [154340.   154800.  ]\n [ 53559.    44800.  ]\n [ 48460.    32900.  ]\n [ 95390.    84900.  ]\n [369800.   369800.  ]\n [ 58150.    79900.  ]\n [253855.   244995.  ]\n [ 13800.     9500.  ]\n [132890.   119900.  ]\n [100000.    99900.  ]\n [ 77800.   120000.  ]\n [ 28740.    19900.  ]\n [162670.   149900.  ]\n [ 70520.    69800.  ]\n [ 50720.    49900.  ]\n [147600.   149900.  ]\n [188418.   199990.  ]\n [144870.   129900.  ]\n [ 34090.    30000.  ]\n [354750.   348990.  ]\n [163910.   150000.  ]\n [339869.   319800.  ]\n [163330.   199900.  ]\n [181145.   154900.  ]\n [150370.   143800.  ]\n [ 15300.     3500.  ]\n [147070.   139900.  ]\n [162830.   149995.  ]\n [ 10600.     9990.  ]\n [192900.   189900.  ]\n [ 36140.    42800.  ]\n [167879.   119700.  ]\n [162040.   159800.  ]\n [189200.   204900.  ]\n [275936.5  249900.  ]\n [222949.   239800.  ]\n [253400.   238700.  ]]\n"
          ]
        }
      ]
    },
    {
      "cell_type": "markdown",
      "metadata": {
        "id": "Cd8VZM5POWXN",
        "colab_type": "text"
      },
      "source": [
        "## Evaluating the Model Performance"
      ]
    },
    {
      "cell_type": "code",
      "metadata": {
        "id": "a7y1rXlfOZJo",
        "colab_type": "code",
        "colab": {}
      },
      "source": [
        "from sklearn.metrics import r2_score\n",
        "r2_score(y_test, y_pred)"
      ],
      "execution_count": 66,
      "outputs": [
        {
          "output_type": "execute_result",
          "data": {
            "text/plain": [
              "0.9400725373702209"
            ]
          },
          "metadata": {},
          "execution_count": 66
        }
      ]
    }
  ]
}