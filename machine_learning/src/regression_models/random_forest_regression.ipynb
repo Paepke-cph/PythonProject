{
  "nbformat": 4,
  "nbformat_minor": 0,
  "metadata": {
    "colab": {
      "name": "random_forest_regression.ipynb",
      "provenance": [],
      "collapsed_sections": [],
      "toc_visible": true
    },
    "kernelspec": {
      "name": "python3",
      "display_name": "Python 3.8.4 32-bit",
      "metadata": {
        "interpreter": {
          "hash": "64ed89e3cd8146a57cc7f95f9b3452349ae7efb5a5cd52e9e0f7035ac3afb6a2"
        }
      }
    }
  },
  "cells": [
    {
      "cell_type": "markdown",
      "metadata": {
        "id": "LeamvpPVXuS_",
        "colab_type": "text"
      },
      "source": [
        "# Random Forest Regression"
      ]
    },
    {
      "cell_type": "markdown",
      "metadata": {
        "id": "O2wvZ7SKXzVC",
        "colab_type": "text"
      },
      "source": [
        "## Importing the libraries"
      ]
    },
    {
      "cell_type": "code",
      "metadata": {
        "id": "PVmESEFZX4Ig",
        "colab_type": "code",
        "colab": {}
      },
      "source": [
        "import numpy as np\n",
        "import matplotlib.pyplot as plt\n",
        "import pandas as pd\n",
        "import Cleaner as cl"
      ],
      "execution_count": 1,
      "outputs": []
    },
    {
      "cell_type": "markdown",
      "metadata": {
        "id": "zgbK_F8-X7em",
        "colab_type": "text"
      },
      "source": [
        "## Importing the dataset"
      ]
    },
    {
      "cell_type": "code",
      "metadata": {
        "id": "adBE4tjQX_Bh",
        "colab_type": "code",
        "colab": {}
      },
      "source": [
        "dataset = cl.get_and_clean_df('../data/bilhandel_unclean.csv')\n",
        "\n",
        "X = dataset.iloc[:, :-1].values\n",
        "y = dataset.iloc[:, -1].values\n",
        "\n",
        "display(dataset.columns)"
      ],
      "execution_count": 2,
      "outputs": [
        {
          "output_type": "display_data",
          "data": {
            "text/plain": "0         Yaris\n1           C30\n2          E200\n3          Vito\n4         Viano\n         ...   \n1994       XC60\n1995        UP!\n1996    Dobbelt\n1997       L200\n1998         A3\nName: Model, Length: 1999, dtype: object"
          },
          "metadata": {}
        },
        {
          "output_type": "display_data",
          "data": {
            "text/plain": "Index(['Årgang', 'Vægt', 'Tophastighed', 'Kilometer', 'Nypris', 'Cylindre',\n       '0 - 100 km/t', 'Airbags', 'Grøn Ejerafgift', 'Lasteevne', 'Model',\n       'Gearkasse', 'Hestekræfter', 'Biltype', 'Max. påhæng', 'Make',\n       'Antal døre', 'Km/l', 'Brændstoftype', 'Antal gear', 'Pris'],\n      dtype='object')"
          },
          "metadata": {}
        }
      ]
    },
    {
      "cell_type": "markdown",
      "metadata": {
        "id": "ptNjcy7bOBlD",
        "colab_type": "text"
      },
      "source": [
        "## Splitting the dataset into the Training set and Test set"
      ]
    },
    {
      "cell_type": "code",
      "execution_count": 3,
      "metadata": {},
      "outputs": [
        {
          "output_type": "display_data",
          "data": {
            "text/plain": "(1026, 267)"
          },
          "metadata": {}
        }
      ],
      "source": [
        "from sklearn.compose import ColumnTransformer\n",
        "from sklearn.preprocessing import OneHotEncoder\n",
        "\n",
        "ct = ColumnTransformer(transformers=[('encoder', OneHotEncoder(), [10,11,13,15,18])], remainder='passthrough', sparse_threshold=0)\n",
        "X = np.array(ct.fit_transform(X))\n",
        "display(X.shape)"
      ]
    },
    {
      "cell_type": "code",
      "metadata": {
        "id": "C7NdofoCOFQF",
        "colab_type": "code",
        "colab": {}
      },
      "source": [
        "from sklearn.model_selection import train_test_split\n",
        "X_train, X_test, y_train, y_test = train_test_split(X, y, test_size = 0.2, random_state = 0)"
      ],
      "execution_count": 4,
      "outputs": []
    },
    {
      "cell_type": "markdown",
      "metadata": {
        "id": "v4S2fyIBYDcu",
        "colab_type": "text"
      },
      "source": [
        "## Training the Random Forest Regression model on the whole dataset"
      ]
    },
    {
      "cell_type": "code",
      "metadata": {
        "id": "o8dOCoJ1YKMc",
        "colab_type": "code",
        "colab": {}
      },
      "source": [
        "from sklearn.ensemble import RandomForestRegressor\n",
        "regressor = RandomForestRegressor(n_estimators = 10, random_state = 0)\n",
        "regressor.fit(X_train, y_train)"
      ],
      "execution_count": 5,
      "outputs": [
        {
          "output_type": "execute_result",
          "data": {
            "text/plain": [
              "RandomForestRegressor(n_estimators=10, random_state=0)"
            ]
          },
          "metadata": {},
          "execution_count": 5
        }
      ]
    },
    {
      "cell_type": "markdown",
      "metadata": {
        "id": "DM_jh0frOPKE",
        "colab_type": "text"
      },
      "source": [
        "## Predicting the Test set results"
      ]
    },
    {
      "cell_type": "code",
      "metadata": {
        "id": "JGa9ZfM4OTNw",
        "colab_type": "code",
        "colab": {}
      },
      "source": [
        "y_pred = regressor.predict(X_test)\n",
        "np.set_printoptions(precision=2)\n",
        "print(np.concatenate((y_pred.reshape(len(y_pred),1), y_test.reshape(len(y_test),1)),1))"
      ],
      "execution_count": 6,
      "outputs": [
        {
          "output_type": "stream",
          "name": "stdout",
          "text": [
            "[[158.72000000000003 '109.900']\n [97.24999999999999 '44.995']\n [236.04000000000002 '237.900']\n [76.90579999999999 '129.900']\n [65.74 '70.000']\n [59.05999999999999 '64.900']\n [17.6794 '3.500']\n [270.0195 '1.995']\n [278.49 '2.995']\n [33.89999999999999 '24.900']\n [43.0699 '36.900']\n [208.0045 '209.900']\n [259.19000000000005 '319.900']\n [53.45 '49.900']\n [296.35583333333335 '329.900']\n [157.41000000000003 '139.900']\n [140.81 '129.900']\n [136.60000000000002 '134.900']\n [62.85 '54.800']\n [21.1299 '24.500']\n [47.73700000000001 '248.800']\n [391.9800000000001 '389.900']\n [52.48 '74.900']\n [99.17375 '127.900']\n [222.18850000000003 '200.000']\n [371.63 '319.900']\n [259.21900000000005 '229.800']\n [38.3085 '99.500']\n [16.979799999999997 '24.900']\n [182.26800000000003 '169.900']\n [46.0999 '59.900']\n [119.99000000000001 '129.900']\n [33.89999999999999 '37.900']\n [32.160000000000004 '25.000']\n [116.24010000000001 '144.700']\n [20.809500000000003 '11.900']\n [161.39000000000004 '169.900']\n [216.8245 '214.900']\n [235.72000000000003 '269.900']\n [42.73 '59.900']\n [152.4888 '149.900']\n [247.52460000000002 '119.990']\n [56.83 '64.900']\n [79.8158 '109.900']\n [197.74563333333336 '169.900']\n [409.19000000000005 '6.448']\n [128.5624 '499.895']\n [74.67999999999999 '89.900']\n [117.36000000000001 '109.900']\n [198.13950000000003 '199.900']\n [22.440000000000005 '24.700']\n [108.7788 '79.900']\n [86.4143 '89.500']\n [15.110000000000003 '9.500']\n [43.40899999999999 '59.800']\n [409.19000000000005 '579.900']\n [188.99000000000004 '149.900']\n [101.51849999999999 '114.900']\n [39.8 '39.900']\n [165.419 '204.900']\n [83.7336 '1.638']\n [221.68983333333335 '268.900']\n [96.33999999999999 '107.800']\n [332.398 '334.000']\n [54.83 '29.800']\n [43.4616 '249.800']\n [337.30000000000007 '1.266']\n [149.82000000000002 '99.800']\n [154.88000000000002 '159.900']\n [25.618900000000004 '22.900']\n [108.37 '99.980']\n [59.889999999999986 '47.500']\n [14.300000000000002 '17.900']\n [153.53000000000003 '129.800']\n [116.57425 '134.900']\n [126.42 '179.800']\n [12.4996 '9.900']\n [56.39999999999999 '55.900']\n [48.88 '29.900']\n [326.01000000000005 '349.900']\n [84.11999999999999 '69.900']\n [112.21700000000001 '299.900']\n [224.19000000000005 '214.900']\n [166.43 '184.900']\n [189.9116 '3.407']\n [46.629999999999995 '57.900']\n [189.13000000000002 '194.900']\n [160.7359 '179.800']\n [198.91900000000004 '189.800']\n [151.40000000000003 '145.000']\n [208.06000000000003 '1.483']\n [38.3085 '99.500']\n [2.099 '114.900']\n [127.03340000000003 '2.987']\n [42.31999999999999 '44.900']\n [122.82000000000001 '119.900']\n [332.15950000000004 '349.800']\n [226.39000000000001 '199.995']\n [475.21960000000007 '519.900']\n [71.47999999999999 '56.500']\n [46.0092 '229.900']\n [196.2285 '199.800']\n [88.61999999999999 '119.900']\n [60.709999999999994 '79.900']\n [63.00600000000001 '269.900']\n [379.22 '399.900']\n [97.13 '78.900']\n [33.97550000000002 '319.900']\n [17.8789 '7.900']\n [15.150000000000002 '11.900']\n [28.9214 '2.146']\n [24.099899999999998 '14.900']\n [282.90000000000003 '284.900']\n [52.15 '59.900']\n [78.85999999999999 '78.900']\n [71.39999999999999 '59.900']\n [244.90000000000003 '319.900']\n [11.8 '17.500']\n [167.87000000000003 '169.900']\n [103.66 '119.900']\n [338.18 '354.900']\n [185.00900000000004 '264.900']\n [25.538000000000004 '39.900']\n [106.91 '89.900']\n [332.23425000000003 '350.000']\n [82.57804000000002 '93.800']\n [138.87000000000003 '114.500']\n [149.97830000000002 '194.900']\n [135.3988 '129.900']\n [14.989300000000004 '5.000']\n [63.782740000000004 '112.900']\n [122.62666666666667 '139.900']\n [87.7088 '56.700']\n [69.53 '64.900']\n [49.80999999999999 '69.900']\n [214.86400000000003 '279.200']\n [97.53999999999999 '109.900']\n [133.35500000000002 '149.800']\n [156.8144 '149.800']\n [150.1 '189.900']\n [284.62 '299.900']\n [174.79350000000005 '249.900']\n [290.7700000000001 '279.800']\n [113.35 '139.900']\n [160.7359 '179.800']\n [23.68 '20.000']\n [50.80999999999999 '48.700']\n [29.5899 '19.900']\n [39.98989999999999 '14.900']\n [24.0288 '24.900']\n [32.388999999999996 '22.500']\n [61.089999999999996 '63.700']\n [127.39000000000001 '124.000']\n [35.79 '29.800']\n [43.58999999999999 '23.800']\n [86.24999999999999 '94.900']\n [73.61 '59.900']\n [65.0 '39.900']\n [80.169 '74.900']\n [111.85999999999999 '109.000']\n [140.35000000000002 '99.900']\n [113.60499999999999 '119.900']\n [76.16999999999999 '84.900']\n [43.749 '32.900']\n [27.919999999999998 '19.900']\n [29.21200000000001 '169.800']\n [148.09 '139.500']\n [138.81 '143.900']\n [329.82000000000005 '1.995']\n [15.4899 '9.900']\n [283.90900000000005 '286.900']\n [154.18880000000001 '104.888']\n [99.32999999999998 '99.900']\n [97.05699999999999 '89.900']\n [158.54590000000002 '179.900']\n [36.559999999999995 '26.900']\n [137.33 '122.900']\n [104.1199 '119.900']\n [48.2 '39.900']\n [23.6798 '34.800']\n [323.899 '429.900']\n [205.70000000000005 '189.900']\n [62.78304000000001 '76.900']\n [242.1 '214.900']\n [127.03340000000003 '559.800']\n [32.989999999999995 '29.900']\n [37.808800000000005 '49.800']\n [80.44579999999999 '89.900']\n [114.66000000000001 '99.900']\n [291.55 '309.800']\n [222.99 '219.900']\n [37.699999999999996 '33.900']\n [115.39000000000001 '129.900']\n [221.00950000000003 '228.900']\n [308.16 '289.895']\n [210.7708 '209.800']\n [22.409000000000002 '12.500']\n [203.38950000000003 '239.900']\n [83.6699 '89.900']\n [51.05 '35.000']\n [16.550000000000004 '39.990']\n [11.88 '9.900']\n [149.40000000000003 '175.000']\n [189.50850000000003 '184.900']\n [148.19180000000003 '2.320']\n [34.248999999999995 '39.900']]\n"
          ]
        }
      ]
    },
    {
      "cell_type": "markdown",
      "metadata": {
        "id": "Cd8VZM5POWXN",
        "colab_type": "text"
      },
      "source": [
        "## Evaluating the Model Performance"
      ]
    },
    {
      "cell_type": "code",
      "metadata": {
        "id": "a7y1rXlfOZJo",
        "colab_type": "code",
        "colab": {}
      },
      "source": [
        "from sklearn.metrics import r2_score\n",
        "r2_score(y_test, y_pred)"
      ],
      "execution_count": 7,
      "outputs": [
        {
          "output_type": "execute_result",
          "data": {
            "text/plain": [
              "0.4578069101758455"
            ]
          },
          "metadata": {},
          "execution_count": 7
        }
      ]
    }
  ]
}