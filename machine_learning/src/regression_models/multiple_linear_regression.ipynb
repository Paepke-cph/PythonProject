{
  "nbformat": 4,
  "nbformat_minor": 0,
  "metadata": {
    "colab": {
      "name": "multiple_linear_regression.ipynb",
      "provenance": [],
      "collapsed_sections": [],
      "toc_visible": true
    },
    "kernelspec": {
      "name": "python3",
      "display_name": "Python 3"
    }
  },
  "cells": [
    {
      "cell_type": "markdown",
      "metadata": {
        "id": "CazISR8X_HUG",
        "colab_type": "text"
      },
      "source": [
        "# Multiple Linear Regression"
      ]
    },
    {
      "cell_type": "markdown",
      "metadata": {
        "id": "pOyqYHTk_Q57",
        "colab_type": "text"
      },
      "source": [
        "## Importing the libraries"
      ]
    },
    {
      "cell_type": "code",
      "metadata": {
        "id": "T_YHJjnD_Tja",
        "colab_type": "code",
        "colab": {}
      },
      "source": [
        "import numpy as np\n",
        "import matplotlib.pyplot as plt\n",
        "import pandas as pd"
      ],
      "execution_count": 90,
      "outputs": []
    },
    {
      "cell_type": "markdown",
      "metadata": {
        "id": "vgC61-ah_WIz",
        "colab_type": "text"
      },
      "source": [
        "## Importing the dataset"
      ]
    },
    {
      "cell_type": "code",
      "metadata": {
        "id": "UrxyEKGn_ez7",
        "colab_type": "code",
        "colab": {}
      },
      "source": [
        "dataset = pd.read_csv('bilhandel.csv')\n",
        "\n",
        "del dataset['Sidst synet']\n",
        "del dataset['Nummerplade']\n",
        "del dataset['Farve']\n",
        "del dataset['Trækhjul']\n",
        "del dataset['Tank']\n",
        "del dataset['Registreringsdato']\n",
        "del dataset['Model']\n",
        "dataset['Nypris'] = pd.to_numeric(dataset['Nypris'],errors='coerce')\n",
        "\n",
        "dataset = dataset.dropna()\n",
        "dataset['0 - 100 km/t'] = dataset['0 - 100 km/t'].str.replace(',', '.').astype(float)\n",
        "dataset['Km/l'] = dataset['Km/l'].str.replace(',', '.').astype(float)\n",
        "#dataset['Nypris'] = dataset['Nypris'].astype(float)\n",
        "#dataset.apply(lambda x: x.str.replace(',', '.').astype(float), axis=1)\n",
        "def df_column_switch(df, column1, column2):\n",
        "    i = list(df.columns)\n",
        "    a, b = i.index(column1), i.index(column2)\n",
        "    i[b], i[a] = i[a], i[b]\n",
        "    df = df[i]\n",
        "    return df\n",
        "dataset = df_column_switch(dataset, 'Pris', 'Antal gear')\n",
        "\n",
        "X = dataset.iloc[:, :-1].values\n",
        "y = dataset.iloc[:, -1].values\n",
        "display(dataset)"
      ],
      "execution_count": 91,
      "outputs": [
        {
          "output_type": "display_data",
          "data": {
            "text/plain": "      Årgang     Vægt  Tophastighed  Kilometer   Nypris  Cylindre  \\\n0       2017  955.000         155.0       72.0  144.069       3.0   \n1       2008    1.173         185.0      115.0  301.283       4.0   \n2       2011    1.745         203.0      358.0  736.801       4.0   \n4       2012    2.155         201.0      239.0  967.894       6.0   \n6       2015    1.063         180.0       98.0  151.338       3.0   \n...      ...      ...           ...        ...      ...       ...   \n1991    2010    1.065         180.0      148.0  205.696       4.0   \n1992    2009    1.510         210.0      191.0  507.550       4.0   \n1993    2016    1.707         200.0      121.0  360.477       4.0   \n1994    2017    1.779         220.0       52.0  865.013       4.0   \n1998    2018    1.325         224.0        7.0  341.011       4.0   \n\n      0 - 100 km/t  Airbags  Grøn Ejerafgift  Lasteevne   Gearkasse  \\\n0             15.3      7.0           660.00      495.0      Manuel   \n1             11.8      6.0             3.14      527.0      Manuel   \n2             11.1      6.0             6.38      675.0  Automatisk   \n4              9.1      2.0            11.48      895.0  Automatisk   \n6             11.9      6.0           660.00      602.0      Manuel   \n...            ...      ...              ...        ...         ...   \n1991          11.5      8.0             2.18      515.0      Manuel   \n1992           8.9      6.0             3.74      570.0  Automatisk   \n1993          10.4      6.0             4.68      523.0  Automatisk   \n1994           7.2      6.0             5.54      741.0  Automatisk   \n1998           8.2      6.0             1.16      460.0  Automatisk   \n\n      Hestekræfter     Biltype  Max. påhæng  Antal gear  Antal døre  Km/l  \\\n0             69.0   Hatchback        730.0         5.0         5.0  23.3   \n1            100.0   Hatchback          1.2         5.0         3.0  14.3   \n2            136.0  Stationcar          2.1         5.0         5.0  16.4   \n4            224.0         MPV          2.0         5.0         4.0  11.6   \n6             90.0   Hatchback          1.2         6.0         3.0  23.3   \n...            ...         ...          ...         ...         ...   ...   \n1991          90.0   Hatchback          1.2         5.0         5.0  27.0   \n1992         160.0  Stationcar          1.5         2.0         5.0  13.5   \n1993         180.0    Varevogn          2.1         6.0         5.0  19.2   \n1994         235.0         SUV          2.4         8.0         5.0  18.2   \n1998         150.0       Sedan          1.5         7.0         4.0  20.0   \n\n     Brændstoftype     Pris  \n0           Benzin   98.800  \n1           Benzin   64.900  \n2           Diesel   99.500  \n4           Diesel  299.800  \n6           Benzin   74.800  \n...            ...      ...  \n1991        Diesel   63.700  \n1992        Benzin   94.900  \n1993        Diesel  179.800  \n1994        Diesel    3.910  \n1998        Benzin  299.900  \n\n[1035 rows x 19 columns]",
            "text/html": "<div>\n<style scoped>\n    .dataframe tbody tr th:only-of-type {\n        vertical-align: middle;\n    }\n\n    .dataframe tbody tr th {\n        vertical-align: top;\n    }\n\n    .dataframe thead th {\n        text-align: right;\n    }\n</style>\n<table border=\"1\" class=\"dataframe\">\n  <thead>\n    <tr style=\"text-align: right;\">\n      <th></th>\n      <th>Årgang</th>\n      <th>Vægt</th>\n      <th>Tophastighed</th>\n      <th>Kilometer</th>\n      <th>Nypris</th>\n      <th>Cylindre</th>\n      <th>0 - 100 km/t</th>\n      <th>Airbags</th>\n      <th>Grøn Ejerafgift</th>\n      <th>Lasteevne</th>\n      <th>Gearkasse</th>\n      <th>Hestekræfter</th>\n      <th>Biltype</th>\n      <th>Max. påhæng</th>\n      <th>Antal gear</th>\n      <th>Antal døre</th>\n      <th>Km/l</th>\n      <th>Brændstoftype</th>\n      <th>Pris</th>\n    </tr>\n  </thead>\n  <tbody>\n    <tr>\n      <th>0</th>\n      <td>2017</td>\n      <td>955.000</td>\n      <td>155.0</td>\n      <td>72.0</td>\n      <td>144.069</td>\n      <td>3.0</td>\n      <td>15.3</td>\n      <td>7.0</td>\n      <td>660.00</td>\n      <td>495.0</td>\n      <td>Manuel</td>\n      <td>69.0</td>\n      <td>Hatchback</td>\n      <td>730.0</td>\n      <td>5.0</td>\n      <td>5.0</td>\n      <td>23.3</td>\n      <td>Benzin</td>\n      <td>98.800</td>\n    </tr>\n    <tr>\n      <th>1</th>\n      <td>2008</td>\n      <td>1.173</td>\n      <td>185.0</td>\n      <td>115.0</td>\n      <td>301.283</td>\n      <td>4.0</td>\n      <td>11.8</td>\n      <td>6.0</td>\n      <td>3.14</td>\n      <td>527.0</td>\n      <td>Manuel</td>\n      <td>100.0</td>\n      <td>Hatchback</td>\n      <td>1.2</td>\n      <td>5.0</td>\n      <td>3.0</td>\n      <td>14.3</td>\n      <td>Benzin</td>\n      <td>64.900</td>\n    </tr>\n    <tr>\n      <th>2</th>\n      <td>2011</td>\n      <td>1.745</td>\n      <td>203.0</td>\n      <td>358.0</td>\n      <td>736.801</td>\n      <td>4.0</td>\n      <td>11.1</td>\n      <td>6.0</td>\n      <td>6.38</td>\n      <td>675.0</td>\n      <td>Automatisk</td>\n      <td>136.0</td>\n      <td>Stationcar</td>\n      <td>2.1</td>\n      <td>5.0</td>\n      <td>5.0</td>\n      <td>16.4</td>\n      <td>Diesel</td>\n      <td>99.500</td>\n    </tr>\n    <tr>\n      <th>4</th>\n      <td>2012</td>\n      <td>2.155</td>\n      <td>201.0</td>\n      <td>239.0</td>\n      <td>967.894</td>\n      <td>6.0</td>\n      <td>9.1</td>\n      <td>2.0</td>\n      <td>11.48</td>\n      <td>895.0</td>\n      <td>Automatisk</td>\n      <td>224.0</td>\n      <td>MPV</td>\n      <td>2.0</td>\n      <td>5.0</td>\n      <td>4.0</td>\n      <td>11.6</td>\n      <td>Diesel</td>\n      <td>299.800</td>\n    </tr>\n    <tr>\n      <th>6</th>\n      <td>2015</td>\n      <td>1.063</td>\n      <td>180.0</td>\n      <td>98.0</td>\n      <td>151.338</td>\n      <td>3.0</td>\n      <td>11.9</td>\n      <td>6.0</td>\n      <td>660.00</td>\n      <td>602.0</td>\n      <td>Manuel</td>\n      <td>90.0</td>\n      <td>Hatchback</td>\n      <td>1.2</td>\n      <td>6.0</td>\n      <td>3.0</td>\n      <td>23.3</td>\n      <td>Benzin</td>\n      <td>74.800</td>\n    </tr>\n    <tr>\n      <th>...</th>\n      <td>...</td>\n      <td>...</td>\n      <td>...</td>\n      <td>...</td>\n      <td>...</td>\n      <td>...</td>\n      <td>...</td>\n      <td>...</td>\n      <td>...</td>\n      <td>...</td>\n      <td>...</td>\n      <td>...</td>\n      <td>...</td>\n      <td>...</td>\n      <td>...</td>\n      <td>...</td>\n      <td>...</td>\n      <td>...</td>\n      <td>...</td>\n    </tr>\n    <tr>\n      <th>1991</th>\n      <td>2010</td>\n      <td>1.065</td>\n      <td>180.0</td>\n      <td>148.0</td>\n      <td>205.696</td>\n      <td>4.0</td>\n      <td>11.5</td>\n      <td>8.0</td>\n      <td>2.18</td>\n      <td>515.0</td>\n      <td>Manuel</td>\n      <td>90.0</td>\n      <td>Hatchback</td>\n      <td>1.2</td>\n      <td>5.0</td>\n      <td>5.0</td>\n      <td>27.0</td>\n      <td>Diesel</td>\n      <td>63.700</td>\n    </tr>\n    <tr>\n      <th>1992</th>\n      <td>2009</td>\n      <td>1.510</td>\n      <td>210.0</td>\n      <td>191.0</td>\n      <td>507.550</td>\n      <td>4.0</td>\n      <td>8.9</td>\n      <td>6.0</td>\n      <td>3.74</td>\n      <td>570.0</td>\n      <td>Automatisk</td>\n      <td>160.0</td>\n      <td>Stationcar</td>\n      <td>1.5</td>\n      <td>2.0</td>\n      <td>5.0</td>\n      <td>13.5</td>\n      <td>Benzin</td>\n      <td>94.900</td>\n    </tr>\n    <tr>\n      <th>1993</th>\n      <td>2016</td>\n      <td>1.707</td>\n      <td>200.0</td>\n      <td>121.0</td>\n      <td>360.477</td>\n      <td>4.0</td>\n      <td>10.4</td>\n      <td>6.0</td>\n      <td>4.68</td>\n      <td>523.0</td>\n      <td>Automatisk</td>\n      <td>180.0</td>\n      <td>Varevogn</td>\n      <td>2.1</td>\n      <td>6.0</td>\n      <td>5.0</td>\n      <td>19.2</td>\n      <td>Diesel</td>\n      <td>179.800</td>\n    </tr>\n    <tr>\n      <th>1994</th>\n      <td>2017</td>\n      <td>1.779</td>\n      <td>220.0</td>\n      <td>52.0</td>\n      <td>865.013</td>\n      <td>4.0</td>\n      <td>7.2</td>\n      <td>6.0</td>\n      <td>5.54</td>\n      <td>741.0</td>\n      <td>Automatisk</td>\n      <td>235.0</td>\n      <td>SUV</td>\n      <td>2.4</td>\n      <td>8.0</td>\n      <td>5.0</td>\n      <td>18.2</td>\n      <td>Diesel</td>\n      <td>3.910</td>\n    </tr>\n    <tr>\n      <th>1998</th>\n      <td>2018</td>\n      <td>1.325</td>\n      <td>224.0</td>\n      <td>7.0</td>\n      <td>341.011</td>\n      <td>4.0</td>\n      <td>8.2</td>\n      <td>6.0</td>\n      <td>1.16</td>\n      <td>460.0</td>\n      <td>Automatisk</td>\n      <td>150.0</td>\n      <td>Sedan</td>\n      <td>1.5</td>\n      <td>7.0</td>\n      <td>4.0</td>\n      <td>20.0</td>\n      <td>Benzin</td>\n      <td>299.900</td>\n    </tr>\n  </tbody>\n</table>\n<p>1035 rows × 19 columns</p>\n</div>"
          },
          "metadata": {}
        }
      ]
    },
    {
      "source": [
        "## Encoding categorical data"
      ],
      "cell_type": "markdown",
      "metadata": {}
    },
    {
      "cell_type": "code",
      "execution_count": 92,
      "metadata": {},
      "outputs": [],
      "source": [
        "from sklearn.compose import ColumnTransformer\n",
        "from sklearn.preprocessing import OneHotEncoder\n",
        "ct = ColumnTransformer(transformers=[('encoder', OneHotEncoder(), [10, 12, 17])], remainder='passthrough')\n",
        "X = np.array(ct.fit_transform(X))"
      ]
    },
    {
      "cell_type": "markdown",
      "metadata": {
        "id": "WemVnqgeA70k",
        "colab_type": "text"
      },
      "source": [
        "## Splitting the dataset into the Training set and Test set"
      ]
    },
    {
      "cell_type": "code",
      "metadata": {
        "id": "Kb_v_ae-A-20",
        "colab_type": "code",
        "colab": {}
      },
      "source": [
        "from sklearn.model_selection import train_test_split\n",
        "X_train, X_test, y_train, y_test = train_test_split(X, y, test_size = 0.2, random_state = 0)"
      ],
      "execution_count": 93,
      "outputs": []
    },
    {
      "cell_type": "markdown",
      "metadata": {
        "id": "k-McZVsQBINc",
        "colab_type": "text"
      },
      "source": [
        "## Training the Multiple Linear Regression model on the Training set"
      ]
    },
    {
      "cell_type": "code",
      "metadata": {
        "id": "ywPjx0L1BMiD",
        "colab_type": "code",
        "colab": {}
      },
      "source": [
        "from sklearn.linear_model import LinearRegression\n",
        "regressor = LinearRegression()\n",
        "regressor.fit(X_train, y_train)"
      ],
      "execution_count": 94,
      "outputs": [
        {
          "output_type": "error",
          "ename": "ValueError",
          "evalue": "could not convert string to float: 'Ring'",
          "traceback": [
            "\u001b[0;31m---------------------------------------------------------------------------\u001b[0m",
            "\u001b[0;31mValueError\u001b[0m                                Traceback (most recent call last)",
            "\u001b[0;32m<ipython-input-94-19f7ef69ea28>\u001b[0m in \u001b[0;36m<module>\u001b[0;34m\u001b[0m\n\u001b[1;32m      1\u001b[0m \u001b[0;32mfrom\u001b[0m \u001b[0msklearn\u001b[0m\u001b[0;34m.\u001b[0m\u001b[0mlinear_model\u001b[0m \u001b[0;32mimport\u001b[0m \u001b[0mLinearRegression\u001b[0m\u001b[0;34m\u001b[0m\u001b[0;34m\u001b[0m\u001b[0m\n\u001b[1;32m      2\u001b[0m \u001b[0mregressor\u001b[0m \u001b[0;34m=\u001b[0m \u001b[0mLinearRegression\u001b[0m\u001b[0;34m(\u001b[0m\u001b[0;34m)\u001b[0m\u001b[0;34m\u001b[0m\u001b[0;34m\u001b[0m\u001b[0m\n\u001b[0;32m----> 3\u001b[0;31m \u001b[0mregressor\u001b[0m\u001b[0;34m.\u001b[0m\u001b[0mfit\u001b[0m\u001b[0;34m(\u001b[0m\u001b[0mX_train\u001b[0m\u001b[0;34m,\u001b[0m \u001b[0my_train\u001b[0m\u001b[0;34m)\u001b[0m\u001b[0;34m\u001b[0m\u001b[0;34m\u001b[0m\u001b[0m\n\u001b[0m",
            "\u001b[0;32m/opt/conda/lib/python3.8/site-packages/sklearn/linear_model/_base.py\u001b[0m in \u001b[0;36mfit\u001b[0;34m(self, X, y, sample_weight)\u001b[0m\n\u001b[1;32m    503\u001b[0m \u001b[0;34m\u001b[0m\u001b[0m\n\u001b[1;32m    504\u001b[0m         \u001b[0mn_jobs_\u001b[0m \u001b[0;34m=\u001b[0m \u001b[0mself\u001b[0m\u001b[0;34m.\u001b[0m\u001b[0mn_jobs\u001b[0m\u001b[0;34m\u001b[0m\u001b[0;34m\u001b[0m\u001b[0m\n\u001b[0;32m--> 505\u001b[0;31m         X, y = self._validate_data(X, y, accept_sparse=['csr', 'csc', 'coo'],\n\u001b[0m\u001b[1;32m    506\u001b[0m                                    y_numeric=True, multi_output=True)\n\u001b[1;32m    507\u001b[0m \u001b[0;34m\u001b[0m\u001b[0m\n",
            "\u001b[0;32m/opt/conda/lib/python3.8/site-packages/sklearn/base.py\u001b[0m in \u001b[0;36m_validate_data\u001b[0;34m(self, X, y, reset, validate_separately, **check_params)\u001b[0m\n\u001b[1;32m    430\u001b[0m                 \u001b[0my\u001b[0m \u001b[0;34m=\u001b[0m \u001b[0mcheck_array\u001b[0m\u001b[0;34m(\u001b[0m\u001b[0my\u001b[0m\u001b[0;34m,\u001b[0m \u001b[0;34m**\u001b[0m\u001b[0mcheck_y_params\u001b[0m\u001b[0;34m)\u001b[0m\u001b[0;34m\u001b[0m\u001b[0;34m\u001b[0m\u001b[0m\n\u001b[1;32m    431\u001b[0m             \u001b[0;32melse\u001b[0m\u001b[0;34m:\u001b[0m\u001b[0;34m\u001b[0m\u001b[0;34m\u001b[0m\u001b[0m\n\u001b[0;32m--> 432\u001b[0;31m                 \u001b[0mX\u001b[0m\u001b[0;34m,\u001b[0m \u001b[0my\u001b[0m \u001b[0;34m=\u001b[0m \u001b[0mcheck_X_y\u001b[0m\u001b[0;34m(\u001b[0m\u001b[0mX\u001b[0m\u001b[0;34m,\u001b[0m \u001b[0my\u001b[0m\u001b[0;34m,\u001b[0m \u001b[0;34m**\u001b[0m\u001b[0mcheck_params\u001b[0m\u001b[0;34m)\u001b[0m\u001b[0;34m\u001b[0m\u001b[0;34m\u001b[0m\u001b[0m\n\u001b[0m\u001b[1;32m    433\u001b[0m             \u001b[0mout\u001b[0m \u001b[0;34m=\u001b[0m \u001b[0mX\u001b[0m\u001b[0;34m,\u001b[0m \u001b[0my\u001b[0m\u001b[0;34m\u001b[0m\u001b[0;34m\u001b[0m\u001b[0m\n\u001b[1;32m    434\u001b[0m \u001b[0;34m\u001b[0m\u001b[0m\n",
            "\u001b[0;32m/opt/conda/lib/python3.8/site-packages/sklearn/utils/validation.py\u001b[0m in \u001b[0;36minner_f\u001b[0;34m(*args, **kwargs)\u001b[0m\n\u001b[1;32m     70\u001b[0m                           FutureWarning)\n\u001b[1;32m     71\u001b[0m         \u001b[0mkwargs\u001b[0m\u001b[0;34m.\u001b[0m\u001b[0mupdate\u001b[0m\u001b[0;34m(\u001b[0m\u001b[0;34m{\u001b[0m\u001b[0mk\u001b[0m\u001b[0;34m:\u001b[0m \u001b[0marg\u001b[0m \u001b[0;32mfor\u001b[0m \u001b[0mk\u001b[0m\u001b[0;34m,\u001b[0m \u001b[0marg\u001b[0m \u001b[0;32min\u001b[0m \u001b[0mzip\u001b[0m\u001b[0;34m(\u001b[0m\u001b[0msig\u001b[0m\u001b[0;34m.\u001b[0m\u001b[0mparameters\u001b[0m\u001b[0;34m,\u001b[0m \u001b[0margs\u001b[0m\u001b[0;34m)\u001b[0m\u001b[0;34m}\u001b[0m\u001b[0;34m)\u001b[0m\u001b[0;34m\u001b[0m\u001b[0;34m\u001b[0m\u001b[0m\n\u001b[0;32m---> 72\u001b[0;31m         \u001b[0;32mreturn\u001b[0m \u001b[0mf\u001b[0m\u001b[0;34m(\u001b[0m\u001b[0;34m**\u001b[0m\u001b[0mkwargs\u001b[0m\u001b[0;34m)\u001b[0m\u001b[0;34m\u001b[0m\u001b[0;34m\u001b[0m\u001b[0m\n\u001b[0m\u001b[1;32m     73\u001b[0m     \u001b[0;32mreturn\u001b[0m \u001b[0minner_f\u001b[0m\u001b[0;34m\u001b[0m\u001b[0;34m\u001b[0m\u001b[0m\n\u001b[1;32m     74\u001b[0m \u001b[0;34m\u001b[0m\u001b[0m\n",
            "\u001b[0;32m/opt/conda/lib/python3.8/site-packages/sklearn/utils/validation.py\u001b[0m in \u001b[0;36mcheck_X_y\u001b[0;34m(X, y, accept_sparse, accept_large_sparse, dtype, order, copy, force_all_finite, ensure_2d, allow_nd, multi_output, ensure_min_samples, ensure_min_features, y_numeric, estimator)\u001b[0m\n\u001b[1;32m    808\u001b[0m         \u001b[0m_assert_all_finite\u001b[0m\u001b[0;34m(\u001b[0m\u001b[0my\u001b[0m\u001b[0;34m)\u001b[0m\u001b[0;34m\u001b[0m\u001b[0;34m\u001b[0m\u001b[0m\n\u001b[1;32m    809\u001b[0m     \u001b[0;32mif\u001b[0m \u001b[0my_numeric\u001b[0m \u001b[0;32mand\u001b[0m \u001b[0my\u001b[0m\u001b[0;34m.\u001b[0m\u001b[0mdtype\u001b[0m\u001b[0;34m.\u001b[0m\u001b[0mkind\u001b[0m \u001b[0;34m==\u001b[0m \u001b[0;34m'O'\u001b[0m\u001b[0;34m:\u001b[0m\u001b[0;34m\u001b[0m\u001b[0;34m\u001b[0m\u001b[0m\n\u001b[0;32m--> 810\u001b[0;31m         \u001b[0my\u001b[0m \u001b[0;34m=\u001b[0m \u001b[0my\u001b[0m\u001b[0;34m.\u001b[0m\u001b[0mastype\u001b[0m\u001b[0;34m(\u001b[0m\u001b[0mnp\u001b[0m\u001b[0;34m.\u001b[0m\u001b[0mfloat64\u001b[0m\u001b[0;34m)\u001b[0m\u001b[0;34m\u001b[0m\u001b[0;34m\u001b[0m\u001b[0m\n\u001b[0m\u001b[1;32m    811\u001b[0m \u001b[0;34m\u001b[0m\u001b[0m\n\u001b[1;32m    812\u001b[0m     \u001b[0mcheck_consistent_length\u001b[0m\u001b[0;34m(\u001b[0m\u001b[0mX\u001b[0m\u001b[0;34m,\u001b[0m \u001b[0my\u001b[0m\u001b[0;34m)\u001b[0m\u001b[0;34m\u001b[0m\u001b[0;34m\u001b[0m\u001b[0m\n",
            "\u001b[0;31mValueError\u001b[0m: could not convert string to float: 'Ring'"
          ]
        }
      ]
    },
    {
      "cell_type": "markdown",
      "metadata": {
        "id": "xNkXL1YQBiBT",
        "colab_type": "text"
      },
      "source": [
        "## Predicting the Test set results"
      ]
    },
    {
      "cell_type": "code",
      "metadata": {
        "id": "TQKmwvtdBkyb",
        "colab_type": "code",
        "colab": {}
      },
      "source": [
        "y_pred = regressor.predict(X_test)\n",
        "np.set_printoptions(precision=2)\n",
        "print(np.concatenate((y_pred.reshape(len(y_pred),1), y_test.reshape(len(y_test),1)),1))"
      ],
      "execution_count": 0,
      "outputs": []
    },
    {
      "cell_type": "markdown",
      "metadata": {
        "id": "50DZZy0UyhLi",
        "colab_type": "text"
      },
      "source": [
        "## Evaluating the Model Performance"
      ]
    },
    {
      "cell_type": "code",
      "metadata": {
        "id": "xPagAOKDywV4",
        "colab_type": "code",
        "colab": {}
      },
      "source": [
        "from sklearn.metrics import r2_score\n",
        "r2_score(y_test, y_pred)"
      ],
      "execution_count": 0,
      "outputs": []
    }
  ]
}