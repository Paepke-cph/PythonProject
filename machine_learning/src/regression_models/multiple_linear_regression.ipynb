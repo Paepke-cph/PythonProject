{
  "nbformat": 4,
  "nbformat_minor": 0,
  "metadata": {
    "colab": {
      "name": "multiple_linear_regression.ipynb",
      "provenance": [],
      "collapsed_sections": [],
      "toc_visible": true
    },
    "kernelspec": {
      "name": "python3",
      "display_name": "Python 3.8.4 32-bit",
      "metadata": {
        "interpreter": {
          "hash": "64ed89e3cd8146a57cc7f95f9b3452349ae7efb5a5cd52e9e0f7035ac3afb6a2"
        }
      }
    }
  },
  "cells": [
    {
      "cell_type": "markdown",
      "metadata": {
        "id": "CazISR8X_HUG",
        "colab_type": "text"
      },
      "source": [
        "# Multiple Linear Regression"
      ]
    },
    {
      "source": [
        "# Import libraries"
      ],
      "cell_type": "markdown",
      "metadata": {}
    },
    {
      "cell_type": "code",
      "metadata": {
        "id": "T_YHJjnD_Tja",
        "colab_type": "code",
        "colab": {}
      },
      "source": [
        "import numpy as np\n",
        "import matplotlib.pyplot as plt\n",
        "import pandas as pd\n",
        "import Cleaner as cl"
      ],
      "execution_count": 1,
      "outputs": []
    },
    {
      "cell_type": "markdown",
      "metadata": {
        "id": "vgC61-ah_WIz",
        "colab_type": "text"
      },
      "source": [
        "## Importing the dataset"
      ]
    },
    {
      "cell_type": "code",
      "metadata": {
        "id": "UrxyEKGn_ez7",
        "colab_type": "code",
        "colab": {}
      },
      "source": [
        "dataset = cl.get_and_clean_df('../data/bilhandel_unclean.csv')\n",
        "\n",
        "dataset = dataset[dataset['Make'] == 'Opel']\n",
        "\n",
        "X = dataset.iloc[:, :-1].values\n",
        "y = dataset.iloc[:, -1].values\n",
        "display(dataset)"
      ],
      "execution_count": 2,
      "outputs": [
        {
          "output_type": "display_data",
          "data": {
            "text/plain": "       Make Brændstoftype   Gearkasse     Model  Kilometer  Årgang  \\\n4      Opel        Benzin      Manuel  Insignia     129000    2012   \n24     Opel        Benzin      Manuel  Insignia     129000    2012   \n42     Opel        Benzin  Automatisk  Insignia      45000    2018   \n167    Opel        Benzin      Manuel     Corsa     219000    2008   \n176    Opel        Benzin      Manuel     Astra      37000    2017   \n...     ...           ...         ...       ...        ...     ...   \n19571  Opel        Benzin      Manuel     Corsa       6000    2019   \n19741  Opel        Diesel      Manuel    Zafira     148000    2007   \n19749  Opel        Diesel      Manuel     Astra     281000    2005   \n19781  Opel        Diesel      Manuel  Insignia     135000    2014   \n19835  Opel        Diesel      Manuel     Corsa     225000    2010   \n\n      Hestekræfter Antal døre Antal gear  Km/l  0 - 100 km/t  Tophastighed  \\\n4              140          5          6  12.8          12.2         202.0   \n24             140          5          6  12.8          12.2         202.0   \n42             165          5          6  16.4           9.4         218.0   \n167             60          3          5  17.9          18.2         150.0   \n176            105          5          5  23.3          11.7         195.0   \n...            ...        ...        ...   ...           ...           ...   \n19571           90          5          5  19.6          13.2         175.0   \n19741          150          5          6   8.2          10.6         200.0   \n19749           80          5          5  21.3          15.0         168.0   \n19781          120          5          6  25.6          12.4         190.0   \n19835          130          5          6  21.7           9.9         200.0   \n\n        Vægt  Grøn Ejerafgift    Nypris    Pris  \n4      1.538             4.36  346175.0   89900  \n24     1.538             4.36  346175.0   89900  \n42     1.372             3.02  350001.0  239800  \n167    1.100             1.88  135950.0    9900  \n176    1.288           660.00  232000.0  154900  \n...      ...              ...       ...     ...  \n19571  1.199             1.78  141009.0  124900  \n19741  1.550             6.35  221750.0   19900  \n19749  1.175             4.88  215837.0   13900  \n19781  1.633             2.18  428901.0  134700  \n19835  1.320             3.88  227250.0   18500  \n\n[514 rows x 16 columns]",
            "text/html": "<div>\n<style scoped>\n    .dataframe tbody tr th:only-of-type {\n        vertical-align: middle;\n    }\n\n    .dataframe tbody tr th {\n        vertical-align: top;\n    }\n\n    .dataframe thead th {\n        text-align: right;\n    }\n</style>\n<table border=\"1\" class=\"dataframe\">\n  <thead>\n    <tr style=\"text-align: right;\">\n      <th></th>\n      <th>Make</th>\n      <th>Brændstoftype</th>\n      <th>Gearkasse</th>\n      <th>Model</th>\n      <th>Kilometer</th>\n      <th>Årgang</th>\n      <th>Hestekræfter</th>\n      <th>Antal døre</th>\n      <th>Antal gear</th>\n      <th>Km/l</th>\n      <th>0 - 100 km/t</th>\n      <th>Tophastighed</th>\n      <th>Vægt</th>\n      <th>Grøn Ejerafgift</th>\n      <th>Nypris</th>\n      <th>Pris</th>\n    </tr>\n  </thead>\n  <tbody>\n    <tr>\n      <th>4</th>\n      <td>Opel</td>\n      <td>Benzin</td>\n      <td>Manuel</td>\n      <td>Insignia</td>\n      <td>129000</td>\n      <td>2012</td>\n      <td>140</td>\n      <td>5</td>\n      <td>6</td>\n      <td>12.8</td>\n      <td>12.2</td>\n      <td>202.0</td>\n      <td>1.538</td>\n      <td>4.36</td>\n      <td>346175.0</td>\n      <td>89900</td>\n    </tr>\n    <tr>\n      <th>24</th>\n      <td>Opel</td>\n      <td>Benzin</td>\n      <td>Manuel</td>\n      <td>Insignia</td>\n      <td>129000</td>\n      <td>2012</td>\n      <td>140</td>\n      <td>5</td>\n      <td>6</td>\n      <td>12.8</td>\n      <td>12.2</td>\n      <td>202.0</td>\n      <td>1.538</td>\n      <td>4.36</td>\n      <td>346175.0</td>\n      <td>89900</td>\n    </tr>\n    <tr>\n      <th>42</th>\n      <td>Opel</td>\n      <td>Benzin</td>\n      <td>Automatisk</td>\n      <td>Insignia</td>\n      <td>45000</td>\n      <td>2018</td>\n      <td>165</td>\n      <td>5</td>\n      <td>6</td>\n      <td>16.4</td>\n      <td>9.4</td>\n      <td>218.0</td>\n      <td>1.372</td>\n      <td>3.02</td>\n      <td>350001.0</td>\n      <td>239800</td>\n    </tr>\n    <tr>\n      <th>167</th>\n      <td>Opel</td>\n      <td>Benzin</td>\n      <td>Manuel</td>\n      <td>Corsa</td>\n      <td>219000</td>\n      <td>2008</td>\n      <td>60</td>\n      <td>3</td>\n      <td>5</td>\n      <td>17.9</td>\n      <td>18.2</td>\n      <td>150.0</td>\n      <td>1.100</td>\n      <td>1.88</td>\n      <td>135950.0</td>\n      <td>9900</td>\n    </tr>\n    <tr>\n      <th>176</th>\n      <td>Opel</td>\n      <td>Benzin</td>\n      <td>Manuel</td>\n      <td>Astra</td>\n      <td>37000</td>\n      <td>2017</td>\n      <td>105</td>\n      <td>5</td>\n      <td>5</td>\n      <td>23.3</td>\n      <td>11.7</td>\n      <td>195.0</td>\n      <td>1.288</td>\n      <td>660.00</td>\n      <td>232000.0</td>\n      <td>154900</td>\n    </tr>\n    <tr>\n      <th>...</th>\n      <td>...</td>\n      <td>...</td>\n      <td>...</td>\n      <td>...</td>\n      <td>...</td>\n      <td>...</td>\n      <td>...</td>\n      <td>...</td>\n      <td>...</td>\n      <td>...</td>\n      <td>...</td>\n      <td>...</td>\n      <td>...</td>\n      <td>...</td>\n      <td>...</td>\n      <td>...</td>\n    </tr>\n    <tr>\n      <th>19571</th>\n      <td>Opel</td>\n      <td>Benzin</td>\n      <td>Manuel</td>\n      <td>Corsa</td>\n      <td>6000</td>\n      <td>2019</td>\n      <td>90</td>\n      <td>5</td>\n      <td>5</td>\n      <td>19.6</td>\n      <td>13.2</td>\n      <td>175.0</td>\n      <td>1.199</td>\n      <td>1.78</td>\n      <td>141009.0</td>\n      <td>124900</td>\n    </tr>\n    <tr>\n      <th>19741</th>\n      <td>Opel</td>\n      <td>Diesel</td>\n      <td>Manuel</td>\n      <td>Zafira</td>\n      <td>148000</td>\n      <td>2007</td>\n      <td>150</td>\n      <td>5</td>\n      <td>6</td>\n      <td>8.2</td>\n      <td>10.6</td>\n      <td>200.0</td>\n      <td>1.550</td>\n      <td>6.35</td>\n      <td>221750.0</td>\n      <td>19900</td>\n    </tr>\n    <tr>\n      <th>19749</th>\n      <td>Opel</td>\n      <td>Diesel</td>\n      <td>Manuel</td>\n      <td>Astra</td>\n      <td>281000</td>\n      <td>2005</td>\n      <td>80</td>\n      <td>5</td>\n      <td>5</td>\n      <td>21.3</td>\n      <td>15.0</td>\n      <td>168.0</td>\n      <td>1.175</td>\n      <td>4.88</td>\n      <td>215837.0</td>\n      <td>13900</td>\n    </tr>\n    <tr>\n      <th>19781</th>\n      <td>Opel</td>\n      <td>Diesel</td>\n      <td>Manuel</td>\n      <td>Insignia</td>\n      <td>135000</td>\n      <td>2014</td>\n      <td>120</td>\n      <td>5</td>\n      <td>6</td>\n      <td>25.6</td>\n      <td>12.4</td>\n      <td>190.0</td>\n      <td>1.633</td>\n      <td>2.18</td>\n      <td>428901.0</td>\n      <td>134700</td>\n    </tr>\n    <tr>\n      <th>19835</th>\n      <td>Opel</td>\n      <td>Diesel</td>\n      <td>Manuel</td>\n      <td>Corsa</td>\n      <td>225000</td>\n      <td>2010</td>\n      <td>130</td>\n      <td>5</td>\n      <td>6</td>\n      <td>21.7</td>\n      <td>9.9</td>\n      <td>200.0</td>\n      <td>1.320</td>\n      <td>3.88</td>\n      <td>227250.0</td>\n      <td>18500</td>\n    </tr>\n  </tbody>\n</table>\n<p>514 rows × 16 columns</p>\n</div>"
          },
          "metadata": {}
        }
      ]
    },
    {
      "source": [
        "## Encoding categorical data"
      ],
      "cell_type": "markdown",
      "metadata": {}
    },
    {
      "cell_type": "code",
      "execution_count": 3,
      "metadata": {},
      "outputs": [],
      "source": [
        "from sklearn.compose import ColumnTransformer\n",
        "\n",
        "from sklearn import preprocessing\n",
        "le = preprocessing.LabelEncoder()\n",
        "X[:, 0] = le.fit_transform(X[:,0])\n",
        "X[:, 1] = le.fit_transform(X[:,1])\n",
        "X[:, 2] = le.fit_transform(X[:,2])\n",
        "X[:, 3] = le.fit_transform(X[:,3])"
      ]
    },
    {
      "cell_type": "markdown",
      "metadata": {
        "id": "WemVnqgeA70k",
        "colab_type": "text"
      },
      "source": [
        "## Splitting the dataset into the Training set and Test set"
      ]
    },
    {
      "cell_type": "code",
      "metadata": {
        "id": "Kb_v_ae-A-20",
        "colab_type": "code",
        "colab": {}
      },
      "source": [
        "from sklearn.model_selection import train_test_split\n",
        "X_train, X_test, y_train, y_test = train_test_split(X, y, test_size = 0.2, random_state = 0)"
      ],
      "execution_count": 4,
      "outputs": []
    },
    {
      "cell_type": "markdown",
      "metadata": {
        "id": "k-McZVsQBINc",
        "colab_type": "text"
      },
      "source": [
        "## Training the Multiple Linear Regression model on the Training set"
      ]
    },
    {
      "cell_type": "code",
      "metadata": {
        "id": "ywPjx0L1BMiD",
        "colab_type": "code",
        "colab": {}
      },
      "source": [
        "from sklearn.linear_model import LinearRegression\n",
        "regressor = LinearRegression()\n",
        "regressor.fit(X_train, y_train)"
      ],
      "execution_count": 5,
      "outputs": [
        {
          "output_type": "execute_result",
          "data": {
            "text/plain": [
              "LinearRegression()"
            ]
          },
          "metadata": {},
          "execution_count": 5
        }
      ]
    },
    {
      "cell_type": "markdown",
      "metadata": {
        "id": "xNkXL1YQBiBT",
        "colab_type": "text"
      },
      "source": [
        "## Predicting the Test set results"
      ]
    },
    {
      "cell_type": "code",
      "metadata": {
        "id": "TQKmwvtdBkyb",
        "colab_type": "code",
        "colab": {}
      },
      "source": [
        "y_pred = regressor.predict(X_test)\n",
        "np.set_printoptions(precision=2)\n",
        "print(np.concatenate((y_pred.reshape(len(y_pred),1), y_test.reshape(len(y_test),1)),1))"
      ],
      "execution_count": 6,
      "outputs": [
        {
          "output_type": "stream",
          "name": "stdout",
          "text": [
            "[[171971.75 172700.  ]\n [ 48184.95  28995.  ]\n [195387.11 199680.  ]\n [172292.11 179900.  ]\n [ -2964.69  17500.  ]\n [158793.34 170000.  ]\n [150926.43  99900.  ]\n [ 78334.52   1168.  ]\n [ 44537.64  49900.  ]\n [154302.94 129900.  ]\n [168796.63 159700.  ]\n [ 59101.64  42900.  ]\n [141437.11 149700.  ]\n [117769.74  89900.  ]\n [ 67037.53  44900.  ]\n [ 84388.25  70000.  ]\n [171633.94 174700.  ]\n [ 58529.73  36000.  ]\n [143751.68 147800.  ]\n [ 46849.16  29900.  ]\n [116996.63 124900.  ]\n [ 85023.42  62900.  ]\n [104959.94 109800.  ]\n [194635.35 249900.  ]\n [ 37683.31  29900.  ]\n [ 61656.15  49800.  ]\n [148854.47 124895.  ]\n [ -2242.74  19900.  ]\n [ 51920.3   34900.  ]\n [171780.96 164800.  ]\n [187262.69 167900.  ]\n [176607.44 177500.  ]\n [ 74759.22  49900.  ]\n [ 56895.8   29900.  ]\n [106835.95  74900.  ]\n [152206.74 192000.  ]\n [156980.14 209900.  ]\n [114248.91  85000.  ]\n [ 53491.2   54900.  ]\n [ 73599.28  56990.  ]\n [  3734.85  24900.  ]\n [195470.08 229900.  ]\n [156571.56 164995.  ]\n [125115.5   99800.  ]\n [ 95240.06  69900.  ]\n [163124.15 179900.  ]\n [129585.03  64900.  ]\n [121650.6  109880.  ]\n [ 50720.58  59800.  ]\n [106946.57  89900.  ]\n [139746.06 119895.  ]\n [168642.52 169900.  ]\n [183986.79 164800.  ]\n [160361.56 164800.  ]\n [ 36047.37  29700.  ]\n [168796.63 159700.  ]\n [ 75804.98  66900.  ]\n [169669.19 119900.  ]\n [111908.14  99900.  ]\n [ 62119.73  39800.  ]\n [114690.13  99900.  ]\n [120183.6  123900.  ]\n [ 19805.19  17500.  ]\n [131265.15 149900.  ]\n [139075.05 144900.  ]\n [131548.47  99000.  ]\n [188059.94 204900.  ]\n [153011.01 159800.  ]\n [ -5219.38   6900.  ]\n [153850.79 127900.  ]\n [ -6856.55  13900.  ]\n [ 38928.37  44900.  ]\n [154971.4  209500.  ]\n [140380.34 144900.  ]\n [ 10619.29  19900.  ]\n [142798.04  99800.  ]\n [120991.39 114900.  ]\n [172263.57 199900.  ]\n [152808.28 154900.  ]\n [142674.57 154900.  ]\n [146794.49   1795.  ]\n [177655.21 197500.  ]\n [-51798.44  13900.  ]\n [180532.24 214900.  ]\n [197348.6  209900.  ]\n [ 84558.19  47900.  ]\n [-18464.98  14900.  ]\n [175110.41 179900.  ]\n [-10877.96  14999.  ]\n [111957.36  94900.  ]\n [151991.62 159500.  ]\n [ 57690.44  54900.  ]\n [ 68815.57  66990.  ]\n [134414.58 116900.  ]\n [ 82804.75  88800.  ]\n [193806.22 219700.  ]\n [174101.12 174900.  ]\n [ 79472.56   1370.  ]\n [146794.49 124900.  ]\n [140209.52 119500.  ]\n [125914.82  94900.  ]\n [179301.92 169800.  ]\n [ 17107.65  28900.  ]]\n"
          ]
        }
      ]
    },
    {
      "cell_type": "markdown",
      "metadata": {
        "id": "50DZZy0UyhLi",
        "colab_type": "text"
      },
      "source": [
        "## Evaluating the Model Performance"
      ]
    },
    {
      "cell_type": "code",
      "metadata": {
        "id": "xPagAOKDywV4",
        "colab_type": "code",
        "colab": {}
      },
      "source": [
        "from sklearn.metrics import r2_score\n",
        "r2_score(y_test, y_pred)"
      ],
      "execution_count": 7,
      "outputs": [
        {
          "output_type": "execute_result",
          "data": {
            "text/plain": [
              "0.800557819292326"
            ]
          },
          "metadata": {},
          "execution_count": 7
        }
      ]
    }
  ]
}