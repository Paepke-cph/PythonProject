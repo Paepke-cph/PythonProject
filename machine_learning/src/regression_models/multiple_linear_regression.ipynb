{
  "nbformat": 4,
  "nbformat_minor": 0,
  "metadata": {
    "colab": {
      "name": "multiple_linear_regression.ipynb",
      "provenance": [],
      "collapsed_sections": [],
      "toc_visible": true
    },
    "kernelspec": {
      "name": "python3",
      "display_name": "Python 3.8.4 32-bit",
      "metadata": {
        "interpreter": {
          "hash": "64ed89e3cd8146a57cc7f95f9b3452349ae7efb5a5cd52e9e0f7035ac3afb6a2"
        }
      }
    }
  },
  "cells": [
    {
      "cell_type": "markdown",
      "metadata": {
        "id": "CazISR8X_HUG",
        "colab_type": "text"
      },
      "source": [
        "# Multiple Linear Regression"
      ]
    },
    {
      "source": [
        "# Import libraries"
      ],
      "cell_type": "markdown",
      "metadata": {}
    },
    {
      "cell_type": "code",
      "metadata": {
        "id": "T_YHJjnD_Tja",
        "colab_type": "code",
        "colab": {}
      },
      "source": [
        "import numpy as np\n",
        "import matplotlib.pyplot as plt\n",
        "import pandas as pd\n",
        "import Cleaner as cl"
      ],
      "execution_count": 15,
      "outputs": []
    },
    {
      "cell_type": "markdown",
      "metadata": {
        "id": "vgC61-ah_WIz",
        "colab_type": "text"
      },
      "source": [
        "## Importing the dataset"
      ]
    },
    {
      "cell_type": "code",
      "metadata": {
        "id": "UrxyEKGn_ez7",
        "colab_type": "code",
        "colab": {}
      },
      "source": [
        "dataset = cl.get_and_clean_df('../data/bilhandel_unclean.csv')\n",
        "\n",
        "dataset = dataset[dataset['Make'] == 'Mazda']\n",
        "\n",
        "X = dataset.iloc[:, :-1].values\n",
        "y = dataset.iloc[:, -1].values\n",
        "display(dataset)"
      ],
      "execution_count": 16,
      "outputs": [
        {
          "output_type": "display_data",
          "data": {
            "text/plain": "        Make Brændstoftype   Gearkasse Model  Kilometer  Årgang Hestekræfter  \\\n197    Mazda        Benzin  Automatisk  CX-3      85000    2016          120   \n280    Mazda        Benzin      Manuel     3     339000    2009          105   \n297    Mazda        Benzin      Manuel     3      37000    2014          165   \n334    Mazda        Benzin  Automatisk  CX-5       9000    2020          165   \n381    Mazda        Benzin      Manuel     5     140000    2010          146   \n...      ...           ...         ...   ...        ...     ...          ...   \n19595  Mazda        Benzin  Automatisk     2      28000    2015           90   \n19682  Mazda        Benzin      Manuel     3     116000    2013          165   \n19841  Mazda        Benzin      Manuel     3     145000    2011          105   \n19861  Mazda        Benzin      Manuel     6      78000    2002          141   \n19935  Mazda        Benzin      Manuel     2     133000    2010           86   \n\n      Antal døre Antal gear  Km/l  0 - 100 km/t  Tophastighed     Vægt  \\\n197            5          6  17.2           9.9         187.0    1.198   \n280            5          5  15.9          12.2         184.0    1.155   \n297            5          6  17.2           8.2         210.0    1.295   \n334            5          6  16.7           9.8         192.0    1.484   \n381            5          6  12.7          10.2         194.0    1.485   \n...          ...        ...   ...           ...           ...      ...   \n19595          5          6  20.8          12.0         177.0  975.000   \n19682          5          6  17.2           8.2         210.0    1.295   \n19841          4          5  15.4          12.2         184.0    1.155   \n19861          5          5  11.8           9.9         206.0    1.300   \n19935          5          5  19.2          12.9         172.0  930.000   \n\n       Grøn Ejerafgift    Nypris    Pris  \n197               1.88  290998.0  179500  \n280               2.52  218049.0   24900  \n297               1.88  266997.0  149700  \n334               2.38  435918.0  399700  \n381               4.36  312990.0   79900  \n...                ...       ...     ...  \n19595           660.00  175620.0  149900  \n19682             1.88  293392.0  125000  \n19841             2.52  224999.0   59900  \n19861             4.96  281989.0   29900  \n19935             1.28  149992.0   52800  \n\n[279 rows x 16 columns]",
            "text/html": "<div>\n<style scoped>\n    .dataframe tbody tr th:only-of-type {\n        vertical-align: middle;\n    }\n\n    .dataframe tbody tr th {\n        vertical-align: top;\n    }\n\n    .dataframe thead th {\n        text-align: right;\n    }\n</style>\n<table border=\"1\" class=\"dataframe\">\n  <thead>\n    <tr style=\"text-align: right;\">\n      <th></th>\n      <th>Make</th>\n      <th>Brændstoftype</th>\n      <th>Gearkasse</th>\n      <th>Model</th>\n      <th>Kilometer</th>\n      <th>Årgang</th>\n      <th>Hestekræfter</th>\n      <th>Antal døre</th>\n      <th>Antal gear</th>\n      <th>Km/l</th>\n      <th>0 - 100 km/t</th>\n      <th>Tophastighed</th>\n      <th>Vægt</th>\n      <th>Grøn Ejerafgift</th>\n      <th>Nypris</th>\n      <th>Pris</th>\n    </tr>\n  </thead>\n  <tbody>\n    <tr>\n      <th>197</th>\n      <td>Mazda</td>\n      <td>Benzin</td>\n      <td>Automatisk</td>\n      <td>CX-3</td>\n      <td>85000</td>\n      <td>2016</td>\n      <td>120</td>\n      <td>5</td>\n      <td>6</td>\n      <td>17.2</td>\n      <td>9.9</td>\n      <td>187.0</td>\n      <td>1.198</td>\n      <td>1.88</td>\n      <td>290998.0</td>\n      <td>179500</td>\n    </tr>\n    <tr>\n      <th>280</th>\n      <td>Mazda</td>\n      <td>Benzin</td>\n      <td>Manuel</td>\n      <td>3</td>\n      <td>339000</td>\n      <td>2009</td>\n      <td>105</td>\n      <td>5</td>\n      <td>5</td>\n      <td>15.9</td>\n      <td>12.2</td>\n      <td>184.0</td>\n      <td>1.155</td>\n      <td>2.52</td>\n      <td>218049.0</td>\n      <td>24900</td>\n    </tr>\n    <tr>\n      <th>297</th>\n      <td>Mazda</td>\n      <td>Benzin</td>\n      <td>Manuel</td>\n      <td>3</td>\n      <td>37000</td>\n      <td>2014</td>\n      <td>165</td>\n      <td>5</td>\n      <td>6</td>\n      <td>17.2</td>\n      <td>8.2</td>\n      <td>210.0</td>\n      <td>1.295</td>\n      <td>1.88</td>\n      <td>266997.0</td>\n      <td>149700</td>\n    </tr>\n    <tr>\n      <th>334</th>\n      <td>Mazda</td>\n      <td>Benzin</td>\n      <td>Automatisk</td>\n      <td>CX-5</td>\n      <td>9000</td>\n      <td>2020</td>\n      <td>165</td>\n      <td>5</td>\n      <td>6</td>\n      <td>16.7</td>\n      <td>9.8</td>\n      <td>192.0</td>\n      <td>1.484</td>\n      <td>2.38</td>\n      <td>435918.0</td>\n      <td>399700</td>\n    </tr>\n    <tr>\n      <th>381</th>\n      <td>Mazda</td>\n      <td>Benzin</td>\n      <td>Manuel</td>\n      <td>5</td>\n      <td>140000</td>\n      <td>2010</td>\n      <td>146</td>\n      <td>5</td>\n      <td>6</td>\n      <td>12.7</td>\n      <td>10.2</td>\n      <td>194.0</td>\n      <td>1.485</td>\n      <td>4.36</td>\n      <td>312990.0</td>\n      <td>79900</td>\n    </tr>\n    <tr>\n      <th>...</th>\n      <td>...</td>\n      <td>...</td>\n      <td>...</td>\n      <td>...</td>\n      <td>...</td>\n      <td>...</td>\n      <td>...</td>\n      <td>...</td>\n      <td>...</td>\n      <td>...</td>\n      <td>...</td>\n      <td>...</td>\n      <td>...</td>\n      <td>...</td>\n      <td>...</td>\n      <td>...</td>\n    </tr>\n    <tr>\n      <th>19595</th>\n      <td>Mazda</td>\n      <td>Benzin</td>\n      <td>Automatisk</td>\n      <td>2</td>\n      <td>28000</td>\n      <td>2015</td>\n      <td>90</td>\n      <td>5</td>\n      <td>6</td>\n      <td>20.8</td>\n      <td>12.0</td>\n      <td>177.0</td>\n      <td>975.000</td>\n      <td>660.00</td>\n      <td>175620.0</td>\n      <td>149900</td>\n    </tr>\n    <tr>\n      <th>19682</th>\n      <td>Mazda</td>\n      <td>Benzin</td>\n      <td>Manuel</td>\n      <td>3</td>\n      <td>116000</td>\n      <td>2013</td>\n      <td>165</td>\n      <td>5</td>\n      <td>6</td>\n      <td>17.2</td>\n      <td>8.2</td>\n      <td>210.0</td>\n      <td>1.295</td>\n      <td>1.88</td>\n      <td>293392.0</td>\n      <td>125000</td>\n    </tr>\n    <tr>\n      <th>19841</th>\n      <td>Mazda</td>\n      <td>Benzin</td>\n      <td>Manuel</td>\n      <td>3</td>\n      <td>145000</td>\n      <td>2011</td>\n      <td>105</td>\n      <td>4</td>\n      <td>5</td>\n      <td>15.4</td>\n      <td>12.2</td>\n      <td>184.0</td>\n      <td>1.155</td>\n      <td>2.52</td>\n      <td>224999.0</td>\n      <td>59900</td>\n    </tr>\n    <tr>\n      <th>19861</th>\n      <td>Mazda</td>\n      <td>Benzin</td>\n      <td>Manuel</td>\n      <td>6</td>\n      <td>78000</td>\n      <td>2002</td>\n      <td>141</td>\n      <td>5</td>\n      <td>5</td>\n      <td>11.8</td>\n      <td>9.9</td>\n      <td>206.0</td>\n      <td>1.300</td>\n      <td>4.96</td>\n      <td>281989.0</td>\n      <td>29900</td>\n    </tr>\n    <tr>\n      <th>19935</th>\n      <td>Mazda</td>\n      <td>Benzin</td>\n      <td>Manuel</td>\n      <td>2</td>\n      <td>133000</td>\n      <td>2010</td>\n      <td>86</td>\n      <td>5</td>\n      <td>5</td>\n      <td>19.2</td>\n      <td>12.9</td>\n      <td>172.0</td>\n      <td>930.000</td>\n      <td>1.28</td>\n      <td>149992.0</td>\n      <td>52800</td>\n    </tr>\n  </tbody>\n</table>\n<p>279 rows × 16 columns</p>\n</div>"
          },
          "metadata": {}
        }
      ]
    },
    {
      "source": [
        "## Encoding categorical data"
      ],
      "cell_type": "markdown",
      "metadata": {}
    },
    {
      "cell_type": "code",
      "execution_count": 17,
      "metadata": {},
      "outputs": [],
      "source": [
        "from sklearn.compose import ColumnTransformer\n",
        "\n",
        "from sklearn import preprocessing\n",
        "le = preprocessing.LabelEncoder()\n",
        "X[:, 0] = le.fit_transform(X[:,0])\n",
        "X[:, 1] = le.fit_transform(X[:,1])\n",
        "X[:, 2] = le.fit_transform(X[:,2])\n",
        "X[:, 3] = le.fit_transform(X[:,3])"
      ]
    },
    {
      "cell_type": "markdown",
      "metadata": {
        "id": "WemVnqgeA70k",
        "colab_type": "text"
      },
      "source": [
        "## Splitting the dataset into the Training set and Test set"
      ]
    },
    {
      "cell_type": "code",
      "metadata": {
        "id": "Kb_v_ae-A-20",
        "colab_type": "code",
        "colab": {}
      },
      "source": [
        "from sklearn.model_selection import train_test_split\n",
        "X_train, X_test, y_train, y_test = train_test_split(X, y, test_size = 0.2, random_state = 0)"
      ],
      "execution_count": 18,
      "outputs": []
    },
    {
      "cell_type": "markdown",
      "metadata": {
        "id": "k-McZVsQBINc",
        "colab_type": "text"
      },
      "source": [
        "## Training the Multiple Linear Regression model on the Training set"
      ]
    },
    {
      "cell_type": "code",
      "metadata": {
        "id": "ywPjx0L1BMiD",
        "colab_type": "code",
        "colab": {}
      },
      "source": [
        "from sklearn.linear_model import LinearRegression\n",
        "regressor = LinearRegression()\n",
        "regressor.fit(X_train, y_train)"
      ],
      "execution_count": 19,
      "outputs": [
        {
          "output_type": "execute_result",
          "data": {
            "text/plain": [
              "LinearRegression()"
            ]
          },
          "metadata": {},
          "execution_count": 19
        }
      ]
    },
    {
      "cell_type": "markdown",
      "metadata": {
        "id": "xNkXL1YQBiBT",
        "colab_type": "text"
      },
      "source": [
        "## Predicting the Test set results"
      ]
    },
    {
      "cell_type": "code",
      "metadata": {
        "id": "TQKmwvtdBkyb",
        "colab_type": "code",
        "colab": {}
      },
      "source": [
        "y_pred = regressor.predict(X_test)\n",
        "np.set_printoptions(precision=2)\n",
        "print(np.concatenate((y_pred.reshape(len(y_pred),1), y_test.reshape(len(y_test),1)),1))"
      ],
      "execution_count": 20,
      "outputs": [
        {
          "output_type": "stream",
          "name": "stdout",
          "text": [
            "[[ 99143.17 112500.  ]\n [131867.05  79900.  ]\n [192807.19 169800.  ]\n [156653.41 134900.  ]\n [ 58847.41  89900.  ]\n [235187.42 139400.  ]\n [223146.33 329900.  ]\n [115639.94 109900.  ]\n [258668.46 333200.  ]\n [195061.07 172900.  ]\n [ 96403.06  81900.  ]\n [188606.69 179900.  ]\n [263547.72 234900.  ]\n [ 93044.56  84800.  ]\n [212259.94 212000.  ]\n [ 65645.43  32000.  ]\n [224187.95 228900.  ]\n [253589.49 329800.  ]\n [ 73032.61  49900.  ]\n [158772.49 154800.  ]\n [ 72389.7   44800.  ]\n [ 11444.09  32900.  ]\n [ 75633.02  84900.  ]\n [341358.48 369800.  ]\n [ 84434.14  79900.  ]\n [264588.63 244995.  ]\n [-66472.74   9500.  ]\n [115391.01 119900.  ]\n [ 74393.95  99900.  ]\n [ 65353.87 120000.  ]\n [ 29677.47  19900.  ]\n [147733.22 149900.  ]\n [ 83184.35  69800.  ]\n [ 90937.52  49900.  ]\n [158353.98 149900.  ]\n [202636.5  199990.  ]\n [131795.42 129900.  ]\n [ 62233.72  30000.  ]\n [309089.77 348990.  ]\n [138840.06 150000.  ]\n [310065.83 319800.  ]\n [184848.98 199900.  ]\n [223534.1  154900.  ]\n [141766.38 143800.  ]\n [-62979.     3500.  ]\n [157056.31 139900.  ]\n [167351.63 149995.  ]\n [-58915.57   9990.  ]\n [215606.49 189900.  ]\n [-16755.45  42800.  ]\n [157827.41 119700.  ]\n [181346.8  159800.  ]\n [194293.78 204900.  ]\n [253838.21 249900.  ]\n [282166.15 239800.  ]\n [225046.03 238700.  ]]\n"
          ]
        }
      ]
    },
    {
      "cell_type": "markdown",
      "metadata": {
        "id": "50DZZy0UyhLi",
        "colab_type": "text"
      },
      "source": [
        "## Evaluating the Model Performance"
      ]
    },
    {
      "cell_type": "code",
      "metadata": {
        "id": "xPagAOKDywV4",
        "colab_type": "code",
        "colab": {}
      },
      "source": [
        "from sklearn.metrics import r2_score\n",
        "r2_score(y_test, y_pred)"
      ],
      "execution_count": 21,
      "outputs": [
        {
          "output_type": "execute_result",
          "data": {
            "text/plain": [
              "0.8344923126164558"
            ]
          },
          "metadata": {},
          "execution_count": 21
        }
      ]
    }
  ]
}